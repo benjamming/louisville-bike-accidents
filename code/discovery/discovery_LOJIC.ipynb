{
 "cells": [
  {
   "cell_type": "markdown",
   "metadata": {},
   "source": [
    "# Discovery notebook for cycling crash data\n",
    "\n",
    "Crash data from 2016 to 2023.\n",
    "\n",
    "This data came from the Louisville Open Data portal\n",
    "\n",
    "Source: https://data.louisvilleky.gov/datasets/\n",
    "\n",
    "LOJIC::louisville-metro-ky-traffic-fatalities-and-suspected-serious-injuries-1/explore\n",
    "\n",
    "Shape: 4901 rows x 44 columns"
   ]
  },
  {
   "cell_type": "markdown",
   "metadata": {},
   "source": [
    "\n",
    "## LOJIC data dictionary\n",
    "\n",
    "| column name | type | description | value notes | cleaning notes | \n",
    "|-------------|------|-------------|-------------|----------------|\n",
    "| X | number | X dimension of a geographic coordinate for crash | longitude | redundant; drop|\n",
    "| Y | number | Y dimention of a geographic coordinate for crash | latitude | redundant; drop| \n",
    "| IncidentID | number | ID number for crash || keep|\n",
    "| AgencyName | string | Agency responsible for handling crash response. || keep |\n",
    "| RdwyNumber | alphanumeric |Roadway number| Something like KY105 or I71| keep |\n",
    "| Street | number | Street/Building number where crash occurred.| |keep|\n",
    "| StreetDir | string | Directional code for street | N, W, S, etc. | keep | \n",
    "| RoadwayName | string | Name of street where crash happened. || keep |\n",
    "| StreetSfx | string | Street name suffix where crash happened | ST, RD, AVE, etc | keep |\n",
    "| OWNER | string | Jurisdiction for road | STATE, FEDERAL, COUNTY, etc| keep|\n",
    "| ROAD_CLASSIFICATION | string ||||\n",
    "| COUNCIL_DISTRICT | number | Louisville Metro council district where crash happened || Interesting, but no such column in other data. Would need to generate it to do anything useful. |\n",
    "| IntersectionRdwy | alphanumeric | Roadway number for road intersection main crash site.  | I71, KY51 etc | keep |\n",
    "| IntersectionRdwyName | string | Name of road intersecting main road where crash happened || keep |\n",
    "| BetweenStRdwy1 | alphanumeric | Roadway number for 1st between street || keep |\n",
    "| BetweenStRdwyName1 |string|Roadway name for 1st between street||keep|\n",
    "| BetweenStRdwy2 |alphanumeric| Roadway number for 2nd between street||keep|\n",
    "| BetweenStRdwyName2 |string|Roadway name for 2nd between street|| keep |\n",
    "| Latitude | float | Latitude coordinate for crash || ==Y; keep this; discard Y|\n",
    "| Longitude |float | Longitude coordinate for crash || ==X; keep this; discard X|\n",
    "| Milepoint | float | Milepoint along road where crash occurred || useful for highways?|\n",
    "| DAY_OF_WEEK | string | Day of week crash occrred | MONDAY, TUESDAY, etc.| redundant? Can be derived from date data|\n",
    "| CollisionDate | alphanumeric | date/time crash occurred | YYYY/MM/DD HH:MM:SS+milliseconds | parse and compare with other time info: It doesn't match, see notebook. Date in in GMT/UTC time; information needs to be updated to EST|\n",
    "| CollisionTime |number | Time of crash | integer representation of crash time. Ex. 2:30 PM == 1430.0| keep for validation during cleaning, then drop |\n",
    "| HOUR_OF_DAY | alphanumeric | Time of day crash occurred | hour + AM/PM | redundant? Can be derived from other time data. |\n",
    "| UnitsInvolved | number | count of vehicles involved || keep |\n",
    "| MotorVehiclesInvolved | number | count of motor vehicles involved || keep |\n",
    "| MODE | string | type of vehicle crash| motor vehicle, bicycle, pedestrian, etc. | Do I need to keep this? |\n",
    "| NAME | string | Name of crash victim || drop |\n",
    "| AGE |number | age of crash victim || drop |\n",
    "| GENDER | string| gender of crash victim||drop|\n",
    "| SEVERITY |string | Boolean indicator: were people killed or injured in crash| SUSPECTED INJURY or FATALITY| find a way to make this work with the other dataset|\n",
    "| LINK | string | Link to news article about the crash || drop |\n",
    "| Weather | string | Description of weather conditions for crash. || keep |\n",
    "| RdwyConditionCode | Description of roadway condition for crash ||| keep|\n",
    "| HitandRun |boolean | Was the crash a hit and run? || nothing to do; keep|\n",
    "| DirAnalysisCode | string | Short description of crash. | Some of these have \"bicycle\" | Find all that have \"bicycle\" and be sure to include them. |\n",
    "| MannerofCollision |string ||||\n",
    "| RdwyCharacter |string||||\n",
    "| LightCondition |string||||\n",
    "| RampFromRdwyId |string| Ramp from roadway where crash happened. |all of these are null for bicycle crashes | drop|\n",
    "| RampToRdwyId |string| Ramp to roadway where crash happened. | all of these are null for bicycle crashs| drop |\n",
    "| IsSecondaryCollision | boolean | Was the crash a secondary collision? || nothing to do; keep |\n",
    "| ObjectId |number | unique identifier for row | | ? |\n"
   ]
  },
  {
   "cell_type": "markdown",
   "metadata": {},
   "source": [
    "## Exploring LOJIC data"
   ]
  },
  {
   "cell_type": "code",
   "execution_count": 4,
   "metadata": {},
   "outputs": [],
   "source": [
    "import pandas as pd\n",
    "import pyparsing as pyp\n",
    "import matplotlib\n",
    "\n",
    "from os import path\n"
   ]
  },
  {
   "cell_type": "code",
   "execution_count": 5,
   "metadata": {},
   "outputs": [],
   "source": [
    "DATAPATH = \"../../data/raw/Louisville_Metro_KY_-_Traffic_Fatalities_and_Suspected_Serious_Injuries.csv\"\n",
    "assert path.exists(DATAPATH)\n",
    "df = pd.read_csv(DATAPATH)\n"
   ]
  },
  {
   "cell_type": "markdown",
   "metadata": {},
   "source": [
    "Column names can be organized into groups of related data.\n",
    "\n",
    "### Geolocation\n",
    "['X', 'Y',  'Latitude', 'Longitude']\n",
    "\n",
    "### Police/authorities info\n",
    "['IncidentID', 'AgencyName']\n",
    "\n",
    "### Address/location information\n",
    "['RdwyNumber', 'Street', 'StreetDir', 'RoadwayName', 'StreetSfx',\n",
    "'IntersectionRdwy', 'IntersectionRdwyName',\n",
    "'BetweenStRdwy1', 'BetweenStRdwyName1', 'BetweenStRdwy2', 'BetweenStRdwyName2', \n",
    "'RampFromRdwyId', 'RampToRdwyId', \n",
    "'Milepoint']\n",
    "\n",
    "### Other road information\n",
    "['OWNER', 'ROAD_CLASSIFICATION', 'RdwyCharacter']\n",
    "\n",
    "### Time data\n",
    "['DAY_OF_WEEK', 'CollisionDate', 'CollisionTime', 'HOUR_OF_DAY']\n",
    "\n",
    "### Accident report information\n",
    "['UnitsInvolved', 'MotorVehiclesInvolved', 'MODE', 'NAME', 'AGE',\n",
    "'GENDER', 'SEVERITY', 'LINK', 'HitandRun', 'DirAnalysisCode', 'MannerofCollision', 'IsSecondaryCollision']\n",
    "### Road/weather/light conditions       \n",
    "['Weather', 'RdwyConditionCode', 'LightCondition']\n",
    "\n",
    "### Other data\n",
    "['COUNCIL_DISTRICT', 'ObjectId', ]"
   ]
  },
  {
   "cell_type": "markdown",
   "metadata": {},
   "source": [
    "# Columns"
   ]
  },
  {
   "cell_type": "markdown",
   "metadata": {},
   "source": [
    "### Crash analysis codes\n",
    "\n",
    "`['UnitsInvolved', 'MotorVehiclesInvolved', 'MODE', 'NAME', 'AGE',\n",
    "'GENDER', 'SEVERITY', 'LINK', 'HitandRun', 'DirAnalysisCode', 'MannerofCollision',\n",
    " 'IsSecondaryCollision', 'RdwyCharacter']`"
   ]
  },
  {
   "cell_type": "code",
   "execution_count": 6,
   "metadata": {},
   "outputs": [
    {
     "name": "stdout",
     "output_type": "stream",
     "text": [
      "<class 'pandas.core.series.Series'>\n",
      "RangeIndex: 4952 entries, 0 to 4951\n",
      "Series name: NAME\n",
      "Non-Null Count  Dtype \n",
      "--------------  ----- \n",
      "4952 non-null   object\n",
      "dtypes: object(1)\n",
      "memory usage: 38.8+ KB\n"
     ]
    }
   ],
   "source": [
    "df['NAME'].info()\n",
    "# Name of crash vintim"
   ]
  },
  {
   "cell_type": "code",
   "execution_count": 7,
   "metadata": {},
   "outputs": [
    {
     "name": "stdout",
     "output_type": "stream",
     "text": [
      "<class 'pandas.core.series.Series'>\n",
      "RangeIndex: 4952 entries, 0 to 4951\n",
      "Series name: AGE\n",
      "Non-Null Count  Dtype  \n",
      "--------------  -----  \n",
      "4909 non-null   float64\n",
      "dtypes: float64(1)\n",
      "memory usage: 38.8 KB\n"
     ]
    },
    {
     "data": {
      "text/plain": [
       "count    4909.000000\n",
       "mean       39.423100\n",
       "std        18.009665\n",
       "min         0.000000\n",
       "25%        25.000000\n",
       "50%        37.000000\n",
       "75%        52.000000\n",
       "max        96.000000\n",
       "Name: AGE, dtype: float64"
      ]
     },
     "execution_count": 7,
     "metadata": {},
     "output_type": "execute_result"
    }
   ],
   "source": [
    "df['AGE'].info()\n",
    "df['AGE'].describe()\n",
    "# Age of crash victim. \n",
    "\n"
   ]
  },
  {
   "cell_type": "code",
   "execution_count": 8,
   "metadata": {},
   "outputs": [
    {
     "data": {
      "text/plain": [
       "GENDER\n",
       "MALE       3105\n",
       "FEMALE     1844\n",
       "UNKNOWN       3\n",
       "Name: count, dtype: int64"
      ]
     },
     "execution_count": 8,
     "metadata": {},
     "output_type": "execute_result"
    }
   ],
   "source": [
    "df['GENDER'].value_counts()\n",
    "# Gender of crash victim"
   ]
  },
  {
   "cell_type": "code",
   "execution_count": 9,
   "metadata": {},
   "outputs": [
    {
     "data": {
      "text/plain": [
       "218     https://www.wave3.com/story/34390702/2nd-pedes...\n",
       "220     https://www.wave3.com/story/34390702/2nd-pedes...\n",
       "635     https://www.wdrb.com/news/update-officials-rel...\n",
       "636     https://www.wdrb.com/news/update-officials-rel...\n",
       "669     https://www.courier-journal.com/story/news/loc...\n",
       "                              ...                        \n",
       "4930    https://www.wave3.com/2023/09/28/family-rememb...\n",
       "4932    https://www.wlky.com/article/john-marshall-gen...\n",
       "4934    https://www.wdrb.com/news/days-later-no-new-in...\n",
       "4941    https://www.wave3.com/2022/11/04/pedestrian-cr...\n",
       "4949    https://www.whas11.com/article/news/crime/fata...\n",
       "Name: LINK, Length: 486, dtype: object"
      ]
     },
     "execution_count": 9,
     "metadata": {},
     "output_type": "execute_result"
    }
   ],
   "source": [
    "df[df[\"LINK\"].notnull()]['LINK']\n",
    "# Links to articles about crashes."
   ]
  },
  {
   "cell_type": "markdown",
   "metadata": {},
   "source": [
    "I don't think I can use NAME, AGE, GENDER, or LINK. Dropping them from data. \n"
   ]
  },
  {
   "cell_type": "code",
   "execution_count": 10,
   "metadata": {},
   "outputs": [
    {
     "data": {
      "text/plain": [
       "MODE\n",
       "MOTOR VEHICLE    3372\n",
       "PEDESTRIAN        728\n",
       "MOTORCYCLE        603\n",
       "MOTOR SCOOTER     132\n",
       "BICYCLE           117\n",
       "Name: count, dtype: int64"
      ]
     },
     "execution_count": 10,
     "metadata": {},
     "output_type": "execute_result"
    }
   ],
   "source": [
    "df['MODE'].value_counts()"
   ]
  },
  {
   "cell_type": "markdown",
   "metadata": {},
   "source": [
    "\n",
    "Some of the rows in this data represent other types of accidents: with motorcycles, pedestrians, cars.\n",
    "I don't need these records so I will also drop the ones that aren't bicycle accidents.\n",
    "\n",
    "Now to find those records:"
   ]
  },
  {
   "cell_type": "code",
   "execution_count": 11,
   "metadata": {},
   "outputs": [
    {
     "data": {
      "text/plain": [
       "['COLLISION WITH BICYCLE IN INTERSECTION',\n",
       " 'COLLISION WITH BICYCLIST NON INTERSECTION']"
      ]
     },
     "execution_count": 11,
     "metadata": {},
     "output_type": "execute_result"
    }
   ],
   "source": [
    "# However, there are bicycle accidents that aren't coded as BICYCLE.\n",
    "[C for C  in df['DirAnalysisCode'].dropna().unique() if \"BICYC\" in C]"
   ]
  },
  {
   "cell_type": "code",
   "execution_count": 12,
   "metadata": {},
   "outputs": [
    {
     "data": {
      "text/html": [
       "<div>\n",
       "<style scoped>\n",
       "    .dataframe tbody tr th:only-of-type {\n",
       "        vertical-align: middle;\n",
       "    }\n",
       "\n",
       "    .dataframe tbody tr th {\n",
       "        vertical-align: top;\n",
       "    }\n",
       "\n",
       "    .dataframe thead th {\n",
       "        text-align: right;\n",
       "    }\n",
       "</style>\n",
       "<table border=\"1\" class=\"dataframe\">\n",
       "  <thead>\n",
       "    <tr style=\"text-align: right;\">\n",
       "      <th></th>\n",
       "      <th>X</th>\n",
       "      <th>Y</th>\n",
       "      <th>IncidentID</th>\n",
       "      <th>AgencyName</th>\n",
       "      <th>RdwyNumber</th>\n",
       "      <th>Street</th>\n",
       "      <th>StreetDir</th>\n",
       "      <th>RoadwayName</th>\n",
       "      <th>StreetSfx</th>\n",
       "      <th>OWNER</th>\n",
       "      <th>...</th>\n",
       "      <th>RdwyConditionCode</th>\n",
       "      <th>HitandRun</th>\n",
       "      <th>DirAnalysisCode</th>\n",
       "      <th>MannerofCollision</th>\n",
       "      <th>RdwyCharacter</th>\n",
       "      <th>LightCondition</th>\n",
       "      <th>RampFromRdwyId</th>\n",
       "      <th>RampToRdwyId</th>\n",
       "      <th>IsSecondaryCollision</th>\n",
       "      <th>ObjectId</th>\n",
       "    </tr>\n",
       "  </thead>\n",
       "  <tbody>\n",
       "    <tr>\n",
       "      <th>2176</th>\n",
       "      <td>-85.635083</td>\n",
       "      <td>38.275002</td>\n",
       "      <td>24938938</td>\n",
       "      <td>LOUISVILLE METRO POLICE DEPT</td>\n",
       "      <td>NaN</td>\n",
       "      <td>NaN</td>\n",
       "      <td>NaN</td>\n",
       "      <td>RUDY</td>\n",
       "      <td>LN</td>\n",
       "      <td>METRO</td>\n",
       "      <td>...</td>\n",
       "      <td>DRY</td>\n",
       "      <td>False</td>\n",
       "      <td>COLLISION WITH BICYCLIST NON INTERSECTION</td>\n",
       "      <td>SINGLE VEHICLE</td>\n",
       "      <td>STRAIGHT &amp; LEVEL</td>\n",
       "      <td>DAYLIGHT</td>\n",
       "      <td>NaN</td>\n",
       "      <td>NaN</td>\n",
       "      <td>True</td>\n",
       "      <td>2177</td>\n",
       "    </tr>\n",
       "    <tr>\n",
       "      <th>3324</th>\n",
       "      <td>-85.632691</td>\n",
       "      <td>38.222475</td>\n",
       "      <td>28225429</td>\n",
       "      <td>LOUISVILLE METRO POLICE DEPT</td>\n",
       "      <td>KY1932</td>\n",
       "      <td>NaN</td>\n",
       "      <td>NaN</td>\n",
       "      <td>BRECKENRIDGE</td>\n",
       "      <td>LN</td>\n",
       "      <td>STATE</td>\n",
       "      <td>...</td>\n",
       "      <td>DRY</td>\n",
       "      <td>False</td>\n",
       "      <td>COLLISION WITH BICYCLE IN INTERSECTION</td>\n",
       "      <td>SINGLE VEHICLE</td>\n",
       "      <td>STRAIGHT &amp; LEVEL</td>\n",
       "      <td>DARK (UNKNOWN ROADWAY LIGHTING)</td>\n",
       "      <td>NaN</td>\n",
       "      <td>NaN</td>\n",
       "      <td>False</td>\n",
       "      <td>3325</td>\n",
       "    </tr>\n",
       "  </tbody>\n",
       "</table>\n",
       "<p>2 rows × 44 columns</p>\n",
       "</div>"
      ],
      "text/plain": [
       "              X          Y  IncidentID                    AgencyName  \\\n",
       "2176 -85.635083  38.275002    24938938  LOUISVILLE METRO POLICE DEPT   \n",
       "3324 -85.632691  38.222475    28225429  LOUISVILLE METRO POLICE DEPT   \n",
       "\n",
       "     RdwyNumber Street StreetDir   RoadwayName StreetSfx  OWNER  ...  \\\n",
       "2176        NaN    NaN       NaN          RUDY        LN  METRO  ...   \n",
       "3324     KY1932    NaN       NaN  BRECKENRIDGE        LN  STATE  ...   \n",
       "\n",
       "     RdwyConditionCode  HitandRun                            DirAnalysisCode  \\\n",
       "2176               DRY      False  COLLISION WITH BICYCLIST NON INTERSECTION   \n",
       "3324               DRY      False     COLLISION WITH BICYCLE IN INTERSECTION   \n",
       "\n",
       "     MannerofCollision     RdwyCharacter                   LightCondition  \\\n",
       "2176    SINGLE VEHICLE  STRAIGHT & LEVEL                         DAYLIGHT   \n",
       "3324    SINGLE VEHICLE  STRAIGHT & LEVEL  DARK (UNKNOWN ROADWAY LIGHTING)   \n",
       "\n",
       "     RampFromRdwyId RampToRdwyId  IsSecondaryCollision  ObjectId  \n",
       "2176            NaN          NaN                  True      2177  \n",
       "3324            NaN          NaN                 False      3325  \n",
       "\n",
       "[2 rows x 44 columns]"
      ]
     },
     "execution_count": 12,
     "metadata": {},
     "output_type": "execute_result"
    }
   ],
   "source": [
    "# However, there are bicycle accidents that aren't coded as BICYCLE.\n",
    "DA_bike = df[(df['DirAnalysisCode'].str.contains(\"BI\") == True)]\n",
    "DA_bike[DA_bike['MODE'] != \"BICYCLE\"]"
   ]
  },
  {
   "cell_type": "code",
   "execution_count": 13,
   "metadata": {},
   "outputs": [
    {
     "data": {
      "text/plain": [
       "117"
      ]
     },
     "execution_count": 13,
     "metadata": {},
     "output_type": "execute_result"
    }
   ],
   "source": [
    "len(df[df['MODE'] == \"BICYCLE\"])\n"
   ]
  },
  {
   "cell_type": "code",
   "execution_count": 14,
   "metadata": {},
   "outputs": [
    {
     "data": {
      "text/plain": [
       "array(['ANGLE COLLISION - BOTH VEHICLES GOING STRAIGHT',\n",
       "       'COLLISION WITH PEDESTRIAN NON - INTERSECTION',\n",
       "       'OPPOSITE DIRECTION - BOTH VEHICLES GOING STRAIGHT AHEAD',\n",
       "       'OTHER COLLISIONS ON SHOULDER',\n",
       "       'SIDESWIPE COLLISION - SAME DIRECTION',\n",
       "       'REAR END IN TRAFFIC ONE VEHICLE STOPPED',\n",
       "       'COLLISION WITH FIXED OBJECT NON - INTERSECTION - FIRST EVENT COLLISION 09 - 32 EXCLUDING 16',\n",
       "       'VEHICLE GOING IN WRONG DIRECTION',\n",
       "       'ANGLE COLLISION - ONE VEHICLE TURNING LEFT',\n",
       "       'REAR END IN TRAFFIC LANES BOTH VEHICLES MOVING',\n",
       "       'REAR END - ONE VEHICLE STOPPED',\n",
       "       '1 VEHICLE PARKED POSITION (NOT PARKING LOT/DRIVEWAY)',\n",
       "       'OTHER ROADWAY OR MID-BLOCK COLLISION', 'HEAD-ON COLLISION',\n",
       "       'COLLISION WITH FIXED OBJECT IN INTERSECTION - FIRST EVENT COLLISION 09 - 32',\n",
       "       'COLLISION WITH PEDESTRIAN IN INTERSECTION', 'OPPOSING LEFT TURN',\n",
       "       'RAN OFF ROADWAY (1 VEHICLE WITH/EARTH EMBANKMENT/DITCH)',\n",
       "       'OVERTURNED IN ROADWAY', 'COLLISION WITH BICYCLE IN INTERSECTION',\n",
       "       'OCCUPANT FELL FROM MOVING VEHICLE',\n",
       "       'SIDESWIPE COLLISION - OPPOSITE DIRECTION',\n",
       "       'OTHER INTERSECTION COLLISIONS',\n",
       "       '1 VEHICLE ENTERING/LEAVING ENTRANCE',\n",
       "       'ANGLE COLLISION - ONE VEHICLE TURNING RIGHT',\n",
       "       'COLLISION WITH TRAIN', 'ANGLE COLLISION - OTHER',\n",
       "       'COLLISION IN PARKING LOT', 'REAR END - OTHER',\n",
       "       'COLLISION WITH NON-FIXED OBJECT ', 'REAR END - ON RAMP',\n",
       "       'COLLISION WITH FIXED OBJECT NOT IN GORE ',\n",
       "       'COLLISION WITH BICYCLIST NON INTERSECTION',\n",
       "       'COLLISION WITH PARKED VEHICLE', 'RAMP - VEHICLE RAN OFF ROADWAY ',\n",
       "       'REAR END - BOTH VEHICLES GOING STRAIGHT ',\n",
       "       'NON-COLLISION OBJECT COLLISION', 'SIDESWIPE-SAME DIRECTION',\n",
       "       'OTHER RAMP RELATED COLLISIONS NOT LISTED ABOVE',\n",
       "       'OVERTURNED ON RAMP', 'VEHICLE BACKING IN INTERSECTION',\n",
       "       '1 VEHICLE ENTERING OR LEAVING PARKED POSITION (NOT PARKING LOT)',\n",
       "       'MULTIPLE VEHICLE COLLISION ON RAMP',\n",
       "       'COLLISION WITH ANIMAL NON INTERSECTION',\n",
       "       'REAR END - ONE VEHICLE TURNING LEFT',\n",
       "       'VEHICLE BACKING NON INTERSECTION', 'REAR END ON SHOULDER'],\n",
       "      dtype=object)"
      ]
     },
     "execution_count": 14,
     "metadata": {},
     "output_type": "execute_result"
    }
   ],
   "source": [
    "df['DirAnalysisCode'].dropna().unique()"
   ]
  },
  {
   "cell_type": "code",
   "execution_count": 15,
   "metadata": {},
   "outputs": [],
   "source": [
    "DA_bike = df[(df['DirAnalysisCode'].str.contains(\"BI\") == True) | (df[\"MODE\"] == \"BICYCLE\")]\n",
    "DA_bike\n",
    "# 2 + 117 = 119 records. Great. I will drop the rows that don't match here. \n",
    "df = DA_bike\n"
   ]
  },
  {
   "cell_type": "markdown",
   "metadata": {},
   "source": [
    "#### Crash analysis codes: boolean indicators"
   ]
  },
  {
   "cell_type": "code",
   "execution_count": 16,
   "metadata": {},
   "outputs": [
    {
     "data": {
      "text/html": [
       "<div>\n",
       "<style scoped>\n",
       "    .dataframe tbody tr th:only-of-type {\n",
       "        vertical-align: middle;\n",
       "    }\n",
       "\n",
       "    .dataframe tbody tr th {\n",
       "        vertical-align: top;\n",
       "    }\n",
       "\n",
       "    .dataframe thead th {\n",
       "        text-align: right;\n",
       "    }\n",
       "</style>\n",
       "<table border=\"1\" class=\"dataframe\">\n",
       "  <thead>\n",
       "    <tr style=\"text-align: right;\">\n",
       "      <th></th>\n",
       "      <th>HitandRun</th>\n",
       "      <th>IsSecondaryCollision</th>\n",
       "    </tr>\n",
       "  </thead>\n",
       "  <tbody>\n",
       "    <tr>\n",
       "      <th>49</th>\n",
       "      <td>False</td>\n",
       "      <td>False</td>\n",
       "    </tr>\n",
       "    <tr>\n",
       "      <th>231</th>\n",
       "      <td>False</td>\n",
       "      <td>False</td>\n",
       "    </tr>\n",
       "    <tr>\n",
       "      <th>388</th>\n",
       "      <td>False</td>\n",
       "      <td>False</td>\n",
       "    </tr>\n",
       "    <tr>\n",
       "      <th>435</th>\n",
       "      <td>False</td>\n",
       "      <td>False</td>\n",
       "    </tr>\n",
       "    <tr>\n",
       "      <th>483</th>\n",
       "      <td>False</td>\n",
       "      <td>False</td>\n",
       "    </tr>\n",
       "    <tr>\n",
       "      <th>...</th>\n",
       "      <td>...</td>\n",
       "      <td>...</td>\n",
       "    </tr>\n",
       "    <tr>\n",
       "      <th>4821</th>\n",
       "      <td>True</td>\n",
       "      <td>False</td>\n",
       "    </tr>\n",
       "    <tr>\n",
       "      <th>4840</th>\n",
       "      <td>False</td>\n",
       "      <td>False</td>\n",
       "    </tr>\n",
       "    <tr>\n",
       "      <th>4901</th>\n",
       "      <td>False</td>\n",
       "      <td>False</td>\n",
       "    </tr>\n",
       "    <tr>\n",
       "      <th>4912</th>\n",
       "      <td>False</td>\n",
       "      <td>False</td>\n",
       "    </tr>\n",
       "    <tr>\n",
       "      <th>4927</th>\n",
       "      <td>True</td>\n",
       "      <td>False</td>\n",
       "    </tr>\n",
       "  </tbody>\n",
       "</table>\n",
       "<p>119 rows × 2 columns</p>\n",
       "</div>"
      ],
      "text/plain": [
       "      HitandRun  IsSecondaryCollision\n",
       "49        False                 False\n",
       "231       False                 False\n",
       "388       False                 False\n",
       "435       False                 False\n",
       "483       False                 False\n",
       "...         ...                   ...\n",
       "4821       True                 False\n",
       "4840      False                 False\n",
       "4901      False                 False\n",
       "4912      False                 False\n",
       "4927       True                 False\n",
       "\n",
       "[119 rows x 2 columns]"
      ]
     },
     "execution_count": 16,
     "metadata": {},
     "output_type": "execute_result"
    }
   ],
   "source": [
    "# Boolean indicators\n",
    "df[['HitandRun', 'IsSecondaryCollision']]\n",
    "# Already set up as boolean values, no Y/N 1/0 nonsense."
   ]
  },
  {
   "cell_type": "markdown",
   "metadata": {},
   "source": [
    "#### Crash analysis codes: other"
   ]
  },
  {
   "cell_type": "markdown",
   "metadata": {},
   "source": [
    "Units involved"
   ]
  },
  {
   "cell_type": "code",
   "execution_count": 17,
   "metadata": {},
   "outputs": [
    {
     "data": {
      "text/html": [
       "<div>\n",
       "<style scoped>\n",
       "    .dataframe tbody tr th:only-of-type {\n",
       "        vertical-align: middle;\n",
       "    }\n",
       "\n",
       "    .dataframe tbody tr th {\n",
       "        vertical-align: top;\n",
       "    }\n",
       "\n",
       "    .dataframe thead th {\n",
       "        text-align: right;\n",
       "    }\n",
       "</style>\n",
       "<table border=\"1\" class=\"dataframe\">\n",
       "  <thead>\n",
       "    <tr style=\"text-align: right;\">\n",
       "      <th></th>\n",
       "      <th>UnitsInvolved</th>\n",
       "      <th>MotorVehiclesInvolved</th>\n",
       "    </tr>\n",
       "  </thead>\n",
       "  <tbody>\n",
       "    <tr>\n",
       "      <th>0</th>\n",
       "      <td>NaN</td>\n",
       "      <td>3.0</td>\n",
       "    </tr>\n",
       "    <tr>\n",
       "      <th>1</th>\n",
       "      <td>4.0</td>\n",
       "      <td>111.0</td>\n",
       "    </tr>\n",
       "    <tr>\n",
       "      <th>2</th>\n",
       "      <td>108.0</td>\n",
       "      <td>3.0</td>\n",
       "    </tr>\n",
       "    <tr>\n",
       "      <th>3</th>\n",
       "      <td>5.0</td>\n",
       "      <td>1.0</td>\n",
       "    </tr>\n",
       "    <tr>\n",
       "      <th>4</th>\n",
       "      <td>1.0</td>\n",
       "      <td>1.0</td>\n",
       "    </tr>\n",
       "    <tr>\n",
       "      <th>5</th>\n",
       "      <td>1.0</td>\n",
       "      <td>NaN</td>\n",
       "    </tr>\n",
       "  </tbody>\n",
       "</table>\n",
       "</div>"
      ],
      "text/plain": [
       "   UnitsInvolved  MotorVehiclesInvolved\n",
       "0            NaN                    3.0\n",
       "1            4.0                  111.0\n",
       "2          108.0                    3.0\n",
       "3            5.0                    1.0\n",
       "4            1.0                    1.0\n",
       "5            1.0                    NaN"
      ]
     },
     "execution_count": 17,
     "metadata": {},
     "output_type": "execute_result"
    }
   ],
   "source": [
    "# Now to look at other codes more closely.\n",
    "df[['UnitsInvolved', 'MotorVehiclesInvolved']].apply(lambda x:x.value_counts())\n",
    "         \n",
    "         "
   ]
  },
  {
   "cell_type": "code",
   "execution_count": 18,
   "metadata": {},
   "outputs": [
    {
     "data": {
      "text/plain": [
       "<Axes: xlabel='UnitsInvolved'>"
      ]
     },
     "execution_count": 18,
     "metadata": {},
     "output_type": "execute_result"
    },
    {
     "data": {
      "image/png": "[encoded data removed]",
      "text/plain": [
       "<Figure size 640x480 with 1 Axes>"
      ]
     },
     "metadata": {},
     "output_type": "display_data"
    }
   ],
   "source": [
    "# Number of vehicles involves and # of motor vehicles.\n",
    "ax = df['UnitsInvolved'].sort_values().value_counts(sort=False).plot(kind='bar')\n",
    "ax.bar_label(ax.containers[0])\n",
    "ax\n"
   ]
  },
  {
   "cell_type": "code",
   "execution_count": 19,
   "metadata": {},
   "outputs": [
    {
     "data": {
      "text/plain": [
       "<Axes: xlabel='MotorVehiclesInvolved'>"
      ]
     },
     "execution_count": 19,
     "metadata": {},
     "output_type": "execute_result"
    },
    {
     "data": {
      "image/png": "[encoded data removed]",
      "text/plain": [
       "<Figure size 640x480 with 1 Axes>"
      ]
     },
     "metadata": {},
     "output_type": "display_data"
    }
   ],
   "source": [
    "ax = df['MotorVehiclesInvolved'].sort_values().value_counts(sort=False).plot(kind='bar')\n",
    "ax.bar_label(ax.containers[0])\n",
    "ax\n"
   ]
  },
  {
   "cell_type": "code",
   "execution_count": 20,
   "metadata": {},
   "outputs": [
    {
     "data": {
      "image/png": "[encoded data removed]",
      "text/plain": [
       "<Figure size 640x480 with 1 Axes>"
      ]
     },
     "metadata": {},
     "output_type": "display_data"
    }
   ],
   "source": [
    "units = df[['UnitsInvolved', 'MotorVehiclesInvolved']]\n",
    "ax = units.apply(lambda x : x.value_counts()).plot(kind='barh')\n",
    "for container in ax.containers:\n",
    "    ax.bar_label(container)\n",
    "# Ugly graph but it gets the point across, kind of. \n",
    "# At the very least, the order of the legend should be reversed. "
   ]
  },
  {
   "cell_type": "markdown",
   "metadata": {},
   "source": [
    "Severity"
   ]
  },
  {
   "cell_type": "code",
   "execution_count": 21,
   "metadata": {},
   "outputs": [
    {
     "data": {
      "text/plain": [
       "SEVERITY\n",
       "SUSPECTED SERIOUS INJURY    93\n",
       "FATALITY                    26\n",
       "Name: count, dtype: int64"
      ]
     },
     "execution_count": 21,
     "metadata": {},
     "output_type": "execute_result"
    }
   ],
   "source": [
    "df['SEVERITY'].value_counts(dropna=False)\n",
    "# This doesn't look the way KILLED/INJURED data looks in the other dataset.\n",
    "# In that case, it's a count of persons injured/killed in two columns\n",
    "# To make them compatible, I will create two boolean columns for killed/injured\n"
   ]
  },
  {
   "cell_type": "code",
   "execution_count": 22,
   "metadata": {},
   "outputs": [
    {
     "data": {
      "text/plain": [
       "SEVERITY                  fatality_indicator  injury_indicator\n",
       "SUSPECTED SERIOUS INJURY  False               True                93\n",
       "FATALITY                  True                False               26\n",
       "Name: count, dtype: int64"
      ]
     },
     "execution_count": 22,
     "metadata": {},
     "output_type": "execute_result"
    }
   ],
   "source": [
    "def is_fatality(string):\n",
    "    return string == \"FATALITY\"\n",
    "\n",
    "def is_injury(string):\n",
    "    return string == \"SUSPECTED SERIOUS INJURY\"\n",
    "\n",
    "severity = df['SEVERITY']\n",
    "fatalities = severity.apply(is_fatality)\n",
    "fatalities.name = 'fatality_indicator'\n",
    "injuries = severity.apply(is_injury)\n",
    "injuries.name = \"injury_indicator\"\n",
    "\n",
    "severity_fix = pd.concat((severity, fatalities, injuries), axis=1)\n",
    "severity_fix.value_counts()"
   ]
  },
  {
   "cell_type": "markdown",
   "metadata": {},
   "source": [
    "DirAnalysisCode"
   ]
  },
  {
   "cell_type": "code",
   "execution_count": 23,
   "metadata": {},
   "outputs": [
    {
     "data": {
      "text/plain": [
       "DirAnalysisCode\n",
       "COLLISION WITH BICYCLIST NON INTERSECTION       57\n",
       "COLLISION WITH BICYCLE IN INTERSECTION          45\n",
       "NaN                                              9\n",
       "COLLISION WITH PEDESTRIAN NON - INTERSECTION     2\n",
       "COLLISION WITH PEDESTRIAN IN INTERSECTION        2\n",
       "OTHER INTERSECTION COLLISIONS                    2\n",
       "OTHER ROADWAY OR MID-BLOCK COLLISION             1\n",
       "1 VEHICLE ENTERING/LEAVING ENTRANCE              1\n",
       "Name: count, dtype: int64"
      ]
     },
     "execution_count": 23,
     "metadata": {},
     "output_type": "execute_result"
    }
   ],
   "source": [
    "df['DirAnalysisCode'].value_counts(dropna=False)\n"
   ]
  },
  {
   "cell_type": "markdown",
   "metadata": {},
   "source": [
    "MannerofCollision"
   ]
  },
  {
   "cell_type": "code",
   "execution_count": 24,
   "metadata": {},
   "outputs": [
    {
     "data": {
      "text/plain": [
       "MannerofCollision\n",
       "SINGLE VEHICLE    113\n",
       "ANGLE               5\n",
       "HEAD ON             1\n",
       "Name: count, dtype: int64"
      ]
     },
     "execution_count": 24,
     "metadata": {},
     "output_type": "execute_result"
    }
   ],
   "source": [
    "df['MannerofCollision'].value_counts(dropna=False)\n"
   ]
  },
  {
   "cell_type": "markdown",
   "metadata": {},
   "source": [
    "\n",
    "##### Crash analysis codes: Road/weather/light conditions       \n",
    "`['Weather', 'RdwyConditionCode', 'LightCondition']`\n",
    "\n",
    "For this phase of discovery/cleaning, I'm not going to do anything with these but keep them. \n",
    "I'll take a look at the other data and see what the human readable strings for conditions look\n",
    "like. Hopefully, they'll be easy to match up."
   ]
  },
  {
   "cell_type": "code",
   "execution_count": 25,
   "metadata": {},
   "outputs": [
    {
     "data": {
      "text/plain": [
       "Weather\n",
       "CLEAR            90\n",
       "CLOUDY           20\n",
       "RAINING           7\n",
       "FOG WITH RAIN     1\n",
       "OTHER             1\n",
       "Name: count, dtype: int64"
      ]
     },
     "execution_count": 25,
     "metadata": {},
     "output_type": "execute_result"
    }
   ],
   "source": [
    "df[\"Weather\"].value_counts(dropna=False)"
   ]
  },
  {
   "cell_type": "code",
   "execution_count": 26,
   "metadata": {},
   "outputs": [
    {
     "data": {
      "text/plain": [
       "RdwyConditionCode\n",
       "DRY    106\n",
       "WET     13\n",
       "Name: count, dtype: int64"
      ]
     },
     "execution_count": 26,
     "metadata": {},
     "output_type": "execute_result"
    }
   ],
   "source": [
    "df[\"RdwyConditionCode\"].value_counts(dropna=False)"
   ]
  },
  {
   "cell_type": "code",
   "execution_count": 27,
   "metadata": {},
   "outputs": [
    {
     "data": {
      "text/plain": [
       "LightCondition\n",
       "DAYLIGHT                           60\n",
       "DARK-HWY NOT LIGHTED               23\n",
       "DARK-HWY LIGHTED/ON                20\n",
       "DUSK                                5\n",
       "DARK-HWY LIGHTED/OFF                4\n",
       "DAWN                                3\n",
       "DARK (UNKNOWN ROADWAY LIGHTING)     3\n",
       "OTHER                               1\n",
       "Name: count, dtype: int64"
      ]
     },
     "execution_count": 27,
     "metadata": {},
     "output_type": "execute_result"
    }
   ],
   "source": [
    "df[\"LightCondition\"].value_counts(dropna=False)"
   ]
  },
  {
   "cell_type": "markdown",
   "metadata": {},
   "source": [
    "#### Geolocation columns"
   ]
  },
  {
   "cell_type": "code",
   "execution_count": 28,
   "metadata": {},
   "outputs": [
    {
     "data": {
      "text/html": [
       "<div>\n",
       "<style scoped>\n",
       "    .dataframe tbody tr th:only-of-type {\n",
       "        vertical-align: middle;\n",
       "    }\n",
       "\n",
       "    .dataframe tbody tr th {\n",
       "        vertical-align: top;\n",
       "    }\n",
       "\n",
       "    .dataframe thead th {\n",
       "        text-align: right;\n",
       "    }\n",
       "</style>\n",
       "<table border=\"1\" class=\"dataframe\">\n",
       "  <thead>\n",
       "    <tr style=\"text-align: right;\">\n",
       "      <th></th>\n",
       "      <th>X</th>\n",
       "      <th>Y</th>\n",
       "      <th>IncidentID</th>\n",
       "      <th>AgencyName</th>\n",
       "      <th>RdwyNumber</th>\n",
       "      <th>Street</th>\n",
       "      <th>StreetDir</th>\n",
       "      <th>RoadwayName</th>\n",
       "      <th>StreetSfx</th>\n",
       "      <th>OWNER</th>\n",
       "      <th>...</th>\n",
       "      <th>RdwyConditionCode</th>\n",
       "      <th>HitandRun</th>\n",
       "      <th>DirAnalysisCode</th>\n",
       "      <th>MannerofCollision</th>\n",
       "      <th>RdwyCharacter</th>\n",
       "      <th>LightCondition</th>\n",
       "      <th>RampFromRdwyId</th>\n",
       "      <th>RampToRdwyId</th>\n",
       "      <th>IsSecondaryCollision</th>\n",
       "      <th>ObjectId</th>\n",
       "    </tr>\n",
       "  </thead>\n",
       "  <tbody>\n",
       "  </tbody>\n",
       "</table>\n",
       "<p>0 rows × 44 columns</p>\n",
       "</div>"
      ],
      "text/plain": [
       "Empty DataFrame\n",
       "Columns: [X, Y, IncidentID, AgencyName, RdwyNumber, Street, StreetDir, RoadwayName, StreetSfx, OWNER, ROAD_CLASSIFICATION, COUNCIL_DISTRICT, IntersectionRdwy, IntersectionRdwyName, BetweenStRdwy1, BetweenStRdwyName1, BetweenStRdwy2, BetweenStRdwyName2, Latitude, Longitude, Milepoint, DAY_OF_WEEK, CollisionDate, CollisionTime, HOUR_OF_DAY, UnitsInvolved, MotorVehiclesInvolved, MODE, NAME, AGE, GENDER, SEVERITY, LINK, Weather, RdwyConditionCode, HitandRun, DirAnalysisCode, MannerofCollision, RdwyCharacter, LightCondition, RampFromRdwyId, RampToRdwyId, IsSecondaryCollision, ObjectId]\n",
       "Index: []\n",
       "\n",
       "[0 rows x 44 columns]"
      ]
     },
     "execution_count": 28,
     "metadata": {},
     "output_type": "execute_result"
    }
   ],
   "source": [
    "df[['X', 'Y', 'Latitude', 'Longitude',]]\n",
    "df[df['X'] != df['Longitude']]\n",
    "# Returns empty dataframe. All records match\n",
    "df[df['Y'] != df['Latitude']]\n",
    "# Also empty\n",
    "# X == Longitude and Y == Latitude\n",
    "# Dropping X, Y, keeping Longitude, Latitude\n"
   ]
  },
  {
   "cell_type": "code",
   "execution_count": 29,
   "metadata": {},
   "outputs": [
    {
     "name": "stdout",
     "output_type": "stream",
     "text": [
      "<class 'pandas.core.series.Series'>\n",
      "Index: 119 entries, 49 to 4927\n",
      "Series name: IncidentID\n",
      "Non-Null Count  Dtype\n",
      "--------------  -----\n",
      "119 non-null    int64\n",
      "dtypes: int64(1)\n",
      "memory usage: 1.9 KB\n"
     ]
    },
    {
     "data": {
      "text/plain": [
       "117"
      ]
     },
     "execution_count": 29,
     "metadata": {},
     "output_type": "execute_result"
    }
   ],
   "source": [
    "# Identifying number for crash case\n",
    "ID = df['IncidentID']\n",
    "ID.info()\n",
    "len(ID.unique())\n",
    "# Not all IDs are unique!\n",
    "\n"
   ]
  },
  {
   "cell_type": "code",
   "execution_count": 30,
   "metadata": {},
   "outputs": [
    {
     "data": {
      "text/plain": [
       "<Axes: ylabel='COUNCIL_DISTRICT'>"
      ]
     },
     "execution_count": 30,
     "metadata": {},
     "output_type": "execute_result"
    },
    {
     "data": {
      "image/png": "[encoded data removed]",
      "text/plain": [
       "<Figure size 640x480 with 1 Axes>"
      ]
     },
     "metadata": {},
     "output_type": "display_data"
    }
   ],
   "source": [
    "\n",
    "\n",
    "# Metro council district where crash occurred\n",
    "CD = df['COUNCIL_DISTRICT']\n",
    "CD.unique()\n",
    "values = CD.value_counts().sort_index()\n",
    "values = values.sort_index()\n",
    "ax = values.plot(kind = 'barh')\n",
    "ax.bar_label(ax.containers[0])\n",
    "ax\n"
   ]
  },
  {
   "cell_type": "markdown",
   "metadata": {},
   "source": [
    "### Address columns\n",
    "\n",
    "\n",
    "#TODO\n",
    "Some of the *Name information has long strings. Deal with this"
   ]
  },
  {
   "cell_type": "code",
   "execution_count": 31,
   "metadata": {},
   "outputs": [
    {
     "data": {
      "text/html": [
       "<div>\n",
       "<style scoped>\n",
       "    .dataframe tbody tr th:only-of-type {\n",
       "        vertical-align: middle;\n",
       "    }\n",
       "\n",
       "    .dataframe tbody tr th {\n",
       "        vertical-align: top;\n",
       "    }\n",
       "\n",
       "    .dataframe thead th {\n",
       "        text-align: right;\n",
       "    }\n",
       "</style>\n",
       "<table border=\"1\" class=\"dataframe\">\n",
       "  <thead>\n",
       "    <tr style=\"text-align: right;\">\n",
       "      <th></th>\n",
       "      <th>RdwyNumber</th>\n",
       "      <th>Street</th>\n",
       "      <th>StreetDir</th>\n",
       "      <th>RoadwayName</th>\n",
       "      <th>StreetSfx</th>\n",
       "    </tr>\n",
       "  </thead>\n",
       "  <tbody>\n",
       "    <tr>\n",
       "      <th>49</th>\n",
       "      <td>NaN</td>\n",
       "      <td>NaN</td>\n",
       "      <td>NaN</td>\n",
       "      <td>BARRET</td>\n",
       "      <td>AVE</td>\n",
       "    </tr>\n",
       "    <tr>\n",
       "      <th>231</th>\n",
       "      <td>KY1934</td>\n",
       "      <td>NaN</td>\n",
       "      <td>NaN</td>\n",
       "      <td>GREENBELT</td>\n",
       "      <td>HWY</td>\n",
       "    </tr>\n",
       "    <tr>\n",
       "      <th>388</th>\n",
       "      <td>KY1851</td>\n",
       "      <td>NaN</td>\n",
       "      <td>NaN</td>\n",
       "      <td>HUTCHERSON</td>\n",
       "      <td>DR</td>\n",
       "    </tr>\n",
       "    <tr>\n",
       "      <th>435</th>\n",
       "      <td>NaN</td>\n",
       "      <td>NaN</td>\n",
       "      <td>W</td>\n",
       "      <td>HILL</td>\n",
       "      <td>ST</td>\n",
       "    </tr>\n",
       "    <tr>\n",
       "      <th>483</th>\n",
       "      <td>US0031W</td>\n",
       "      <td>16600</td>\n",
       "      <td>NaN</td>\n",
       "      <td>DIXIE</td>\n",
       "      <td>HWY</td>\n",
       "    </tr>\n",
       "    <tr>\n",
       "      <th>...</th>\n",
       "      <td>...</td>\n",
       "      <td>...</td>\n",
       "      <td>...</td>\n",
       "      <td>...</td>\n",
       "      <td>...</td>\n",
       "    </tr>\n",
       "    <tr>\n",
       "      <th>4821</th>\n",
       "      <td>KY1727</td>\n",
       "      <td>NaN</td>\n",
       "      <td>NaN</td>\n",
       "      <td>TERRY</td>\n",
       "      <td>RD</td>\n",
       "    </tr>\n",
       "    <tr>\n",
       "      <th>4840</th>\n",
       "      <td>NaN</td>\n",
       "      <td>4731</td>\n",
       "      <td>S</td>\n",
       "      <td>3RD</td>\n",
       "      <td>ST</td>\n",
       "    </tr>\n",
       "    <tr>\n",
       "      <th>4901</th>\n",
       "      <td>NaN</td>\n",
       "      <td>NaN</td>\n",
       "      <td>NaN</td>\n",
       "      <td>KRAMERS</td>\n",
       "      <td>LN</td>\n",
       "    </tr>\n",
       "    <tr>\n",
       "      <th>4912</th>\n",
       "      <td>KY1065</td>\n",
       "      <td>NaN</td>\n",
       "      <td>NaN</td>\n",
       "      <td>OUTER</td>\n",
       "      <td>LOOP</td>\n",
       "    </tr>\n",
       "    <tr>\n",
       "      <th>4927</th>\n",
       "      <td>KY0061</td>\n",
       "      <td>NaN</td>\n",
       "      <td>NaN</td>\n",
       "      <td>PRESTON</td>\n",
       "      <td>HWY</td>\n",
       "    </tr>\n",
       "  </tbody>\n",
       "</table>\n",
       "<p>119 rows × 5 columns</p>\n",
       "</div>"
      ],
      "text/plain": [
       "     RdwyNumber Street StreetDir RoadwayName StreetSfx\n",
       "49          NaN    NaN       NaN      BARRET       AVE\n",
       "231      KY1934    NaN       NaN   GREENBELT       HWY\n",
       "388      KY1851    NaN       NaN  HUTCHERSON        DR\n",
       "435         NaN    NaN         W        HILL        ST\n",
       "483     US0031W  16600       NaN       DIXIE       HWY\n",
       "...         ...    ...       ...         ...       ...\n",
       "4821     KY1727    NaN       NaN       TERRY        RD\n",
       "4840        NaN   4731         S         3RD        ST\n",
       "4901        NaN    NaN       NaN     KRAMERS        LN\n",
       "4912     KY1065    NaN       NaN       OUTER      LOOP\n",
       "4927     KY0061    NaN       NaN     PRESTON       HWY\n",
       "\n",
       "[119 rows x 5 columns]"
      ]
     },
     "execution_count": 31,
     "metadata": {},
     "output_type": "execute_result"
    }
   ],
   "source": [
    "# Main roadway information\n",
    "df[['RdwyNumber', 'Street', 'StreetDir', 'RoadwayName', 'StreetSfx']]"
   ]
  },
  {
   "cell_type": "code",
   "execution_count": 32,
   "metadata": {},
   "outputs": [
    {
     "data": {
      "text/html": [
       "<div>\n",
       "<style scoped>\n",
       "    .dataframe tbody tr th:only-of-type {\n",
       "        vertical-align: middle;\n",
       "    }\n",
       "\n",
       "    .dataframe tbody tr th {\n",
       "        vertical-align: top;\n",
       "    }\n",
       "\n",
       "    .dataframe thead th {\n",
       "        text-align: right;\n",
       "    }\n",
       "</style>\n",
       "<table border=\"1\" class=\"dataframe\">\n",
       "  <thead>\n",
       "    <tr style=\"text-align: right;\">\n",
       "      <th></th>\n",
       "      <th>IntersectionRdwy</th>\n",
       "      <th>IntersectionRdwyName</th>\n",
       "    </tr>\n",
       "  </thead>\n",
       "  <tbody>\n",
       "    <tr>\n",
       "      <th>49</th>\n",
       "      <td>NaN</td>\n",
       "      <td>WINTER</td>\n",
       "    </tr>\n",
       "    <tr>\n",
       "      <th>231</th>\n",
       "      <td>NaN</td>\n",
       "      <td>NaN</td>\n",
       "    </tr>\n",
       "    <tr>\n",
       "      <th>388</th>\n",
       "      <td>NaN</td>\n",
       "      <td>NaN</td>\n",
       "    </tr>\n",
       "    <tr>\n",
       "      <th>435</th>\n",
       "      <td>KY1020</td>\n",
       "      <td>3RD</td>\n",
       "    </tr>\n",
       "    <tr>\n",
       "      <th>483</th>\n",
       "      <td>NaN</td>\n",
       "      <td>NaN</td>\n",
       "    </tr>\n",
       "    <tr>\n",
       "      <th>...</th>\n",
       "      <td>...</td>\n",
       "      <td>...</td>\n",
       "    </tr>\n",
       "    <tr>\n",
       "      <th>4821</th>\n",
       "      <td>NaN</td>\n",
       "      <td>RIVER POINTE</td>\n",
       "    </tr>\n",
       "    <tr>\n",
       "      <th>4840</th>\n",
       "      <td>NaN</td>\n",
       "      <td>NaN</td>\n",
       "    </tr>\n",
       "    <tr>\n",
       "      <th>4901</th>\n",
       "      <td>NaN</td>\n",
       "      <td>NaN</td>\n",
       "    </tr>\n",
       "    <tr>\n",
       "      <th>4912</th>\n",
       "      <td>NaN</td>\n",
       "      <td>NaN</td>\n",
       "    </tr>\n",
       "    <tr>\n",
       "      <th>4927</th>\n",
       "      <td>NaN</td>\n",
       "      <td>LAMBERT</td>\n",
       "    </tr>\n",
       "  </tbody>\n",
       "</table>\n",
       "<p>119 rows × 2 columns</p>\n",
       "</div>"
      ],
      "text/plain": [
       "     IntersectionRdwy IntersectionRdwyName\n",
       "49                NaN               WINTER\n",
       "231               NaN                  NaN\n",
       "388               NaN                  NaN\n",
       "435            KY1020                  3RD\n",
       "483               NaN                  NaN\n",
       "...               ...                  ...\n",
       "4821              NaN         RIVER POINTE\n",
       "4840              NaN                  NaN\n",
       "4901              NaN                  NaN\n",
       "4912              NaN                  NaN\n",
       "4927              NaN              LAMBERT\n",
       "\n",
       "[119 rows x 2 columns]"
      ]
     },
     "execution_count": 32,
     "metadata": {},
     "output_type": "execute_result"
    }
   ],
   "source": [
    "\n",
    "# Intersection info\n",
    "df[['IntersectionRdwy', 'IntersectionRdwyName']]\n",
    "# Similar to other data\n"
   ]
  },
  {
   "cell_type": "code",
   "execution_count": 33,
   "metadata": {},
   "outputs": [
    {
     "data": {
      "text/html": [
       "<div>\n",
       "<style scoped>\n",
       "    .dataframe tbody tr th:only-of-type {\n",
       "        vertical-align: middle;\n",
       "    }\n",
       "\n",
       "    .dataframe tbody tr th {\n",
       "        vertical-align: top;\n",
       "    }\n",
       "\n",
       "    .dataframe thead th {\n",
       "        text-align: right;\n",
       "    }\n",
       "</style>\n",
       "<table border=\"1\" class=\"dataframe\">\n",
       "  <thead>\n",
       "    <tr style=\"text-align: right;\">\n",
       "      <th></th>\n",
       "      <th>BetweenStRdwy1</th>\n",
       "      <th>BetweenStRdwyName1</th>\n",
       "      <th>BetweenStRdwy2</th>\n",
       "      <th>BetweenStRdwyName2</th>\n",
       "    </tr>\n",
       "  </thead>\n",
       "  <tbody>\n",
       "    <tr>\n",
       "      <th>49</th>\n",
       "      <td>NaN</td>\n",
       "      <td>NaN</td>\n",
       "      <td>NaN</td>\n",
       "      <td>NaN</td>\n",
       "    </tr>\n",
       "    <tr>\n",
       "      <th>231</th>\n",
       "      <td>NaN</td>\n",
       "      <td>DISTRIBUTION</td>\n",
       "      <td>NaN</td>\n",
       "      <td>INTERMODAL</td>\n",
       "    </tr>\n",
       "    <tr>\n",
       "      <th>388</th>\n",
       "      <td>NaN</td>\n",
       "      <td>NaN</td>\n",
       "      <td>NaN</td>\n",
       "      <td>NaN</td>\n",
       "    </tr>\n",
       "    <tr>\n",
       "      <th>435</th>\n",
       "      <td>NaN</td>\n",
       "      <td>NaN</td>\n",
       "      <td>NaN</td>\n",
       "      <td>NaN</td>\n",
       "    </tr>\n",
       "    <tr>\n",
       "      <th>483</th>\n",
       "      <td>NaN</td>\n",
       "      <td>NaN</td>\n",
       "      <td>NaN</td>\n",
       "      <td>NaN</td>\n",
       "    </tr>\n",
       "    <tr>\n",
       "      <th>...</th>\n",
       "      <td>...</td>\n",
       "      <td>...</td>\n",
       "      <td>...</td>\n",
       "      <td>...</td>\n",
       "    </tr>\n",
       "    <tr>\n",
       "      <th>4821</th>\n",
       "      <td>NaN</td>\n",
       "      <td>NaN</td>\n",
       "      <td>NaN</td>\n",
       "      <td>NaN</td>\n",
       "    </tr>\n",
       "    <tr>\n",
       "      <th>4840</th>\n",
       "      <td>NaN</td>\n",
       "      <td>NaN</td>\n",
       "      <td>NaN</td>\n",
       "      <td>NaN</td>\n",
       "    </tr>\n",
       "    <tr>\n",
       "      <th>4901</th>\n",
       "      <td>NaN</td>\n",
       "      <td>NaN</td>\n",
       "      <td>NaN</td>\n",
       "      <td>NaN</td>\n",
       "    </tr>\n",
       "    <tr>\n",
       "      <th>4912</th>\n",
       "      <td>NaN</td>\n",
       "      <td>CAROL</td>\n",
       "      <td>NaN</td>\n",
       "      <td>NOLTEMEYER WYNDE</td>\n",
       "    </tr>\n",
       "    <tr>\n",
       "      <th>4927</th>\n",
       "      <td>NaN</td>\n",
       "      <td>NaN</td>\n",
       "      <td>NaN</td>\n",
       "      <td>NaN</td>\n",
       "    </tr>\n",
       "  </tbody>\n",
       "</table>\n",
       "<p>119 rows × 4 columns</p>\n",
       "</div>"
      ],
      "text/plain": [
       "     BetweenStRdwy1 BetweenStRdwyName1 BetweenStRdwy2 BetweenStRdwyName2\n",
       "49              NaN                NaN            NaN                NaN\n",
       "231             NaN       DISTRIBUTION            NaN         INTERMODAL\n",
       "388             NaN                NaN            NaN                NaN\n",
       "435             NaN                NaN            NaN                NaN\n",
       "483             NaN                NaN            NaN                NaN\n",
       "...             ...                ...            ...                ...\n",
       "4821            NaN                NaN            NaN                NaN\n",
       "4840            NaN                NaN            NaN                NaN\n",
       "4901            NaN                NaN            NaN                NaN\n",
       "4912            NaN              CAROL            NaN   NOLTEMEYER WYNDE\n",
       "4927            NaN                NaN            NaN                NaN\n",
       "\n",
       "[119 rows x 4 columns]"
      ]
     },
     "execution_count": 33,
     "metadata": {},
     "output_type": "execute_result"
    }
   ],
   "source": [
    "\n",
    "# Between streets info\n",
    "df[['BetweenStRdwy1', 'BetweenStRdwyName1', 'BetweenStRdwy2', 'BetweenStRdwyName2']]\n",
    "# Similar to other data and similar to main road report\n"
   ]
  },
  {
   "cell_type": "code",
   "execution_count": 34,
   "metadata": {},
   "outputs": [
    {
     "data": {
      "text/plain": [
       "714      I 0264\n",
       "1223    US0031W\n",
       "2791     KY2049\n",
       "4446     KY0841\n",
       "Name: BetweenStRdwy1, dtype: object"
      ]
     },
     "execution_count": 34,
     "metadata": {},
     "output_type": "execute_result"
    }
   ],
   "source": [
    "df[df['BetweenStRdwy1'].isnull() == False]['BetweenStRdwy1']"
   ]
  },
  {
   "cell_type": "code",
   "execution_count": 35,
   "metadata": {},
   "outputs": [
    {
     "name": "stdout",
     "output_type": "stream",
     "text": [
      "<class 'pandas.core.frame.DataFrame'>\n",
      "Index: 119 entries, 49 to 4927\n",
      "Data columns (total 2 columns):\n",
      " #   Column          Non-Null Count  Dtype \n",
      "---  ------          --------------  ----- \n",
      " 0   RampFromRdwyId  0 non-null      object\n",
      " 1   RampToRdwyId    0 non-null      object\n",
      "dtypes: object(2)\n",
      "memory usage: 2.8+ KB\n"
     ]
    }
   ],
   "source": [
    "df[['RampFromRdwyId', 'RampToRdwyId',]].info()\n",
    "# This data actually has values for these fields.\n",
    "# I will have to ignore them anyway since I have nothing comparable in the other data."
   ]
  },
  {
   "cell_type": "code",
   "execution_count": 36,
   "metadata": {},
   "outputs": [
    {
     "data": {
      "text/plain": [
       "49      1.012\n",
       "231     4.965\n",
       "388     0.119\n",
       "435     0.186\n",
       "483     1.319\n",
       "        ...  \n",
       "4821    1.999\n",
       "4840    1.347\n",
       "4901    0.507\n",
       "4912    6.220\n",
       "4927    3.708\n",
       "Name: Milepoint, Length: 119, dtype: float64"
      ]
     },
     "execution_count": 36,
     "metadata": {},
     "output_type": "execute_result"
    }
   ],
   "source": [
    "\n",
    "df['Milepoint']\n",
    "# Is this useful for highway accidents?"
   ]
  },
  {
   "cell_type": "markdown",
   "metadata": {},
   "source": [
    "### Time/date columns\n",
    "\n",
    "['DAY_OF_WEEK', 'CollisionDate', 'CollisionTime', 'HOUR_OF_DAY']\n"
   ]
  },
  {
   "cell_type": "code",
   "execution_count": 37,
   "metadata": {},
   "outputs": [
    {
     "name": "stdout",
     "output_type": "stream",
     "text": [
      "<class 'pandas.core.frame.DataFrame'>\n",
      "Index: 119 entries, 49 to 4927\n",
      "Data columns (total 4 columns):\n",
      " #   Column         Non-Null Count  Dtype  \n",
      "---  ------         --------------  -----  \n",
      " 0   DAY_OF_WEEK    119 non-null    object \n",
      " 1   HOUR_OF_DAY    119 non-null    object \n",
      " 2   CollisionDate  119 non-null    object \n",
      " 3   CollisionTime  119 non-null    float64\n",
      "dtypes: float64(1), object(3)\n",
      "memory usage: 4.6+ KB\n"
     ]
    },
    {
     "data": {
      "text/html": [
       "<div>\n",
       "<style scoped>\n",
       "    .dataframe tbody tr th:only-of-type {\n",
       "        vertical-align: middle;\n",
       "    }\n",
       "\n",
       "    .dataframe tbody tr th {\n",
       "        vertical-align: top;\n",
       "    }\n",
       "\n",
       "    .dataframe thead th {\n",
       "        text-align: right;\n",
       "    }\n",
       "</style>\n",
       "<table border=\"1\" class=\"dataframe\">\n",
       "  <thead>\n",
       "    <tr style=\"text-align: right;\">\n",
       "      <th></th>\n",
       "      <th>DAY_OF_WEEK</th>\n",
       "      <th>HOUR_OF_DAY</th>\n",
       "      <th>CollisionDate</th>\n",
       "      <th>CollisionTime</th>\n",
       "    </tr>\n",
       "  </thead>\n",
       "  <tbody>\n",
       "    <tr>\n",
       "      <th>49</th>\n",
       "      <td>WEDNESDAY</td>\n",
       "      <td>8AM</td>\n",
       "      <td>2016/02/03 13:55:00+00</td>\n",
       "      <td>855.0</td>\n",
       "    </tr>\n",
       "    <tr>\n",
       "      <th>231</th>\n",
       "      <td>FRIDAY</td>\n",
       "      <td>7PM</td>\n",
       "      <td>2017/02/04 00:59:00+00</td>\n",
       "      <td>1959.0</td>\n",
       "    </tr>\n",
       "    <tr>\n",
       "      <th>388</th>\n",
       "      <td>FRIDAY</td>\n",
       "      <td>11PM</td>\n",
       "      <td>2016/04/16 03:28:00+00</td>\n",
       "      <td>2328.0</td>\n",
       "    </tr>\n",
       "    <tr>\n",
       "      <th>435</th>\n",
       "      <td>SUNDAY</td>\n",
       "      <td>3PM</td>\n",
       "      <td>2016/09/11 19:25:00+00</td>\n",
       "      <td>1525.0</td>\n",
       "    </tr>\n",
       "    <tr>\n",
       "      <th>483</th>\n",
       "      <td>MONDAY</td>\n",
       "      <td>10PM</td>\n",
       "      <td>2016/10/04 02:04:00+00</td>\n",
       "      <td>2204.0</td>\n",
       "    </tr>\n",
       "    <tr>\n",
       "      <th>...</th>\n",
       "      <td>...</td>\n",
       "      <td>...</td>\n",
       "      <td>...</td>\n",
       "      <td>...</td>\n",
       "    </tr>\n",
       "    <tr>\n",
       "      <th>4821</th>\n",
       "      <td>SUNDAY</td>\n",
       "      <td>2AM</td>\n",
       "      <td>2022/07/17 06:28:00+00</td>\n",
       "      <td>228.0</td>\n",
       "    </tr>\n",
       "    <tr>\n",
       "      <th>4840</th>\n",
       "      <td>SUNDAY</td>\n",
       "      <td>9PM</td>\n",
       "      <td>2022/07/18 01:16:00+00</td>\n",
       "      <td>2116.0</td>\n",
       "    </tr>\n",
       "    <tr>\n",
       "      <th>4901</th>\n",
       "      <td>THURSDAY</td>\n",
       "      <td>4PM</td>\n",
       "      <td>2023/08/10 20:15:00+00</td>\n",
       "      <td>1615.0</td>\n",
       "    </tr>\n",
       "    <tr>\n",
       "      <th>4912</th>\n",
       "      <td>FRIDAY</td>\n",
       "      <td>11PM</td>\n",
       "      <td>2023/09/23 03:25:00+00</td>\n",
       "      <td>2325.0</td>\n",
       "    </tr>\n",
       "    <tr>\n",
       "      <th>4927</th>\n",
       "      <td>TUESDAY</td>\n",
       "      <td>8PM</td>\n",
       "      <td>2022/11/02 00:17:00+00</td>\n",
       "      <td>2017.0</td>\n",
       "    </tr>\n",
       "  </tbody>\n",
       "</table>\n",
       "<p>119 rows × 4 columns</p>\n",
       "</div>"
      ],
      "text/plain": [
       "     DAY_OF_WEEK HOUR_OF_DAY           CollisionDate  CollisionTime\n",
       "49     WEDNESDAY         8AM  2016/02/03 13:55:00+00          855.0\n",
       "231       FRIDAY         7PM  2017/02/04 00:59:00+00         1959.0\n",
       "388       FRIDAY        11PM  2016/04/16 03:28:00+00         2328.0\n",
       "435       SUNDAY         3PM  2016/09/11 19:25:00+00         1525.0\n",
       "483       MONDAY        10PM  2016/10/04 02:04:00+00         2204.0\n",
       "...          ...         ...                     ...            ...\n",
       "4821      SUNDAY         2AM  2022/07/17 06:28:00+00          228.0\n",
       "4840      SUNDAY         9PM  2022/07/18 01:16:00+00         2116.0\n",
       "4901    THURSDAY         4PM  2023/08/10 20:15:00+00         1615.0\n",
       "4912      FRIDAY        11PM  2023/09/23 03:25:00+00         2325.0\n",
       "4927     TUESDAY         8PM  2022/11/02 00:17:00+00         2017.0\n",
       "\n",
       "[119 rows x 4 columns]"
      ]
     },
     "execution_count": 37,
     "metadata": {},
     "output_type": "execute_result"
    }
   ],
   "source": [
    "\n",
    "times = df[['DAY_OF_WEEK', 'HOUR_OF_DAY', 'CollisionDate', 'CollisionTime']]\n",
    "# Parse out CollisionDate \n",
    "# Check times against HOUR_OF_DAY\n",
    "# Derive day of the week and check?\n",
    "times.info()\n",
    "##! CollisionTime has some null values!\n",
    "times"
   ]
  },
  {
   "cell_type": "markdown",
   "metadata": {},
   "source": [
    "Collision date time and CollisionTime don't seem to match; they should. This appears to be some error in the CSV generated by LOJIC on the Louisville Open Data portal. On the online viewer the time and date all line up. Very strange. The CollisionTime column appears to be correct. With the day of the week info I should be able to derive the correct date and time. "
   ]
  },
  {
   "cell_type": "code",
   "execution_count": 38,
   "metadata": {},
   "outputs": [],
   "source": [
    "# Bringing in pyparsing to parse CollisionDate\n",
    "integer = pyp.Word(pyp.nums).set_name(\"integer\")\n",
    "# Define integer word: a string of numeric characters 0-9\n",
    "\n",
    "date_expr = integer(\"year\") + '/' + integer(\"month\") + '/' + integer('day')\n",
    "time_expr = (integer(\"hour\") + \":\" + integer(\"minute\") +\n",
    "              (pyp.Literal(\":\") + integer(\"second\") + \"+\" + integer(\"ms\")).suppress())\n",
    "\n",
    "CollisionDate_expr = date_expr + time_expr\n",
    "\n",
    "def get_CD_string(location):\n",
    "    return times.iloc[location]['CollisionDate']\n",
    "\n",
    "\n",
    "def parse_CD(string):\n",
    "    out = CollisionDate_expr.parse_string(string).as_dict()\n",
    "    return {K:int(V) for K, V in out.items()}\n",
    "\n",
    "# Turn the date-time string in data into a pd.Timestamp object\n",
    "def CD_to_Timestamp(string):\n",
    "    return pd.Timestamp(**parse_CD(string))"
   ]
  },
  {
   "cell_type": "code",
   "execution_count": 39,
   "metadata": {},
   "outputs": [
    {
     "name": "stdout",
     "output_type": "stream",
     "text": [
      "2020/02/27 01:47:00+00\n",
      "2020-02-27 01:47:00\n"
     ]
    }
   ],
   "source": [
    "# Testing parsing code\n",
    "location = 49 # <- Change int value to test different rows\n",
    "test = get_CD_string(location) \n",
    "print(test)\n",
    "ts = CD_to_Timestamp(test)\n",
    "print(ts)\n"
   ]
  },
  {
   "cell_type": "code",
   "execution_count": 40,
   "metadata": {},
   "outputs": [
    {
     "name": "stdout",
     "output_type": "stream",
     "text": [
      "<class 'pandas.core.series.Series'>\n",
      "Index: 119 entries, 49 to 4927\n",
      "Series name: CollisionTime\n",
      "Non-Null Count  Dtype  \n",
      "--------------  -----  \n",
      "119 non-null    float64\n",
      "dtypes: float64(1)\n",
      "memory usage: 1.9 KB\n"
     ]
    },
    {
     "data": {
      "text/plain": [
       "max       2356.0\n",
       "min         12.0\n",
       "median    1612.0\n",
       "Name: CollisionTime, dtype: float64"
      ]
     },
     "execution_count": 40,
     "metadata": {},
     "output_type": "execute_result"
    }
   ],
   "source": [
    "# Parsing ColisionTime column\n",
    "CT = df['CollisionTime']\n",
    "CT.info()\n",
    "CT.agg((\"max\", \"min\", \"median\"))"
   ]
  },
  {
   "cell_type": "code",
   "execution_count": 41,
   "metadata": {},
   "outputs": [],
   "source": [
    "def parse_CollisionTime(time):\n",
    "    minutes = int(time%100)\n",
    "    hours = int(time // 100)\n",
    "    return {'CThour':hours, 'CTminute':minutes}"
   ]
  },
  {
   "cell_type": "code",
   "execution_count": 42,
   "metadata": {},
   "outputs": [
    {
     "name": "stdout",
     "output_type": "stream",
     "text": [
      "2047.0\n"
     ]
    },
    {
     "data": {
      "text/plain": [
       "{'CThour': 20, 'CTminute': 47}"
      ]
     },
     "execution_count": 42,
     "metadata": {},
     "output_type": "execute_result"
    }
   ],
   "source": [
    "location = 49 # <- Change to test different values.\n",
    "test = times.iloc[location]['CollisionTime']\n",
    "print(test)\n",
    "parse_CollisionTime(test)"
   ]
  },
  {
   "cell_type": "code",
   "execution_count": 43,
   "metadata": {},
   "outputs": [
    {
     "name": "stdout",
     "output_type": "stream",
     "text": [
      "2020-02-27 01:47:00\n"
     ]
    },
    {
     "data": {
      "text/plain": [
       "Timestamp('2020-02-27 10:13:00')"
      ]
     },
     "execution_count": 43,
     "metadata": {},
     "output_type": "execute_result"
    }
   ],
   "source": [
    "def adjust_timestamp(ts:pd.Timestamp, new_hour, new_minute):\n",
    "    return pd.Timestamp(hour=new_hour, minute=new_minute,\n",
    "                        year = ts.year, month=ts.month, day=ts.day)\n",
    "\n",
    "print(ts)\n",
    "adjust_timestamp(ts, 10, 13)\n",
    "# Works. Good news. "
   ]
  },
  {
   "cell_type": "code",
   "execution_count": 44,
   "metadata": {},
   "outputs": [
    {
     "data": {
      "text/plain": [
       "Timedelta('-1 days +15:34:00')"
      ]
     },
     "execution_count": 44,
     "metadata": {},
     "output_type": "execute_result"
    }
   ],
   "source": [
    "ts - adjust_timestamp(ts, 10, 13)\n",
    "# I'll get timedeltas for eachrow to see what's going on.\n"
   ]
  },
  {
   "cell_type": "code",
   "execution_count": 45,
   "metadata": {},
   "outputs": [
    {
     "name": "stdout",
     "output_type": "stream",
     "text": [
      "CollisionDate    2018/08/30 23:54:00+00\n",
      "CollisionTime                    1954.0\n",
      "Name: 1194, dtype: object\n"
     ]
    },
    {
     "data": {
      "text/plain": [
       "(Timestamp('2018-08-30 23:54:00'), Timestamp('2018-08-30 19:54:00'))"
      ]
     },
     "execution_count": 45,
     "metadata": {},
     "output_type": "execute_result"
    }
   ],
   "source": [
    "def get_time_adjustment(location):\n",
    "    data = df.iloc[location]\n",
    "    timestamp = CD_to_Timestamp(data['CollisionDate'])\n",
    "    CT = parse_CollisionTime(data['CollisionTime'])\n",
    "    return timestamp, adjust_timestamp(timestamp, CT['CThour'], CT['CTminute'])\n",
    "\n",
    "# Tests\n",
    "location = 17\n",
    "print(df.iloc[location][[\"CollisionDate\", \"CollisionTime\"]])\n",
    "get_time_adjustment(location)\n",
    "#df.iloc[17][[\"CollisionTime\", \"CollisionDate\"]]"
   ]
  },
  {
   "cell_type": "code",
   "execution_count": 46,
   "metadata": {},
   "outputs": [],
   "source": [
    "data = list()\n",
    "for loc in range(len(df)):\n",
    "    date, adjusted_date = get_time_adjustment(loc)\n",
    "    data.append((date, adjusted_date, date - adjusted_date))\n",
    "AT = pd.DataFrame(data, columns=\"CD_raw CD_adj diff\".split())\n"
   ]
  },
  {
   "cell_type": "code",
   "execution_count": 47,
   "metadata": {},
   "outputs": [
    {
     "data": {
      "text/plain": [
       "diff\n",
       "-1 days +04:00:00    25\n",
       "-1 days +05:00:00     5\n",
       "0 days 04:00:00      64\n",
       "0 days 05:00:00      25\n",
       "Name: count, dtype: int64"
      ]
     },
     "execution_count": 47,
     "metadata": {},
     "output_type": "execute_result"
    }
   ],
   "source": [
    "AT.groupby(\"diff\")[\"diff\"].value_counts()\n",
    "#AT"
   ]
  },
  {
   "cell_type": "markdown",
   "metadata": {},
   "source": [
    "The differences in time are not consistent. \n",
    "My guess is that this has to do with time zone conversions.\n",
    "Times in dataset are supposed to be given in Eastern Standard Time, which is\n",
    "GMT-5 in the summer and GMT-4 during daylight saving time. \n"
   ]
  },
  {
   "cell_type": "code",
   "execution_count": 48,
   "metadata": {},
   "outputs": [
    {
     "name": "stdout",
     "output_type": "stream",
     "text": [
      "2017-02-04 00:59:00\n",
      "2017-02-04 19:59:00\n",
      "2017-02-03 19:59:00-05:00\n"
     ]
    }
   ],
   "source": [
    "location = 1\n",
    "ts = CD_to_Timestamp(df.iloc[location][\"CollisionDate\"])\n",
    "hm = parse_CollisionTime(df.iloc[location][\"CollisionTime\"])\n",
    "print(ts)\n",
    "print(adjust_timestamp(ts, hm['CThour'], hm['CTminute'])) \n",
    "print(ts.tz_localize(\"UTC\").tz_convert(\"US/Eastern\"))\n",
    "\n",
    "convert_timestamp_tz = lambda ts:ts.tz_localize(\"UTC\").tz_convert(\"US/Eastern\")"
   ]
  },
  {
   "cell_type": "code",
   "execution_count": 49,
   "metadata": {},
   "outputs": [
    {
     "data": {
      "text/plain": [
       "True"
      ]
     },
     "execution_count": 49,
     "metadata": {},
     "output_type": "execute_result"
    }
   ],
   "source": [
    "def test_new_time_adjustment(loc):\n",
    "    date = CD_to_Timestamp(times.iloc[loc][\"CollisionDate\"])\n",
    "    adj_tz = convert_timestamp_tz(date)\n",
    "    CT = parse_CollisionTime( times.iloc[loc][\"CollisionTime\"])\n",
    "    return (adj_tz.hour == CT['CThour']) and (adj_tz.minute == CT['CTminute'])\n",
    "\n",
    "all(test_new_time_adjustment(loc) for loc in range(len(times)))\n"
   ]
  },
  {
   "cell_type": "markdown",
   "metadata": {},
   "source": [
    "Good news. This seems to work just fine. Changing the time may change the date, which may interact \n",
    "with DAY_OF_WEEK column."
   ]
  },
  {
   "cell_type": "code",
   "execution_count": 50,
   "metadata": {},
   "outputs": [
    {
     "data": {
      "text/plain": [
       "True"
      ]
     },
     "execution_count": 50,
     "metadata": {},
     "output_type": "execute_result"
    }
   ],
   "source": [
    "def convert_CollisionDate(string):\n",
    "    TS = CD_to_Timestamp(string)\n",
    "    return convert_timestamp_tz(TS)\n",
    "\n",
    "adj_CollisionDate = times[\"CollisionDate\"].apply(convert_CollisionDate)\n",
    "adj_DOW = adj_CollisionDate.apply(lambda x:x.day_name().upper())\n",
    "adj_DOW.name = \"DOW\"\n",
    "\n",
    "adj = pd.concat((times[\"DAY_OF_WEEK\"], adj_CollisionDate, adj_DOW), axis=1)\n",
    "adj[adj[\"DAY_OF_WEEK\"] != adj[\"DOW\"]].empty # Looking for HOUR_OF_DAY, DOW mismatches\n",
    "# None found"
   ]
  },
  {
   "cell_type": "markdown",
   "metadata": {},
   "source": [
    "Works like a charm. Time zone adjustment fixes all my date/time problems in this data."
   ]
  },
  {
   "cell_type": "markdown",
   "metadata": {},
   "source": [
    "### Other columns"
   ]
  },
  {
   "cell_type": "code",
   "execution_count": 51,
   "metadata": {},
   "outputs": [
    {
     "name": "stdout",
     "output_type": "stream",
     "text": [
      "<class 'pandas.core.series.Series'>\n",
      "Index: 119 entries, 49 to 4927\n",
      "Series name: ObjectId\n",
      "Non-Null Count  Dtype\n",
      "--------------  -----\n",
      "119 non-null    int64\n",
      "dtypes: int64(1)\n",
      "memory usage: 1.9 KB\n"
     ]
    },
    {
     "data": {
      "text/plain": [
       "119"
      ]
     },
     "execution_count": 51,
     "metadata": {},
     "output_type": "execute_result"
    }
   ],
   "source": [
    "# Object Id column\n",
    "df['ObjectId'].info()\n",
    "len(df['ObjectId'].unique())\n",
    "# Unique identifier for row. \n",
    "\n",
    "\n"
   ]
  },
  {
   "cell_type": "code",
   "execution_count": 52,
   "metadata": {},
   "outputs": [
    {
     "data": {
      "text/plain": [
       "AgencyName\n",
       "LOUISVILLE METRO POLICE DEPT      110\n",
       "SHIVELY POLICE DEPARTMENT           5\n",
       "LYNDON POLICE DEPARTMENT            2\n",
       "UNIV. OF LOUISVILLE POLICE          1\n",
       "ST. MATTHEWS POLICE DEPARTMENT      1\n",
       "Name: count, dtype: int64"
      ]
     },
     "execution_count": 52,
     "metadata": {},
     "output_type": "execute_result"
    }
   ],
   "source": [
    "df['AgencyName'].unique()\n",
    "df['AgencyName'].value_counts(dropna=False)\n",
    "# No null values"
   ]
  }
 ],
 "metadata": {
  "kernelspec": {
   "display_name": "Python 3",
   "language": "python",
   "name": "python3"
  },
  "language_info": {
   "codemirror_mode": {
    "name": "ipython",
    "version": 3
   },
   "file_extension": ".py",
   "mimetype": "text/x-python",
   "name": "python",
   "nbconvert_exporter": "python",
   "pygments_lexer": "ipython3",
   "version": "3.11.1"
  },
  "orig_nbformat": 4
 },
 "nbformat": 4,
 "nbformat_minor": 2
}
