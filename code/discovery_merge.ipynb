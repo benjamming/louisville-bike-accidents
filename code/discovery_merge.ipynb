{
 "cells": [
  {
   "cell_type": "code",
   "execution_count": 3,
   "metadata": {},
   "outputs": [],
   "source": [
    "# Look at the two pre-cleaned datasets.\n",
    "# DO any further discovert, cleaning\n",
    "# then merge\n",
    "import pandas as pd\n",
    "from os import chdir\n",
    "\n",
    "chdir(\"/Users/bencampbell/code_louisville/capstone/louisville-bike-accidents\")\n",
    "\n",
    "\n",
    "path_to_cycling_safety_cleaned = \"data/clean/cycling_safety_louisville_clean.csv\"\n",
    "path_to_LOJIC_cleaned = \"data/clean/LOJIC_cycling_data.csv\"\n",
    "\n",
    "CSAFE = pd.read_csv(path_to_cycling_safety_cleaned)\n",
    "LOJIC = pd.read_csv(path_to_LOJIC_cleaned)"
   ]
  }
 ],
 "metadata": {
  "kernelspec": {
   "display_name": "venv",
   "language": "python",
   "name": "python3"
  },
  "language_info": {
   "codemirror_mode": {
    "name": "ipython",
    "version": 3
   },
   "file_extension": ".py",
   "mimetype": "text/x-python",
   "name": "python",
   "nbconvert_exporter": "python",
   "pygments_lexer": "ipython3",
   "version": "3.11.1"
  },
  "orig_nbformat": 4
 },
 "nbformat": 4,
 "nbformat_minor": 2
}
