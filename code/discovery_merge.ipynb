{
 "cells": [
  {
   "cell_type": "code",
   "execution_count": 223,
   "metadata": {},
   "outputs": [],
   "source": [
    "# Look at the two pre-cleaned datasets.\n",
    "# DO any further discovert, cleaning\n",
    "# then merge\n",
    "import pandas as pd\n",
    "from os import chdir\n",
    "\n",
    "chdir(\"/Users/bencampbell/code_louisville/capstone/louisville-bike-accidents\")\n",
    "\n",
    "\n",
    "path_to_cycling_safety_cleaned = \"data/clean/cycling_safety_louisville_clean.csv\"\n",
    "path_to_LOJIC_cleaned = \"data/clean/LOJIC_cycling_data.csv\"\n",
    "\n",
    "CSAFE = pd.read_csv(path_to_cycling_safety_cleaned)\n",
    "LOJIC = pd.read_csv(path_to_LOJIC_cleaned)"
   ]
  },
  {
   "cell_type": "code",
   "execution_count": 224,
   "metadata": {},
   "outputs": [],
   "source": [
    "CSAFE_cols = set(CSAFE.columns.to_list())\n",
    "LOJIC_cols = set(LOJIC.columns.to_list())\n",
    "column_intersect = sorted(CSAFE_cols & LOJIC_cols)\n",
    "column_xor = sorted(CSAFE_cols ^ LOJIC_cols)\n",
    "all_cols = column_intersect + column_xor\n",
    "\n",
    "only_CSAFE = CSAFE_cols - LOJIC_cols\n",
    "only_LOJIC = LOJIC_cols - CSAFE_cols"
   ]
  },
  {
   "cell_type": "code",
   "execution_count": 252,
   "metadata": {},
   "outputs": [
    {
     "data": {
      "text/plain": [
       "investigating_agency_x    LOUISVILLE METRO POLICE DEPT\n",
       "roadway_number_x                                   NaN\n",
       "building_number_x                                  NaN\n",
       "roadway_name_x                                  BARRET\n",
       "roadway_suffix_x                                   AVE\n",
       "                                      ...             \n",
       "roadway_character_y                   STRAIGHT & LEVEL\n",
       "light_condition_y                             DAYLIGHT\n",
       "secondary_collision_y                            False\n",
       "fatality_indicator_y                             False\n",
       "injury_indicator_y                                True\n",
       "Name: 0, Length: 61, dtype: object"
      ]
     },
     "execution_count": 252,
     "metadata": {},
     "output_type": "execute_result"
    }
   ],
   "source": [
    "pd.merge(CSAFE, LOJIC, on='date', how='inner').loc[0]\n",
    "#len(CSAFE) + len(LOJIC) - 18"
   ]
  },
  {
   "cell_type": "code",
   "execution_count": 225,
   "metadata": {},
   "outputs": [
    {
     "data": {
      "text/plain": [
       "{'injured', 'killed'}"
      ]
     },
     "metadata": {},
     "output_type": "display_data"
    },
    {
     "data": {
      "text/plain": [
       "set()"
      ]
     },
     "metadata": {},
     "output_type": "display_data"
    }
   ],
   "source": [
    "display(only_CSAFE, only_LOJIC)"
   ]
  },
  {
   "cell_type": "code",
   "execution_count": 226,
   "metadata": {},
   "outputs": [
    {
     "data": {
      "text/plain": [
       "between_street_name_1                                                None\n",
       "between_street_name_2                                                None\n",
       "building_number                      convert CSAFE value to str(int(...))\n",
       "date                                                                 done\n",
       "directional_analysis                     compatible, but no common values\n",
       "hit_and_run                                                          done\n",
       "intersection_roadway_name                                            None\n",
       "investigating_agency                                                 done\n",
       "latitude                                                             done\n",
       "light_condition              deal with OTHER and Nan values esp. in LOJIC\n",
       "longitude                                                            done\n",
       "manner_of_collision                                                  done\n",
       "milepoint                                                            done\n",
       "motor_vehicles_involved                                              done\n",
       "roadway_character                                                    done\n",
       "roadway_condition                                                    done\n",
       "roadway_direction                                                    done\n",
       "roadway_name                                                         None\n",
       "roadway_number                      get rid of whitespace in some strings\n",
       "roadway_suffix                                                       done\n",
       "secondary_collision                                                  done\n",
       "units_involved                                                       done\n",
       "weather                                                              done\n",
       "dtype: object"
      ]
     },
     "execution_count": 226,
     "metadata": {},
     "output_type": "execute_result"
    }
   ],
   "source": [
    "notes = {'between_street_name_1':None,\n",
    " 'between_street_name_2':None,\n",
    " 'building_number':\"convert CSAFE value to str(int(...))\",\n",
    " 'date':\"done\",\n",
    " 'directional_analysis':\"compatible, but no common values\",\n",
    " 'hit_and_run':\"done\",\n",
    " 'intersection_roadway_name':None,\n",
    " 'investigating_agency':'done',\n",
    " 'latitude':\"done\",\n",
    " 'light_condition':'deal with OTHER and Nan values esp. in LOJIC',\n",
    " 'longitude':\"done\",\n",
    " 'manner_of_collision':'done',\n",
    " 'milepoint':'done',\n",
    " 'motor_vehicles_involved':'done',\n",
    " 'roadway_character':'done',\n",
    " 'roadway_condition':'done',\n",
    " 'roadway_direction':'done',\n",
    " 'roadway_name':None,\n",
    " 'roadway_number':'get rid of whitespace in some strings',\n",
    " 'roadway_suffix':'done',\n",
    " 'secondary_collision':'done',\n",
    " 'units_involved':'done',\n",
    " 'weather':'done'}\n",
    "\n",
    "pd.Series(notes)"
   ]
  },
  {
   "cell_type": "code",
   "execution_count": 227,
   "metadata": {},
   "outputs": [
    {
     "data": {
      "text/html": [
       "<div>\n",
       "<style scoped>\n",
       "    .dataframe tbody tr th:only-of-type {\n",
       "        vertical-align: middle;\n",
       "    }\n",
       "\n",
       "    .dataframe tbody tr th {\n",
       "        vertical-align: top;\n",
       "    }\n",
       "\n",
       "    .dataframe thead th {\n",
       "        text-align: right;\n",
       "    }\n",
       "</style>\n",
       "<table border=\"1\" class=\"dataframe\">\n",
       "  <thead>\n",
       "    <tr style=\"text-align: right;\">\n",
       "      <th></th>\n",
       "      <th>0</th>\n",
       "      <th>1</th>\n",
       "      <th>2</th>\n",
       "    </tr>\n",
       "  </thead>\n",
       "  <tbody>\n",
       "    <tr>\n",
       "      <th>investigating_agency</th>\n",
       "      <td>object</td>\n",
       "      <td>object</td>\n",
       "      <td>done</td>\n",
       "    </tr>\n",
       "    <tr>\n",
       "      <th>roadway_number</th>\n",
       "      <td>object</td>\n",
       "      <td>object</td>\n",
       "      <td>get rid of whitespace in some strings</td>\n",
       "    </tr>\n",
       "    <tr>\n",
       "      <th>building_number</th>\n",
       "      <td>object</td>\n",
       "      <td>float64</td>\n",
       "      <td>convert CSAFE value to str(int(...))</td>\n",
       "    </tr>\n",
       "    <tr>\n",
       "      <th>roadway_direction</th>\n",
       "      <td>object</td>\n",
       "      <td>object</td>\n",
       "      <td>done</td>\n",
       "    </tr>\n",
       "    <tr>\n",
       "      <th>roadway_name</th>\n",
       "      <td>object</td>\n",
       "      <td>object</td>\n",
       "      <td>None</td>\n",
       "    </tr>\n",
       "    <tr>\n",
       "      <th>roadway_suffix</th>\n",
       "      <td>object</td>\n",
       "      <td>object</td>\n",
       "      <td>done</td>\n",
       "    </tr>\n",
       "    <tr>\n",
       "      <th>roadway_type</th>\n",
       "      <td>object</td>\n",
       "      <td>object</td>\n",
       "      <td>NaN</td>\n",
       "    </tr>\n",
       "    <tr>\n",
       "      <th>intersection_roadway_number</th>\n",
       "      <td>object</td>\n",
       "      <td>object</td>\n",
       "      <td>NaN</td>\n",
       "    </tr>\n",
       "    <tr>\n",
       "      <th>intersection_roadway_name</th>\n",
       "      <td>object</td>\n",
       "      <td>object</td>\n",
       "      <td>None</td>\n",
       "    </tr>\n",
       "    <tr>\n",
       "      <th>between_street_number_1</th>\n",
       "      <td>object</td>\n",
       "      <td>object</td>\n",
       "      <td>NaN</td>\n",
       "    </tr>\n",
       "    <tr>\n",
       "      <th>between_street_name_1</th>\n",
       "      <td>object</td>\n",
       "      <td>object</td>\n",
       "      <td>None</td>\n",
       "    </tr>\n",
       "    <tr>\n",
       "      <th>between_street_number_2</th>\n",
       "      <td>object</td>\n",
       "      <td>object</td>\n",
       "      <td>NaN</td>\n",
       "    </tr>\n",
       "    <tr>\n",
       "      <th>between_street_name_2</th>\n",
       "      <td>object</td>\n",
       "      <td>object</td>\n",
       "      <td>None</td>\n",
       "    </tr>\n",
       "    <tr>\n",
       "      <th>latitude</th>\n",
       "      <td>float64</td>\n",
       "      <td>float64</td>\n",
       "      <td>done</td>\n",
       "    </tr>\n",
       "    <tr>\n",
       "      <th>longitude</th>\n",
       "      <td>float64</td>\n",
       "      <td>float64</td>\n",
       "      <td>done</td>\n",
       "    </tr>\n",
       "    <tr>\n",
       "      <th>milepoint</th>\n",
       "      <td>float64</td>\n",
       "      <td>float64</td>\n",
       "      <td>done</td>\n",
       "    </tr>\n",
       "    <tr>\n",
       "      <th>day_of_week</th>\n",
       "      <td>object</td>\n",
       "      <td>object</td>\n",
       "      <td>NaN</td>\n",
       "    </tr>\n",
       "    <tr>\n",
       "      <th>date</th>\n",
       "      <td>object</td>\n",
       "      <td>object</td>\n",
       "      <td>done</td>\n",
       "    </tr>\n",
       "    <tr>\n",
       "      <th>units_involved</th>\n",
       "      <td>int64</td>\n",
       "      <td>int64</td>\n",
       "      <td>done</td>\n",
       "    </tr>\n",
       "    <tr>\n",
       "      <th>motor_vehicles_involved</th>\n",
       "      <td>int64</td>\n",
       "      <td>int64</td>\n",
       "      <td>done</td>\n",
       "    </tr>\n",
       "    <tr>\n",
       "      <th>weather</th>\n",
       "      <td>object</td>\n",
       "      <td>object</td>\n",
       "      <td>done</td>\n",
       "    </tr>\n",
       "    <tr>\n",
       "      <th>roadway_condition</th>\n",
       "      <td>object</td>\n",
       "      <td>object</td>\n",
       "      <td>done</td>\n",
       "    </tr>\n",
       "    <tr>\n",
       "      <th>hit_and_run</th>\n",
       "      <td>bool</td>\n",
       "      <td>bool</td>\n",
       "      <td>done</td>\n",
       "    </tr>\n",
       "    <tr>\n",
       "      <th>directional_analysis</th>\n",
       "      <td>object</td>\n",
       "      <td>object</td>\n",
       "      <td>compatible, but no common values</td>\n",
       "    </tr>\n",
       "    <tr>\n",
       "      <th>manner_of_collision</th>\n",
       "      <td>object</td>\n",
       "      <td>object</td>\n",
       "      <td>done</td>\n",
       "    </tr>\n",
       "    <tr>\n",
       "      <th>roadway_character</th>\n",
       "      <td>object</td>\n",
       "      <td>object</td>\n",
       "      <td>done</td>\n",
       "    </tr>\n",
       "    <tr>\n",
       "      <th>light_condition</th>\n",
       "      <td>object</td>\n",
       "      <td>object</td>\n",
       "      <td>deal with OTHER and Nan values esp. in LOJIC</td>\n",
       "    </tr>\n",
       "    <tr>\n",
       "      <th>secondary_collision</th>\n",
       "      <td>bool</td>\n",
       "      <td>bool</td>\n",
       "      <td>done</td>\n",
       "    </tr>\n",
       "    <tr>\n",
       "      <th>fatality_indicator</th>\n",
       "      <td>bool</td>\n",
       "      <td>bool</td>\n",
       "      <td>NaN</td>\n",
       "    </tr>\n",
       "    <tr>\n",
       "      <th>injury_indicator</th>\n",
       "      <td>bool</td>\n",
       "      <td>bool</td>\n",
       "      <td>NaN</td>\n",
       "    </tr>\n",
       "    <tr>\n",
       "      <th>killed</th>\n",
       "      <td>NaN</td>\n",
       "      <td>int64</td>\n",
       "      <td>NaN</td>\n",
       "    </tr>\n",
       "    <tr>\n",
       "      <th>injured</th>\n",
       "      <td>NaN</td>\n",
       "      <td>int64</td>\n",
       "      <td>NaN</td>\n",
       "    </tr>\n",
       "  </tbody>\n",
       "</table>\n",
       "</div>"
      ],
      "text/plain": [
       "                                   0        1  \\\n",
       "investigating_agency          object   object   \n",
       "roadway_number                object   object   \n",
       "building_number               object  float64   \n",
       "roadway_direction             object   object   \n",
       "roadway_name                  object   object   \n",
       "roadway_suffix                object   object   \n",
       "roadway_type                  object   object   \n",
       "intersection_roadway_number   object   object   \n",
       "intersection_roadway_name     object   object   \n",
       "between_street_number_1       object   object   \n",
       "between_street_name_1         object   object   \n",
       "between_street_number_2       object   object   \n",
       "between_street_name_2         object   object   \n",
       "latitude                     float64  float64   \n",
       "longitude                    float64  float64   \n",
       "milepoint                    float64  float64   \n",
       "day_of_week                   object   object   \n",
       "date                          object   object   \n",
       "units_involved                 int64    int64   \n",
       "motor_vehicles_involved        int64    int64   \n",
       "weather                       object   object   \n",
       "roadway_condition             object   object   \n",
       "hit_and_run                     bool     bool   \n",
       "directional_analysis          object   object   \n",
       "manner_of_collision           object   object   \n",
       "roadway_character             object   object   \n",
       "light_condition               object   object   \n",
       "secondary_collision             bool     bool   \n",
       "fatality_indicator              bool     bool   \n",
       "injury_indicator                bool     bool   \n",
       "killed                           NaN    int64   \n",
       "injured                          NaN    int64   \n",
       "\n",
       "                                                                        2  \n",
       "investigating_agency                                                 done  \n",
       "roadway_number                      get rid of whitespace in some strings  \n",
       "building_number                      convert CSAFE value to str(int(...))  \n",
       "roadway_direction                                                    done  \n",
       "roadway_name                                                         None  \n",
       "roadway_suffix                                                       done  \n",
       "roadway_type                                                          NaN  \n",
       "intersection_roadway_number                                           NaN  \n",
       "intersection_roadway_name                                            None  \n",
       "between_street_number_1                                               NaN  \n",
       "between_street_name_1                                                None  \n",
       "between_street_number_2                                               NaN  \n",
       "between_street_name_2                                                None  \n",
       "latitude                                                             done  \n",
       "longitude                                                            done  \n",
       "milepoint                                                            done  \n",
       "day_of_week                                                           NaN  \n",
       "date                                                                 done  \n",
       "units_involved                                                       done  \n",
       "motor_vehicles_involved                                              done  \n",
       "weather                                                              done  \n",
       "roadway_condition                                                    done  \n",
       "hit_and_run                                                          done  \n",
       "directional_analysis                     compatible, but no common values  \n",
       "manner_of_collision                                                  done  \n",
       "roadway_character                                                    done  \n",
       "light_condition              deal with OTHER and Nan values esp. in LOJIC  \n",
       "secondary_collision                                                  done  \n",
       "fatality_indicator                                                    NaN  \n",
       "injury_indicator                                                      NaN  \n",
       "killed                                                                NaN  \n",
       "injured                                                               NaN  "
      ]
     },
     "execution_count": 227,
     "metadata": {},
     "output_type": "execute_result"
    }
   ],
   "source": [
    "\n",
    "data = pd.concat((LOJIC.dtypes, CSAFE.dtypes, pd.Series(notes)), axis=1)\n",
    "data"
   ]
  },
  {
   "cell_type": "markdown",
   "metadata": {},
   "source": [
    "### General notes\n",
    "\n",
    "Add a column to identify LOJIC data vs. CSAFE data in case there are any further discrepancies to deal with."
   ]
  },
  {
   "cell_type": "code",
   "execution_count": 228,
   "metadata": {},
   "outputs": [
    {
     "name": "stdout",
     "output_type": "stream",
     "text": [
      "| column name | LOJIC dtype | CSAFE dtype | notes |\n",
      "|-------------|-------------|-------------|-------|\n",
      "|between_street_name_1|object|object|None|\n",
      "|between_street_name_2|object|object|None|\n",
      "|between_street_number_1|object|object|nan|\n",
      "|between_street_number_2|object|object|nan|\n",
      "|building_number|object|float64|convert CSAFE value to str(int(...))|\n",
      "|date|object|object|done|\n",
      "|day_of_week|object|object|nan|\n",
      "|directional_analysis|object|object|compatible, but no common values|\n",
      "|fatality_indicator|bool|bool|nan|\n",
      "|hit_and_run|bool|bool|done|\n",
      "|injury_indicator|bool|bool|nan|\n",
      "|intersection_roadway_name|object|object|None|\n",
      "|intersection_roadway_number|object|object|nan|\n",
      "|investigating_agency|object|object|done|\n",
      "|latitude|float64|float64|done|\n",
      "|light_condition|object|object|deal with OTHER and Nan values esp. in LOJIC|\n",
      "|longitude|float64|float64|done|\n",
      "|manner_of_collision|object|object|done|\n",
      "|milepoint|float64|float64|done|\n",
      "|motor_vehicles_involved|int64|int64|done|\n",
      "|roadway_character|object|object|done|\n",
      "|roadway_condition|object|object|done|\n",
      "|roadway_direction|object|object|done|\n",
      "|roadway_name|object|object|None|\n",
      "|roadway_number|object|object|get rid of whitespace in some strings|\n",
      "|roadway_suffix|object|object|done|\n",
      "|roadway_type|object|object|nan|\n",
      "|secondary_collision|bool|bool|done|\n",
      "|units_involved|int64|int64|done|\n",
      "|weather|object|object|done|\n",
      "|injured||int64|nan|\n",
      "|killed||int64|nan|\n"
     ]
    }
   ],
   "source": [
    "\n",
    "def print_table(data):\n",
    "    header = \"| column name | LOJIC dtype | CSAFE dtype | notes |\" \n",
    "    spaner = \"|-------------|-------------|-------------|-------|\"\n",
    "    row = \"|{name}|{LOJICDT}|{CSAFEDT}|{note}|\"\n",
    "\n",
    "    ds = lambda s:\"\" if s == \"nan\" else s\n",
    "    dn = lambda s:ds(str(s))\n",
    "\n",
    "    print(header)\n",
    "    print(spaner)\n",
    "    for name in all_cols:\n",
    "        record = data.loc[name]\n",
    "        LODT = dn(record[0])\n",
    "        CSDT = dn(record[1])\n",
    "        note = record[2]\n",
    "        print(row.format(name=name, LOJICDT=LODT, CSAFEDT=CSDT, note=note))\n",
    "    \n",
    "    \n",
    "print_table(data)"
   ]
  },
  {
   "cell_type": "markdown",
   "metadata": {},
   "source": [
    "# Data dictionary for joined data"
   ]
  },
  {
   "cell_type": "markdown",
   "metadata": {},
   "source": [
    "| column name | LOJIC dtype | CSAFE dtype | notes |\n",
    "|-------------|-------------|-------------|-------|\n",
    "|between_street_name_1|object|object||\n",
    "|between_street_name_2|object|object||\n",
    "|building_number|object|object|convert CSAFE value to str(int(...))|\n",
    "|date|object|object|done|\n",
    "|directional_analysis|object|object|compatible, but no common values|\n",
    "|hit_and_run|bool|bool|done|\n",
    "|intersection_roadway_name|object|object||\n",
    "|investigating_agency|object|object|done|\n",
    "|latitude|float64|float64|done|\n",
    "|light_condition|object|object|deal with OTHER and Nan values esp. in LOJIC|\n",
    "|longitude|float64|float64|done|\n",
    "|manner_of_collision|object|object|done|\n",
    "|milepoint|float64|float64|done|\n",
    "|motor_vehicles_involved|int64|int64|done|\n",
    "|roadway_character|object|object|done|\n",
    "|roadway_condition|object|object|done|\n",
    "|roadway_direction|object|object|done|\n",
    "|roadway_name|object|object||\n",
    "|roadway_number|object|object|get rid of whitespace in some strings|\n",
    "|roadway_suffix|object|object|done|\n",
    "|secondary_collision|bool|bool|done|\n",
    "|units_involved|int64|int64|done|\n",
    "|weather|object|object|done|\n",
    "|between_street_1|object|| similar to between_street_number_1 |\n",
    "|between_street_2|object|| similar to between_street_number_2|\n",
    "|between_street_number_1||object| similar to between_street_1|\n",
    "|between_street_number_2||object| similar to between_street_2|\n",
    "|between_street_suffix_1||object||\n",
    "|between_street_suffix_2||object||\n",
    "|collision_status_code||object||\n",
    "|council_district|int64|||\n",
    "|day_of_week|object|| generate day_of_week for CSAFE |\n",
    "|directional_analysis_code||float64||\n",
    "|fatality_indicator|bool||generate fatality_indicator for CSAFE|\n",
    "|incident_id|int64|||\n",
    "|injured||int64||\n",
    "|injury_indicator|bool||generate injury_indicator foor CSAFE|\n",
    "|intersection_roadway|object||similar to CSAFE[intersection_roadway_number] rename to that to make it compatible|\n",
    "|intersection_roadway_number||object| similar to LOJIC[intersection_roadway]; no rename|\n",
    "|intersection_roadway_suffix||object||\n",
    "|killed||int64||\n",
    "|light_condition_code||float64|numeric code not present in LOJIC|\n",
    "|local_code||object||\n",
    "|manner_of_collision_code||float64||\n",
    "|master_file_number||int64||\n",
    "|mode|object|||\n",
    "|object_id|int64|||\n",
    "|owner|object|||\n",
    "|ramp_from_roadway_id||float64||\n",
    "|ramp_to_roadway_id||float64||\n",
    "|road_classification|object|||\n",
    "|roadway_character_code||float64|numeric code not present in LOJIC|\n",
    "|roadway_condition_code||float64|numeric code not present in LOJIC|\n",
    "|roadway_type||object||\n",
    "|roadway_type_code||float64||\n",
    "|weather_code||float64|numeric code not present in LOJIC|\n"
   ]
  },
  {
   "cell_type": "markdown",
   "metadata": {},
   "source": [
    "# Common column names:\n",
    "`['between_street_name_1', 'between_street_name_2', 'building_number', 'date', 'directional_analysis',\n",
    "    'hit_and_run', 'intersection_roadway_name', 'intersection_roadway_number', 'investigating_agency', 'latitude', 'light_condition', 'longitude', 'manner_of_collision', 'milepoint', 'motor_vehicles_involved', 'roadway_character', 'roadway_condition', 'roadway_direction', 'roadway_name', 'roadway_number', 'roadway_suffix', 'roadway_type',\n",
    "    'secondary_collision', 'units_involved', 'weather']`\n"
   ]
  },
  {
   "cell_type": "code",
   "execution_count": 229,
   "metadata": {},
   "outputs": [],
   "source": [
    "def pair(col_name):\n",
    "    return pd.DataFrame({\"CSAFE\":CSAFE[col_name], \"LOJIC\": LOJIC[col_name]})\n",
    "\n",
    "def join(col_name):\n",
    "    return pd.concat((CSAFE[col_name], LOJIC[col_name]), axis=0)"
   ]
  },
  {
   "cell_type": "code",
   "execution_count": 230,
   "metadata": {},
   "outputs": [
    {
     "data": {
      "text/html": [
       "<div>\n",
       "<style scoped>\n",
       "    .dataframe tbody tr th:only-of-type {\n",
       "        vertical-align: middle;\n",
       "    }\n",
       "\n",
       "    .dataframe tbody tr th {\n",
       "        vertical-align: top;\n",
       "    }\n",
       "\n",
       "    .dataframe thead th {\n",
       "        text-align: right;\n",
       "    }\n",
       "</style>\n",
       "<table border=\"1\" class=\"dataframe\">\n",
       "  <thead>\n",
       "    <tr style=\"text-align: right;\">\n",
       "      <th></th>\n",
       "      <th>CSAFE</th>\n",
       "      <th>LOJIC</th>\n",
       "    </tr>\n",
       "  </thead>\n",
       "  <tbody>\n",
       "    <tr>\n",
       "      <th>2</th>\n",
       "      <td>GRINSTEAD</td>\n",
       "      <td>STALLINGS</td>\n",
       "    </tr>\n",
       "    <tr>\n",
       "      <th>13</th>\n",
       "      <td>CARDINAL</td>\n",
       "      <td>LONGEST</td>\n",
       "    </tr>\n",
       "    <tr>\n",
       "      <th>28</th>\n",
       "      <td>SOUTHLAND</td>\n",
       "      <td>WILSON</td>\n",
       "    </tr>\n",
       "    <tr>\n",
       "      <th>32</th>\n",
       "      <td>TAYLOR</td>\n",
       "      <td>LORETTA</td>\n",
       "    </tr>\n",
       "    <tr>\n",
       "      <th>51</th>\n",
       "      <td>MADISON</td>\n",
       "      <td>INDUSTRIAL</td>\n",
       "    </tr>\n",
       "    <tr>\n",
       "      <th>114</th>\n",
       "      <td>BAXTER</td>\n",
       "      <td>BLUE VALE</td>\n",
       "    </tr>\n",
       "  </tbody>\n",
       "</table>\n",
       "</div>"
      ],
      "text/plain": [
       "         CSAFE       LOJIC\n",
       "2    GRINSTEAD   STALLINGS\n",
       "13    CARDINAL     LONGEST\n",
       "28   SOUTHLAND      WILSON\n",
       "32      TAYLOR     LORETTA\n",
       "51     MADISON  INDUSTRIAL\n",
       "114     BAXTER   BLUE VALE"
      ]
     },
     "execution_count": 230,
     "metadata": {},
     "output_type": "execute_result"
    }
   ],
   "source": [
    "pair('between_street_name_1').dropna()"
   ]
  },
  {
   "cell_type": "code",
   "execution_count": 231,
   "metadata": {},
   "outputs": [
    {
     "data": {
      "text/html": [
       "<div>\n",
       "<style scoped>\n",
       "    .dataframe tbody tr th:only-of-type {\n",
       "        vertical-align: middle;\n",
       "    }\n",
       "\n",
       "    .dataframe tbody tr th {\n",
       "        vertical-align: top;\n",
       "    }\n",
       "\n",
       "    .dataframe thead th {\n",
       "        text-align: right;\n",
       "    }\n",
       "</style>\n",
       "<table border=\"1\" class=\"dataframe\">\n",
       "  <thead>\n",
       "    <tr style=\"text-align: right;\">\n",
       "      <th></th>\n",
       "      <th>CSAFE</th>\n",
       "      <th>LOJIC</th>\n",
       "    </tr>\n",
       "  </thead>\n",
       "  <tbody>\n",
       "    <tr>\n",
       "      <th>2</th>\n",
       "      <td>GRINSTEAD</td>\n",
       "      <td>KLAGES</td>\n",
       "    </tr>\n",
       "    <tr>\n",
       "      <th>13</th>\n",
       "      <td>BLOOM</td>\n",
       "      <td>BEECHWOOD</td>\n",
       "    </tr>\n",
       "    <tr>\n",
       "      <th>28</th>\n",
       "      <td>WABASH</td>\n",
       "      <td>DR WILLIAM G WEATHERS</td>\n",
       "    </tr>\n",
       "    <tr>\n",
       "      <th>32</th>\n",
       "      <td>WHITMORE</td>\n",
       "      <td>KREMER</td>\n",
       "    </tr>\n",
       "    <tr>\n",
       "      <th>51</th>\n",
       "      <td>OLD HARRODS CREEK</td>\n",
       "      <td>ULRICH</td>\n",
       "    </tr>\n",
       "    <tr>\n",
       "      <th>114</th>\n",
       "      <td>BARDSTOWN</td>\n",
       "      <td>AUTUMN RIDGE</td>\n",
       "    </tr>\n",
       "  </tbody>\n",
       "</table>\n",
       "</div>"
      ],
      "text/plain": [
       "                 CSAFE                  LOJIC\n",
       "2            GRINSTEAD                 KLAGES\n",
       "13               BLOOM              BEECHWOOD\n",
       "28              WABASH  DR WILLIAM G WEATHERS\n",
       "32            WHITMORE                 KREMER\n",
       "51   OLD HARRODS CREEK                 ULRICH\n",
       "114          BARDSTOWN           AUTUMN RIDGE"
      ]
     },
     "execution_count": 231,
     "metadata": {},
     "output_type": "execute_result"
    }
   ],
   "source": [
    "pair('between_street_name_2').dropna()"
   ]
  },
  {
   "cell_type": "code",
   "execution_count": 232,
   "metadata": {},
   "outputs": [
    {
     "data": {
      "text/plain": [
       "array(['COLLISION WITH BICYCLE IN INTERSECTION',\n",
       "       'COLLISION WITH BICYCLIST NON INTERSECTION', nan,\n",
       "       'COLLISION WITH PEDESTRIAN NON - INTERSECTION',\n",
       "       'COLLISION WITH PEDESTRIAN IN INTERSECTION',\n",
       "       'OTHER INTERSECTION COLLISIONS',\n",
       "       '1 VEHICLE ENTERING/LEAVING ENTRANCE',\n",
       "       'OTHER ROADWAY OR MID-BLOCK COLLISION'], dtype=object)"
      ]
     },
     "execution_count": 232,
     "metadata": {},
     "output_type": "execute_result"
    }
   ],
   "source": [
    "DA = pair('directional_analysis')\n",
    "DA[\"CSAFE\"].unique()\n",
    "DA[\"LOJIC\"].unique() \n",
    "# Different sets of values, no intersection. \n",
    "# Maybe I have to drop this; might not be useful."
   ]
  },
  {
   "cell_type": "code",
   "execution_count": 233,
   "metadata": {},
   "outputs": [
    {
     "data": {
      "text/html": [
       "<div>\n",
       "<style scoped>\n",
       "    .dataframe tbody tr th:only-of-type {\n",
       "        vertical-align: middle;\n",
       "    }\n",
       "\n",
       "    .dataframe tbody tr th {\n",
       "        vertical-align: top;\n",
       "    }\n",
       "\n",
       "    .dataframe thead th {\n",
       "        text-align: right;\n",
       "    }\n",
       "</style>\n",
       "<table border=\"1\" class=\"dataframe\">\n",
       "  <thead>\n",
       "    <tr style=\"text-align: right;\">\n",
       "      <th></th>\n",
       "      <th>CSAFE</th>\n",
       "      <th>LOJIC</th>\n",
       "    </tr>\n",
       "  </thead>\n",
       "  <tbody>\n",
       "    <tr>\n",
       "      <th>1 VEHICLE ENTERING/LEAVING ENTRANCE</th>\n",
       "      <td>NaN</td>\n",
       "      <td>1.0</td>\n",
       "    </tr>\n",
       "    <tr>\n",
       "      <th>COLLISION WITH BICYCLE</th>\n",
       "      <td>704.0</td>\n",
       "      <td>NaN</td>\n",
       "    </tr>\n",
       "    <tr>\n",
       "      <th>COLLISION WITH BICYCLE IN INTERSECTION</th>\n",
       "      <td>NaN</td>\n",
       "      <td>45.0</td>\n",
       "    </tr>\n",
       "    <tr>\n",
       "      <th>COLLISION WITH BICYCLIST</th>\n",
       "      <td>569.0</td>\n",
       "      <td>NaN</td>\n",
       "    </tr>\n",
       "    <tr>\n",
       "      <th>COLLISION WITH BICYCLIST NON INTERSECTION</th>\n",
       "      <td>NaN</td>\n",
       "      <td>57.0</td>\n",
       "    </tr>\n",
       "    <tr>\n",
       "      <th>COLLISION WITH PEDESTRIAN IN INTERSECTION</th>\n",
       "      <td>NaN</td>\n",
       "      <td>2.0</td>\n",
       "    </tr>\n",
       "    <tr>\n",
       "      <th>COLLISION WITH PEDESTRIAN NON - INTERSECTION</th>\n",
       "      <td>NaN</td>\n",
       "      <td>2.0</td>\n",
       "    </tr>\n",
       "    <tr>\n",
       "      <th>OTHER INTERSECTION COLLISIONS</th>\n",
       "      <td>NaN</td>\n",
       "      <td>2.0</td>\n",
       "    </tr>\n",
       "    <tr>\n",
       "      <th>OTHER ROADWAY OR MID-BLOCK COLLISION</th>\n",
       "      <td>NaN</td>\n",
       "      <td>1.0</td>\n",
       "    </tr>\n",
       "    <tr>\n",
       "      <th>NaN</th>\n",
       "      <td>NaN</td>\n",
       "      <td>1163.0</td>\n",
       "    </tr>\n",
       "  </tbody>\n",
       "</table>\n",
       "</div>"
      ],
      "text/plain": [
       "                                              CSAFE   LOJIC\n",
       "1 VEHICLE ENTERING/LEAVING ENTRANCE             NaN     1.0\n",
       "COLLISION WITH BICYCLE                        704.0     NaN\n",
       "COLLISION WITH BICYCLE IN INTERSECTION          NaN    45.0\n",
       "COLLISION WITH BICYCLIST                      569.0     NaN\n",
       "COLLISION WITH BICYCLIST NON INTERSECTION       NaN    57.0\n",
       "COLLISION WITH PEDESTRIAN IN INTERSECTION       NaN     2.0\n",
       "COLLISION WITH PEDESTRIAN NON - INTERSECTION    NaN     2.0\n",
       "OTHER INTERSECTION COLLISIONS                   NaN     2.0\n",
       "OTHER ROADWAY OR MID-BLOCK COLLISION            NaN     1.0\n",
       "NaN                                             NaN  1163.0"
      ]
     },
     "execution_count": 233,
     "metadata": {},
     "output_type": "execute_result"
    }
   ],
   "source": [
    "DA.apply(lambda x:x.value_counts(dropna=False))"
   ]
  },
  {
   "cell_type": "code",
   "execution_count": 234,
   "metadata": {},
   "outputs": [
    {
     "data": {
      "text/plain": [
       "roadway_number\n",
       "US0031E    81\n",
       "US0031W    72\n",
       "KY1020     55\n",
       "KY0061     42\n",
       "US0060     36\n",
       "US0150     35\n",
       "US0060A    32\n",
       "KY0864     23\n",
       "KY1931     18\n",
       "KY0155     17\n",
       "KY1865     16\n",
       "KY1065     13\n",
       "KY1447     12\n",
       "KY1747     11\n",
       "US0042     10\n",
       "US0031      9\n",
       "KY1932      8\n",
       "KY0907      7\n",
       "KY2050      7\n",
       "KY1934      7\n",
       "KY2049      6\n",
       "KY2048      6\n",
       "KY0146      5\n",
       "I 0264      5\n",
       "KY3082      5\n",
       "KY2052      5\n",
       "KY1703      5\n",
       "KY1450      5\n",
       "I 0065      4\n",
       "KY2051      4\n",
       "KY1727      4\n",
       "KY0841      4\n",
       "KY2054      4\n",
       "KY1819      4\n",
       "KY3064      4\n",
       "KY1631      3\n",
       "KY2251      3\n",
       "KY1142      3\n",
       "KY2055      2\n",
       "KY2845      2\n",
       "KY0913      2\n",
       "KY2860      1\n",
       "I 0064      1\n",
       "KY3077      1\n",
       "KY1230      1\n",
       "KY2053      1\n",
       "KY0148      1\n",
       "I 0265      1\n",
       "KY1851      1\n",
       "Name: count, dtype: int64"
      ]
     },
     "execution_count": 234,
     "metadata": {},
     "output_type": "execute_result"
    }
   ],
   "source": [
    "RN = pair(\"roadway_number\")\n",
    "join(\"roadway_number\").value_counts()\n"
   ]
  },
  {
   "cell_type": "code",
   "execution_count": 235,
   "metadata": {},
   "outputs": [
    {
     "data": {
      "text/plain": [
       "4        KY2048\n",
       "5        I 0264\n",
       "42       KY1065\n",
       "63       KY1020\n",
       "74       US0060\n",
       "76       US0150\n",
       "106      KY0061\n",
       "114     US0031E\n",
       "115     US0060A\n",
       "128      KY1020\n",
       "160      KY2054\n",
       "250      US0150\n",
       "264      KY0061\n",
       "272      KY1865\n",
       "293      KY0864\n",
       "299      US0150\n",
       "311     US0031E\n",
       "316     US0031E\n",
       "329      KY0061\n",
       "364      KY0864\n",
       "373     US0031E\n",
       "406      KY0061\n",
       "419      US0150\n",
       "427      KY1703\n",
       "434     US0060A\n",
       "436      US0150\n",
       "443      KY2048\n",
       "471      KY1020\n",
       "496     US0031W\n",
       "527      KY0061\n",
       "584     US0031E\n",
       "590     US0060A\n",
       "627      KY2251\n",
       "638      KY0061\n",
       "676      KY1931\n",
       "677      US0060\n",
       "681     US0031W\n",
       "694      KY1065\n",
       "698      US0150\n",
       "704      KY1931\n",
       "741      KY0061\n",
       "760      KY1020\n",
       "784     US0031W\n",
       "811      KY2840\n",
       "852      US0150\n",
       "938      KY2048\n",
       "980     US0060A\n",
       "984      KY0061\n",
       "1082     KY2049\n",
       "1101     KY2860\n",
       "1157     I 0065\n",
       "1260     I 0265\n",
       "Name: between_street_number_2, dtype: object"
      ]
     },
     "execution_count": 235,
     "metadata": {},
     "output_type": "execute_result"
    }
   ],
   "source": [
    "LOJIC['between_street_number_1'].dropna() # Alphanumeric roadway designator like KY 2049, US31W\n",
    "CSAFE['between_street_number_1'].dropna() # Same thing\n",
    "LOJIC['between_street_number_2'].dropna()\n",
    "CSAFE['between_street_number_2'].dropna()\n",
    "# These all have the same kind of alphanumeric data. \n",
    "# Rectify these names to make them compatible\n",
    "# * make sure this doesn't clash with anything. \n",
    "\n",
    "# DONE"
   ]
  },
  {
   "cell_type": "code",
   "execution_count": 236,
   "metadata": {},
   "outputs": [
    {
     "data": {
      "text/plain": [
       "killed\n",
       "False    1262\n",
       "True       11\n",
       "Name: count, dtype: int64"
      ]
     },
     "execution_count": 236,
     "metadata": {},
     "output_type": "execute_result"
    }
   ],
   "source": [
    "CSAFE['killed'].apply(lambda x:True if x > 0 else False).value_counts()"
   ]
  },
  {
   "cell_type": "code",
   "execution_count": 237,
   "metadata": {},
   "outputs": [
    {
     "data": {
      "text/plain": [
       "'Wednesday'"
      ]
     },
     "execution_count": 237,
     "metadata": {},
     "output_type": "execute_result"
    }
   ],
   "source": [
    "d =CSAFE['date'][0]\n",
    "pd.Timestamp(d).day_name()\n"
   ]
  },
  {
   "cell_type": "markdown",
   "metadata": {},
   "source": [
    "## Date overlap\n",
    "\n"
   ]
  },
  {
   "cell_type": "markdown",
   "metadata": {},
   "source": [
    "Conveniently, my two data sets have an overlap in terms of the date ranges they cover. \"CSAFE\" has records from 2010-2017 and LOJIC has records from 2016 to 2023. I'll check these records to see if there are any problems merging them.\n",
    "\n",
    "Also, I may be able to gain insights into how each dataset codes different information.l"
   ]
  },
  {
   "cell_type": "code",
   "execution_count": 238,
   "metadata": {},
   "outputs": [],
   "source": [
    "import numpy as np\n",
    "\n",
    "CSAFE['date'] = CSAFE['date'].apply(pd.Timestamp)\n",
    "LOJIC['date'] = LOJIC['date'].apply(pd.Timestamp)\n",
    "\n",
    "# I'm loading data from CSV, which stores Timestamps as strings.\n",
    "# I have to convert them back to pd.Timestamp if I want to use comparisons\n",
    "# This is annoying. Perhaps break up date/time into year/month/day/hour/etc... columns?\n",
    "\n",
    "# Find all Timestamps that are common between all my data.\n",
    "date_intersect = np.intersect1d(CSAFE['date'], LOJIC['date'])\n",
    "date_intersect.sort()\n",
    "date_intersect\n",
    "\n",
    "# Select the rows corresponding to the common Timestamps from each dataframe\n",
    "# With these dataframes, set the index to \"date\" since that's what we'll be comparing against. \n",
    "CSAFE_intersect = CSAFE[CSAFE['date'].isin(date_intersect)]\n",
    "LOJIC_intersect = LOJIC[LOJIC['date'].isin(date_intersect)]\n",
    "CS = CSAFE_intersect.set_index('date').sort_index()\n",
    "LO = LOJIC_intersect.set_index('date').sort_index()\n",
    "#assert all(CSAFE_intersect.index == LOJIC_intersect.index)\n",
    "cols = list(np.intersect1d(CSAFE_intersect.columns, LOJIC_intersect.columns))\n",
    "\n"
   ]
  },
  {
   "cell_type": "code",
   "execution_count": 239,
   "metadata": {},
   "outputs": [],
   "source": [
    "def do(date_index):\n",
    "    date = date_intersect[date_index]\n",
    "\n",
    "    CS = CSAFE_intersect[CSAFE_intersect.date == date]\n",
    "    LO = LOJIC_intersect[LOJIC_intersect.date == date]\n",
    "    df = pd.concat((CS, LO)).transpose()\n",
    "    df['TEST'] = df.iloc[:,0] == df.iloc[:,1]\n",
    "    dropnulls = df[(df.iloc[:,0].notnull() | df.iloc[:,1].notnull())]\n",
    "    return dropnulls[dropnulls['TEST'] == False]\n"
   ]
  },
  {
   "cell_type": "code",
   "execution_count": 246,
   "metadata": {},
   "outputs": [
    {
     "data": {
      "text/plain": [
       "roadway_type\n",
       "LOCAL STREET         665\n",
       "STATE                270\n",
       "FEDERAL              255\n",
       "COUNTY ROAD           48\n",
       "NONE OF THE ABOVE     19\n",
       "INTERSTATE            11\n",
       "FRONTAGE ROAD          1\n",
       "Name: count, dtype: int64"
      ]
     },
     "metadata": {},
     "output_type": "display_data"
    },
    {
     "data": {
      "text/plain": [
       "roadway_type\n",
       "STATE              65\n",
       "METRO              52\n",
       "SHIVELY             1\n",
       "BROWNSBORO FARM     1\n",
       "Name: count, dtype: int64"
      ]
     },
     "metadata": {},
     "output_type": "display_data"
    }
   ],
   "source": [
    "display(CSAFE['roadway_type'].value_counts(), LOJIC['roadway_type'].value_counts())"
   ]
  },
  {
   "cell_type": "code",
   "execution_count": 241,
   "metadata": {},
   "outputs": [
    {
     "data": {
      "text/plain": [
       "0      LOCAL ROAD\n",
       "1           STATE\n",
       "2           STATE\n",
       "3           STATE\n",
       "4      LOCAL ROAD\n",
       "          ...    \n",
       "114    LOCAL ROAD\n",
       "115    LOCAL ROAD\n",
       "116    LOCAL ROAD\n",
       "117    LOCAL ROAD\n",
       "118         STATE\n",
       "Name: roadway_type, Length: 119, dtype: object"
      ]
     },
     "execution_count": 241,
     "metadata": {},
     "output_type": "execute_result"
    }
   ],
   "source": [
    "LOJIC['roadway_type'].replace({\"SHIVELY\":\"LOCAL ROAD\", \"BROWNSBORO FARM\":\"LOCAL ROAD\", \"METRO\":\"LOCAL ROAD\"})"
   ]
  },
  {
   "cell_type": "code",
   "execution_count": 245,
   "metadata": {},
   "outputs": [
    {
     "data": {
      "text/plain": [
       "directional_analysis\n",
       "COLLISION WITH BICYCLIST NON INTERSECTION       57\n",
       "COLLISION WITH BICYCLE IN INTERSECTION          45\n",
       "COLLISION WITH PEDESTRIAN NON - INTERSECTION     2\n",
       "COLLISION WITH PEDESTRIAN IN INTERSECTION        2\n",
       "OTHER INTERSECTION COLLISIONS                    2\n",
       "1 VEHICLE ENTERING/LEAVING ENTRANCE              1\n",
       "OTHER ROADWAY OR MID-BLOCK COLLISION             1\n",
       "Name: count, dtype: int64"
      ]
     },
     "execution_count": 245,
     "metadata": {},
     "output_type": "execute_result"
    }
   ],
   "source": [
    "LOJIC['directional_analysis'].value_counts()"
   ]
  },
  {
   "cell_type": "markdown",
   "metadata": {},
   "source": [
    "LOJIC: COLLISION WITH BICYCL* \n",
    "...IN INTERSECTION vs. NON - INTERSECTION\n",
    "This is useful generate another column that's intersection / non intersection in analysis\n"
   ]
  },
  {
   "cell_type": "markdown",
   "metadata": {},
   "source": [
    "`[\"incident_id\", \"object_id\", \"master_file_number\", \"local_code\"]` None of these seem to match up in any meaningful way. Since I can index these on other values, I think I will drop these from the merged dataset. "
   ]
  }
 ],
 "metadata": {
  "kernelspec": {
   "display_name": "venv",
   "language": "python",
   "name": "python3"
  },
  "language_info": {
   "codemirror_mode": {
    "name": "ipython",
    "version": 3
   },
   "file_extension": ".py",
   "mimetype": "text/x-python",
   "name": "python",
   "nbconvert_exporter": "python",
   "pygments_lexer": "ipython3",
   "version": "3.11.1"
  },
  "orig_nbformat": 4
 },
 "nbformat": 4,
 "nbformat_minor": 2
}
