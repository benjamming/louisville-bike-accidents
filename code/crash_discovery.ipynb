{
 "cells": [
  {
   "cell_type": "markdown",
   "metadata": {},
   "source": [
    "# Discovery notebook for cycling crash data"
   ]
  },
  {
   "cell_type": "code",
   "execution_count": 11,
   "metadata": {},
   "outputs": [],
   "source": [
    "import pandas as pd\n",
    "\n",
    "DATA1 = \"../data/cycling_safety_louisville.csv\"\n",
    "# DATA1 points to crash data from 2010 to 2017\n",
    "# This data came from: https://zenodo.org/records/5603036\n",
    "# Source: https://zenodo.org/records/5603036/files/louisville.zip\n",
    "# Shape: 1273 rows x 54 columns\n",
    "\n",
    "DATA2 = \"../data/Louisville_Metro_KY_-_Traffic_Fatalities_and_Suspected_Serious_Injuries.csv\"\n",
    "# DATA2 points to crash data from 2016 to 2023.\n",
    "# This data came from the Louisville Open Data portal\n",
    "# Source: https://data.louisvilleky.gov/datasets/LOJIC::louisville-metro-ky-traffic-fatalities-and-suspected-serious-injuries-1/explore\n",
    "# Shape: 4901 rows x 44 columns\n"
   ]
  },
  {
   "cell_type": "code",
   "execution_count": 12,
   "metadata": {},
   "outputs": [],
   "source": [
    "df1 = pd.read_csv(DATA1)\n",
    "df2 = pd.read_csv(DATA2)"
   ]
  },
  {
   "cell_type": "markdown",
   "metadata": {},
   "source": [
    "# Building the data dictionaries\n",
    "\n",
    "\n",
    "## cycling_safety data\n",
    "| column name | type | description | value notes | cleaning notes | merge notes | \n",
    "|-------------|------|-------------|-------------|----------------|-------------|\n",
    "|  Unnamed: 0 | number | index number for row | | ignore | |\n",
    "| MASTER FILE NUMBER | number | case number for authorities? | | possibly ignore | can use to compare overlap |\n",
    "| INVESTIGATING AGENCY | string | agency responding to crash | usually LMPD, but others too | get valuecounts | |\n",
    "| LOCAL CODE | number | case number for local authority? | | possibly ignore | useful for comparison? |\n",
    "| COLLISION STATUS CODE | string | code for case status | usually AC | get table for code meaning; it exists | |\n",
    "| COUNTY NAME | number | county crash occurred in | should all be the same: 56: Jefferson County | check if there are weird values | |\n",
    "| ROADWAY NUMBER | alphanumeric | code for state/county/etc roads like KY303 | a lot of null values |  | do these match the numbers in the other dataset? |\n",
    "| BLOCK/HOUSE # | | | | | |\n",
    "| ROADWAY NAME | string | name of primary road where the crash occurred | | | |\n",
    "| ROADWAY SUFFIX | string | RD, AVE, LN, WAY, stuff like that | | | |\n",
    "| ROADWAY DIRECTION CODE | string | S, N, E, W, stuff like that | | | |\n",
    "| GPS LATITUDE DECIMAL | float/decimal | latitude coordinate | same as \"Latitude\"? | redundant? | |\n",
    "| GPS LONGITUDE DECIMAL | float/decimal | longitudue coordinate | same as \"longitude\"? | redundant? | |\n",
    "| MILEPOINT DERIVED | | | | | |\n",
    "| COLLISION DATE | datestring | date of collision | 2010-2017 | | ==CollisionDate in  DATA2??|\n",
    "| COLLISION TIME | | | | | |\n",
    "| INTERSECTION ROADWAY # | | | | | |\n",
    "| INTERSECTION ROADWAY NAME | | | | | |\n",
    "| INTERSECTION ROADWAY SFX | | | | | |\n",
    "|  BETWEEN STREET ROADWAY # 1 | | | | | |\n",
    "| BETWEEN STREET ROADWAY NAME 1 | | | | | |\n",
    "| BETWEEN STREET ROADWAY SFX 1 | | | | | |\n",
    "| BETWEEN STREET ROADWAY # 2 | | | | | |\n",
    "| BETWEEN STREET ROADWAY NAME 2 | | | | | |\n",
    "| BETWEEN STREET ROADWAY SFX 2 | | | | | |\n",
    "| UNITS INVOLVED | | | | | |\n",
    "| MOTOR VEHICLES INVOLVED | | | | | |\n",
    "| KILLED | bool? | did the crash kill someone? | | | |\n",
    "| INJURED | bool? | was someone injured in the crash? | | | |\n",
    "\n",
    "Note:\n",
    "Columns with names like like \"A CODE\", \"A\" below all have a similar pattern:\n",
    "\n",
    "| A CODE | number | condition code | small int | 1:1 map to A | ... |\n",
    "|--------|--------|----------------|-----------|--------------|-----|\n",
    "| A | number | human readable condition | short string | 1:1 map to A CODE | |\n",
    "\n",
    "Back to the data dictionary:\n",
    "\n",
    "\n",
    "\n",
    "| column name | type | description | value notes | cleaning notes | merge notes | \n",
    "|-------------|------|-------------|-------------|----------------|-------------|\n",
    "| 30 | WEATHER CODE | number | numeric code for WEATHER condition | maps 1:1 with WEATHER | redundant? | same weather codes in other data? |\n",
    "| 31 | WEATHER | string | human readable for WEATHER CODE | maps 1:1 with WEATHER CODE | | |\n",
    "| 32 | ROADWAY CONDITION CODE | number | numeric code for ROADWAY CONDITION | | | |\n",
    "| 33 | ROADWAY CONDITION | string | human readable for ROWADWAY CONDITION CODE | | | |\n",
    "| 34 | HIT & RUN INDICATOR | bool? | was the crash a hit and run?  | | | |\n",
    "| 35 | ROADWAY TYPE CODE | number | numeric code for ROADWAY TYPE | | | |\n",
    "| 36 | ROADWAY TYPE | string | human readable for ROADWAY TYPE CODE | | | |\n",
    "| 37 | DIRECTIONAL ANALYSIS CODE | number | numeric code for DIRECTIONAL ANALYSIS | | | |\n",
    "| 38 | DIRECTIONAL ANALYSIS | string | human readable for DIRECTIONAL ANALYSIS CODE  | | | |\n",
    "| 39 | MANNER OF COLLISION CODE | string | numeric code for MANNER OF COLLISION  | | | |\n",
    "| 40 | MANNER OF COLLISION | | | | | |\n",
    "| 41 | ROADWAY CHARACTER CODE | | | | | |\n",
    "| 42 | ROADWAY CHARACTER | | | | | |\n",
    "| 43 | LIGHT CONDITION CODE | | | | | |\n",
    "| 44 | LIGHT CONDITION | | | | | |\n",
    "| 45 | RAMP FROM ROADWAY ID | | | | | |\n",
    "| 46 | RAMP TO ROADWAY ID | | | | | |\n",
    "| 47 | SECONDARY COLLISION INDICATOR | bool? | was this collision a result of another collision | probably boolean; check that | is this always 0/False? | |\n",
    "| 48 | hour | int | hour of collision | 24 hour clock | isn't this a repeat of info in COLLISION TIME? | |\n",
    "| 49 | minute | int | minute of collision | normal minutes | isn't this a repeat of info in COLLISION TIME? | |\n",
    "| 50 | Date | datestring | another date field? | do these values match with 'COLLISION DATE'? | figure out what the difference is between this field and COLLISION DATE, if any. If they're redundant, ignore one of them| figure out which of these dates is relevant; compare the overlap here with the other set to confirm |\n",
    "| 51 | Latitude | float | latitude coordinate of crash site | within boundary range for Jefferson County | redundant? | |\n",
    "| 52 | Longitude | float | longitude coordinate of crash site | within boundary range for Jefferson Cty | redundant? | |\n",
    "| 53 | geometry | POINT | point location in logitude, latitude form | repeated data elsewhere | possibly ignore; can reconstruct from other fields | are any points repeated in the other dataset? |\n",
    "| 54 | index_right | number | another index value | always 0 | ignore | |\n"
   ]
  },
  {
   "cell_type": "markdown",
   "metadata": {},
   "source": [
    "## Exploring DATA1"
   ]
  },
  {
   "cell_type": "code",
   "execution_count": 13,
   "metadata": {},
   "outputs": [
    {
     "data": {
      "text/plain": [
       "Index(['Unnamed: 0', 'MASTER FILE NUMBER', 'INVESTIGATING AGENCY',\n",
       "       'LOCAL CODE', 'COLLISION STATUS CODE', 'COUNTY NAME', 'ROADWAY NUMBER',\n",
       "       'BLOCK/HOUSE #', 'ROADWAY NAME', 'ROADWAY SUFFIX',\n",
       "       'ROADWAY DIRECTION CODE', 'GPS LATITUDE DECIMAL',\n",
       "       'GPS LONGITUDE DECIMAL', 'MILEPOINT DERIVED', 'COLLISION DATE',\n",
       "       'COLLISION TIME', 'INTERSECTION ROADWAY #', 'INTERSECTION ROADWAY NAME',\n",
       "       'INTERSECTION ROADWAY SFX', 'BETWEEN STREET ROADWAY # 1',\n",
       "       'BETWEEN STREET ROADWAY NAME 1', 'BETWEEN STREET ROADWAY SFX 1',\n",
       "       'BETWEEN STREET ROADWAY # 2', 'BETWEEN STREET ROADWAY NAME 2',\n",
       "       'BETWEEN STREET ROADWAY SFX 2', 'UNITS INVOLVED',\n",
       "       'MOTOR VEHICLES INVOLVED', 'KILLED', 'INJURED', 'WEATHER CODE',\n",
       "       'WEATHER', 'ROADWAY CONDITION CODE', 'ROADWAY CONDITION',\n",
       "       'HIT & RUN INDICATOR', 'ROADWAY TYPE CODE', 'ROADWAY TYPE',\n",
       "       'DIRECTIONAL ANALYSIS CODE', 'DIRECTIONAL ANALYSIS',\n",
       "       'MANNER OF COLLISION CODE', 'MANNER OF COLLISION',\n",
       "       'ROADWAY CHARACTER CODE', 'ROADWAY CHARACTER', 'LIGHT CONDITION CODE',\n",
       "       'LIGHT CONDITION', 'RAMP FROM ROADWAY ID', 'RAMP TO ROADWAY ID',\n",
       "       'SECONDARY COLLISION INDICATOR', 'hour', 'minute', 'Date', 'Latitude',\n",
       "       'Longitude', 'geometry', 'index_right'],\n",
       "      dtype='object')"
      ]
     },
     "execution_count": 13,
     "metadata": {},
     "output_type": "execute_result"
    }
   ],
   "source": [
    "# List all the columns\n",
    "df1.columns"
   ]
  },
  {
   "cell_type": "code",
   "execution_count": 14,
   "metadata": {},
   "outputs": [
    {
     "data": {
      "text/plain": [
       "['Unnamed: 0',\n",
       " 'MASTER FILE NUMBER',\n",
       " 'INVESTIGATING AGENCY',\n",
       " 'LOCAL CODE',\n",
       " 'COLLISION STATUS CODE',\n",
       " 'COUNTY NAME',\n",
       " 'UNITS INVOLVED',\n",
       " 'MOTOR VEHICLES INVOLVED',\n",
       " 'KILLED',\n",
       " 'INJURED',\n",
       " 'HIT & RUN INDICATOR',\n",
       " 'SECONDARY COLLISION INDICATOR',\n",
       " 'index_right']"
      ]
     },
     "execution_count": 14,
     "metadata": {},
     "output_type": "execute_result"
    }
   ],
   "source": [
    "# Some of the column names can be organized into groups of related data\n",
    "# Date / Time columns\n",
    "['COLLISION DATE', 'COLLISION TIME', 'hour', 'minute', 'Date']\n",
    "# Geolocation columns\n",
    "['GPS LATITUDE DECIMAL', 'GPS LONGITUDE DECIMAL', 'Latitude', 'Longitude', 'geometry']\n",
    "# Address columns\n",
    "['COUNTY NAME', 'ROADWAY NUMBER', 'BLOCK/HOUSE #', 'ROADWAY NAME', 'ROADWAY SUFFIX',\n",
    "    'ROADWAY DIRECTION CODE', 'MILEPOINT DERIVED','INTERSECTION ROADWAY #', 'INTERSECTION ROADWAY NAME',\n",
    "       'INTERSECTION ROADWAY SFX', 'BETWEEN STREET ROADWAY # 1',\n",
    "       'BETWEEN STREET ROADWAY NAME 1', 'BETWEEN STREET ROADWAY SFX 1',\n",
    "       'BETWEEN STREET ROADWAY # 2', 'BETWEEN STREET ROADWAY NAME 2',\n",
    "       'BETWEEN STREET ROADWAY SFX 2', 'RAMP FROM ROADWAY ID', 'RAMP TO ROADWAY ID']\n",
    "# Code columns\n",
    "['LOCAL CODE', 'COLLISION STATUS CODE', 'WEATHER CODE', \n",
    " 'ROADWAY CONDITION CODE', 'ROADWAY TYPE CODE', 'DIRECTIONAL ANALYSIS CODE',\n",
    " 'MANNER OF COLLISION CODE', 'ROADWAY CHARACTER CODE', 'LIGHT CONDITION CODE']\n",
    "    # Some codes are paired with a human_readable string\n",
    "['WEATHER', 'ROADWAY CONDITION', 'ROADWAY TYPE', 'DIRECTIONAL ANALYSIS', 'MANNER OF COLLISION',\n",
    "     'ROADWAY CHARACTER', 'LIGHT CONDITION']\n",
    "   # Other codes are stand alone:\n",
    "['LOCAL CODE', 'COLLISION STATUS CODE']\n",
    "\n",
    "# Other info\n",
    "['Unnamed: 0', 'MASTER FILE NUMBER', 'INVESTIGATING AGENCY', 'LOCAL CODE', 'COLLISION STATUS CODE',\n",
    "  'COUNTY NAME','UNITS INVOLVED', 'MOTOR VEHICLES INVOLVED', 'KILLED', 'INJURED', 'HIT & RUN INDICATOR',\n",
    "  'SECONDARY COLLISION INDICATOR', 'index_right']\n"
   ]
  },
  {
   "cell_type": "markdown",
   "metadata": {},
   "source": [
    "### Date and time columns\n",
    "`['COLLISION DATE', 'COLLISION TIME', 'hour', 'minute', 'Date']`"
   ]
  },
  {
   "cell_type": "code",
   "execution_count": 30,
   "metadata": {},
   "outputs": [
    {
     "data": {
      "text/html": [
       "<div>\n",
       "<style scoped>\n",
       "    .dataframe tbody tr th:only-of-type {\n",
       "        vertical-align: middle;\n",
       "    }\n",
       "\n",
       "    .dataframe tbody tr th {\n",
       "        vertical-align: top;\n",
       "    }\n",
       "\n",
       "    .dataframe thead th {\n",
       "        text-align: right;\n",
       "    }\n",
       "</style>\n",
       "<table border=\"1\" class=\"dataframe\">\n",
       "  <thead>\n",
       "    <tr style=\"text-align: right;\">\n",
       "      <th></th>\n",
       "      <th>Date</th>\n",
       "      <th>COLLISION DATE</th>\n",
       "    </tr>\n",
       "  </thead>\n",
       "  <tbody>\n",
       "    <tr>\n",
       "      <th>min</th>\n",
       "      <td>2010-01-13 10:00:00</td>\n",
       "      <td>1/10/2011</td>\n",
       "    </tr>\n",
       "    <tr>\n",
       "      <th>max</th>\n",
       "      <td>2017-12-22 21:51:00</td>\n",
       "      <td>9/9/2016</td>\n",
       "    </tr>\n",
       "  </tbody>\n",
       "</table>\n",
       "</div>"
      ],
      "text/plain": [
       "                    Date COLLISION DATE\n",
       "min  2010-01-13 10:00:00      1/10/2011\n",
       "max  2017-12-22 21:51:00       9/9/2016"
      ]
     },
     "execution_count": 30,
     "metadata": {},
     "output_type": "execute_result"
    }
   ],
   "source": [
    "df1[['Date', 'COLLISION DATE']].agg((\"min\", \"max\"))"
   ]
  },
  {
   "cell_type": "code",
   "execution_count": 16,
   "metadata": {},
   "outputs": [
    {
     "data": {
      "text/html": [
       "<div>\n",
       "<style scoped>\n",
       "    .dataframe tbody tr th:only-of-type {\n",
       "        vertical-align: middle;\n",
       "    }\n",
       "\n",
       "    .dataframe tbody tr th {\n",
       "        vertical-align: top;\n",
       "    }\n",
       "\n",
       "    .dataframe thead th {\n",
       "        text-align: right;\n",
       "    }\n",
       "</style>\n",
       "<table border=\"1\" class=\"dataframe\">\n",
       "  <thead>\n",
       "    <tr style=\"text-align: right;\">\n",
       "      <th></th>\n",
       "      <th>COLLISION TIME</th>\n",
       "      <th>hour</th>\n",
       "      <th>minute</th>\n",
       "    </tr>\n",
       "  </thead>\n",
       "  <tbody>\n",
       "    <tr>\n",
       "      <th>min</th>\n",
       "      <td>0</td>\n",
       "      <td>0</td>\n",
       "      <td>0</td>\n",
       "    </tr>\n",
       "    <tr>\n",
       "      <th>max</th>\n",
       "      <td>100009</td>\n",
       "      <td>23</td>\n",
       "      <td>59</td>\n",
       "    </tr>\n",
       "  </tbody>\n",
       "</table>\n",
       "</div>"
      ],
      "text/plain": [
       "     COLLISION TIME  hour  minute\n",
       "min               0     0       0\n",
       "max          100009    23      59"
      ]
     },
     "execution_count": 16,
     "metadata": {},
     "output_type": "execute_result"
    }
   ],
   "source": [
    "df1[['COLLISION TIME', 'hour', 'minute']].agg((\"min\", \"max\"))"
   ]
  },
  {
   "cell_type": "code",
   "execution_count": 17,
   "metadata": {},
   "outputs": [
    {
     "data": {
      "text/html": [
       "<div>\n",
       "<style scoped>\n",
       "    .dataframe tbody tr th:only-of-type {\n",
       "        vertical-align: middle;\n",
       "    }\n",
       "\n",
       "    .dataframe tbody tr th {\n",
       "        vertical-align: top;\n",
       "    }\n",
       "\n",
       "    .dataframe thead th {\n",
       "        text-align: right;\n",
       "    }\n",
       "</style>\n",
       "<table border=\"1\" class=\"dataframe\">\n",
       "  <thead>\n",
       "    <tr style=\"text-align: right;\">\n",
       "      <th></th>\n",
       "      <th>Date</th>\n",
       "      <th>COLLISION DATE</th>\n",
       "      <th>COLLISION TIME</th>\n",
       "    </tr>\n",
       "  </thead>\n",
       "  <tbody>\n",
       "    <tr>\n",
       "      <th>0</th>\n",
       "      <td>2010-02-20 16:20:00</td>\n",
       "      <td>2/20/2010</td>\n",
       "      <td>1620</td>\n",
       "    </tr>\n",
       "    <tr>\n",
       "      <th>1</th>\n",
       "      <td>2010-01-13 13:40:00</td>\n",
       "      <td>1/13/2010</td>\n",
       "      <td>1340</td>\n",
       "    </tr>\n",
       "    <tr>\n",
       "      <th>2</th>\n",
       "      <td>2010-01-13 10:00:00</td>\n",
       "      <td>1/13/2010</td>\n",
       "      <td>100008</td>\n",
       "    </tr>\n",
       "    <tr>\n",
       "      <th>3</th>\n",
       "      <td>2010-01-15 15:50:00</td>\n",
       "      <td>1/15/2010</td>\n",
       "      <td>1550</td>\n",
       "    </tr>\n",
       "    <tr>\n",
       "      <th>4</th>\n",
       "      <td>2010-02-02 06:11:00</td>\n",
       "      <td>2/2/2010</td>\n",
       "      <td>611</td>\n",
       "    </tr>\n",
       "    <tr>\n",
       "      <th>...</th>\n",
       "      <td>...</td>\n",
       "      <td>...</td>\n",
       "      <td>...</td>\n",
       "    </tr>\n",
       "    <tr>\n",
       "      <th>1268</th>\n",
       "      <td>2017-12-05 07:07:00</td>\n",
       "      <td>12/5/2017</td>\n",
       "      <td>707</td>\n",
       "    </tr>\n",
       "    <tr>\n",
       "      <th>1269</th>\n",
       "      <td>2017-12-14 17:09:00</td>\n",
       "      <td>12/14/2017</td>\n",
       "      <td>1709</td>\n",
       "    </tr>\n",
       "    <tr>\n",
       "      <th>1270</th>\n",
       "      <td>2017-12-19 10:00:00</td>\n",
       "      <td>12/19/2017</td>\n",
       "      <td>100002</td>\n",
       "    </tr>\n",
       "    <tr>\n",
       "      <th>1271</th>\n",
       "      <td>2017-12-21 19:56:00</td>\n",
       "      <td>12/21/2017</td>\n",
       "      <td>1956</td>\n",
       "    </tr>\n",
       "    <tr>\n",
       "      <th>1272</th>\n",
       "      <td>2017-12-22 21:51:00</td>\n",
       "      <td>12/22/2017</td>\n",
       "      <td>2151</td>\n",
       "    </tr>\n",
       "  </tbody>\n",
       "</table>\n",
       "<p>1273 rows × 3 columns</p>\n",
       "</div>"
      ],
      "text/plain": [
       "                     Date COLLISION DATE  COLLISION TIME\n",
       "0     2010-02-20 16:20:00      2/20/2010            1620\n",
       "1     2010-01-13 13:40:00      1/13/2010            1340\n",
       "2     2010-01-13 10:00:00      1/13/2010          100008\n",
       "3     2010-01-15 15:50:00      1/15/2010            1550\n",
       "4     2010-02-02 06:11:00       2/2/2010             611\n",
       "...                   ...            ...             ...\n",
       "1268  2017-12-05 07:07:00      12/5/2017             707\n",
       "1269  2017-12-14 17:09:00     12/14/2017            1709\n",
       "1270  2017-12-19 10:00:00     12/19/2017          100002\n",
       "1271  2017-12-21 19:56:00     12/21/2017            1956\n",
       "1272  2017-12-22 21:51:00     12/22/2017            2151\n",
       "\n",
       "[1273 rows x 3 columns]"
      ]
     },
     "execution_count": 17,
     "metadata": {},
     "output_type": "execute_result"
    }
   ],
   "source": [
    "df1[['Date', 'COLLISION DATE', 'COLLISION TIME']]\n",
    "# These seem to match up. It shouldn't be too hard to write code to verify this."
   ]
  },
  {
   "cell_type": "code",
   "execution_count": 18,
   "metadata": {},
   "outputs": [
    {
     "data": {
      "text/html": [
       "<div>\n",
       "<style scoped>\n",
       "    .dataframe tbody tr th:only-of-type {\n",
       "        vertical-align: middle;\n",
       "    }\n",
       "\n",
       "    .dataframe tbody tr th {\n",
       "        vertical-align: top;\n",
       "    }\n",
       "\n",
       "    .dataframe thead th {\n",
       "        text-align: right;\n",
       "    }\n",
       "</style>\n",
       "<table border=\"1\" class=\"dataframe\">\n",
       "  <thead>\n",
       "    <tr style=\"text-align: right;\">\n",
       "      <th></th>\n",
       "      <th>COLLISION TIME</th>\n",
       "      <th>hour</th>\n",
       "      <th>minute</th>\n",
       "    </tr>\n",
       "  </thead>\n",
       "  <tbody>\n",
       "    <tr>\n",
       "      <th>0</th>\n",
       "      <td>1620</td>\n",
       "      <td>16</td>\n",
       "      <td>20</td>\n",
       "    </tr>\n",
       "    <tr>\n",
       "      <th>1</th>\n",
       "      <td>1340</td>\n",
       "      <td>13</td>\n",
       "      <td>40</td>\n",
       "    </tr>\n",
       "    <tr>\n",
       "      <th>2</th>\n",
       "      <td>100008</td>\n",
       "      <td>10</td>\n",
       "      <td>0</td>\n",
       "    </tr>\n",
       "    <tr>\n",
       "      <th>3</th>\n",
       "      <td>1550</td>\n",
       "      <td>15</td>\n",
       "      <td>50</td>\n",
       "    </tr>\n",
       "    <tr>\n",
       "      <th>4</th>\n",
       "      <td>611</td>\n",
       "      <td>6</td>\n",
       "      <td>11</td>\n",
       "    </tr>\n",
       "    <tr>\n",
       "      <th>...</th>\n",
       "      <td>...</td>\n",
       "      <td>...</td>\n",
       "      <td>...</td>\n",
       "    </tr>\n",
       "    <tr>\n",
       "      <th>1268</th>\n",
       "      <td>707</td>\n",
       "      <td>7</td>\n",
       "      <td>7</td>\n",
       "    </tr>\n",
       "    <tr>\n",
       "      <th>1269</th>\n",
       "      <td>1709</td>\n",
       "      <td>17</td>\n",
       "      <td>9</td>\n",
       "    </tr>\n",
       "    <tr>\n",
       "      <th>1270</th>\n",
       "      <td>100002</td>\n",
       "      <td>10</td>\n",
       "      <td>0</td>\n",
       "    </tr>\n",
       "    <tr>\n",
       "      <th>1271</th>\n",
       "      <td>1956</td>\n",
       "      <td>19</td>\n",
       "      <td>56</td>\n",
       "    </tr>\n",
       "    <tr>\n",
       "      <th>1272</th>\n",
       "      <td>2151</td>\n",
       "      <td>21</td>\n",
       "      <td>51</td>\n",
       "    </tr>\n",
       "  </tbody>\n",
       "</table>\n",
       "<p>1273 rows × 3 columns</p>\n",
       "</div>"
      ],
      "text/plain": [
       "      COLLISION TIME  hour  minute\n",
       "0               1620    16      20\n",
       "1               1340    13      40\n",
       "2             100008    10       0\n",
       "3               1550    15      50\n",
       "4                611     6      11\n",
       "...              ...   ...     ...\n",
       "1268             707     7       7\n",
       "1269            1709    17       9\n",
       "1270          100002    10       0\n",
       "1271            1956    19      56\n",
       "1272            2151    21      51\n",
       "\n",
       "[1273 rows x 3 columns]"
      ]
     },
     "execution_count": 18,
     "metadata": {},
     "output_type": "execute_result"
    }
   ],
   "source": [
    "df1[['COLLISION TIME', 'hour', 'minute']]\n",
    "# These seem to match up. Write a script to check this data"
   ]
  },
  {
   "cell_type": "code",
   "execution_count": 19,
   "metadata": {},
   "outputs": [
    {
     "data": {
      "text/html": [
       "<div>\n",
       "<style scoped>\n",
       "    .dataframe tbody tr th:only-of-type {\n",
       "        vertical-align: middle;\n",
       "    }\n",
       "\n",
       "    .dataframe tbody tr th {\n",
       "        vertical-align: top;\n",
       "    }\n",
       "\n",
       "    .dataframe thead th {\n",
       "        text-align: right;\n",
       "    }\n",
       "</style>\n",
       "<table border=\"1\" class=\"dataframe\">\n",
       "  <thead>\n",
       "    <tr style=\"text-align: right;\">\n",
       "      <th></th>\n",
       "      <th>COLLISION TIME</th>\n",
       "      <th>hour</th>\n",
       "      <th>minute</th>\n",
       "    </tr>\n",
       "  </thead>\n",
       "  <tbody>\n",
       "    <tr>\n",
       "      <th>861</th>\n",
       "      <td>1000</td>\n",
       "      <td>10</td>\n",
       "      <td>0</td>\n",
       "    </tr>\n",
       "    <tr>\n",
       "      <th>26</th>\n",
       "      <td>1000</td>\n",
       "      <td>10</td>\n",
       "      <td>0</td>\n",
       "    </tr>\n",
       "    <tr>\n",
       "      <th>1052</th>\n",
       "      <td>1000</td>\n",
       "      <td>10</td>\n",
       "      <td>0</td>\n",
       "    </tr>\n",
       "    <tr>\n",
       "      <th>104</th>\n",
       "      <td>1000</td>\n",
       "      <td>10</td>\n",
       "      <td>0</td>\n",
       "    </tr>\n",
       "    <tr>\n",
       "      <th>1063</th>\n",
       "      <td>1001</td>\n",
       "      <td>10</td>\n",
       "      <td>1</td>\n",
       "    </tr>\n",
       "    <tr>\n",
       "      <th>...</th>\n",
       "      <td>...</td>\n",
       "      <td>...</td>\n",
       "      <td>...</td>\n",
       "    </tr>\n",
       "    <tr>\n",
       "      <th>1201</th>\n",
       "      <td>100009</td>\n",
       "      <td>10</td>\n",
       "      <td>0</td>\n",
       "    </tr>\n",
       "    <tr>\n",
       "      <th>6</th>\n",
       "      <td>100009</td>\n",
       "      <td>10</td>\n",
       "      <td>0</td>\n",
       "    </tr>\n",
       "    <tr>\n",
       "      <th>712</th>\n",
       "      <td>100009</td>\n",
       "      <td>10</td>\n",
       "      <td>0</td>\n",
       "    </tr>\n",
       "    <tr>\n",
       "      <th>542</th>\n",
       "      <td>100009</td>\n",
       "      <td>10</td>\n",
       "      <td>0</td>\n",
       "    </tr>\n",
       "    <tr>\n",
       "      <th>292</th>\n",
       "      <td>100009</td>\n",
       "      <td>10</td>\n",
       "      <td>0</td>\n",
       "    </tr>\n",
       "  </tbody>\n",
       "</table>\n",
       "<p>89 rows × 3 columns</p>\n",
       "</div>"
      ],
      "text/plain": [
       "      COLLISION TIME  hour  minute\n",
       "861             1000    10       0\n",
       "26              1000    10       0\n",
       "1052            1000    10       0\n",
       "104             1000    10       0\n",
       "1063            1001    10       1\n",
       "...              ...   ...     ...\n",
       "1201          100009    10       0\n",
       "6             100009    10       0\n",
       "712           100009    10       0\n",
       "542           100009    10       0\n",
       "292           100009    10       0\n",
       "\n",
       "[89 rows x 3 columns]"
      ]
     },
     "execution_count": 19,
     "metadata": {},
     "output_type": "execute_result"
    }
   ],
   "source": [
    "times = df1[['COLLISION TIME', 'hour', 'minute']]\n",
    "times[(times['hour'] == 10)].sort_values(by='COLLISION TIME')\n"
   ]
  },
  {
   "cell_type": "markdown",
   "metadata": {},
   "source": [
    "### Geolocation columns\n",
    "\n",
    "`['GPS LATITUDE DECIMAL', 'GPS LONGITUDE DECIMAL', 'Latitude', 'Longitude', 'geometry']`\n"
   ]
  },
  {
   "cell_type": "code",
   "execution_count": 20,
   "metadata": {},
   "outputs": [
    {
     "data": {
      "text/html": [
       "<div>\n",
       "<style scoped>\n",
       "    .dataframe tbody tr th:only-of-type {\n",
       "        vertical-align: middle;\n",
       "    }\n",
       "\n",
       "    .dataframe tbody tr th {\n",
       "        vertical-align: top;\n",
       "    }\n",
       "\n",
       "    .dataframe thead th {\n",
       "        text-align: right;\n",
       "    }\n",
       "</style>\n",
       "<table border=\"1\" class=\"dataframe\">\n",
       "  <thead>\n",
       "    <tr style=\"text-align: right;\">\n",
       "      <th></th>\n",
       "      <th>GPS LONGITUDE DECIMAL</th>\n",
       "      <th>Longitude</th>\n",
       "      <th>GPS LATITUDE DECIMAL</th>\n",
       "      <th>Latitude</th>\n",
       "      <th>geometry</th>\n",
       "    </tr>\n",
       "  </thead>\n",
       "  <tbody>\n",
       "    <tr>\n",
       "      <th>0</th>\n",
       "      <td>-85.707933</td>\n",
       "      <td>-85.707933</td>\n",
       "      <td>38.231850</td>\n",
       "      <td>38.231850</td>\n",
       "      <td>POINT (-85.707933333 38.23185)</td>\n",
       "    </tr>\n",
       "    <tr>\n",
       "      <th>1</th>\n",
       "      <td>-85.696572</td>\n",
       "      <td>-85.696572</td>\n",
       "      <td>38.273995</td>\n",
       "      <td>38.273995</td>\n",
       "      <td>POINT (-85.6965716 38.2739947)</td>\n",
       "    </tr>\n",
       "    <tr>\n",
       "      <th>2</th>\n",
       "      <td>-85.703576</td>\n",
       "      <td>-85.703576</td>\n",
       "      <td>38.258551</td>\n",
       "      <td>38.258551</td>\n",
       "      <td>POINT (-85.70357610000001 38.2585512)</td>\n",
       "    </tr>\n",
       "    <tr>\n",
       "      <th>3</th>\n",
       "      <td>-85.697265</td>\n",
       "      <td>-85.697265</td>\n",
       "      <td>38.250012</td>\n",
       "      <td>38.250012</td>\n",
       "      <td>POINT (-85.6972652 38.2500121)</td>\n",
       "    </tr>\n",
       "    <tr>\n",
       "      <th>4</th>\n",
       "      <td>-85.793380</td>\n",
       "      <td>-85.793380</td>\n",
       "      <td>38.195890</td>\n",
       "      <td>38.195890</td>\n",
       "      <td>POINT (-85.7933803 38.1958905)</td>\n",
       "    </tr>\n",
       "    <tr>\n",
       "      <th>...</th>\n",
       "      <td>...</td>\n",
       "      <td>...</td>\n",
       "      <td>...</td>\n",
       "      <td>...</td>\n",
       "      <td>...</td>\n",
       "    </tr>\n",
       "    <tr>\n",
       "      <th>1268</th>\n",
       "      <td>-85.733644</td>\n",
       "      <td>-85.733644</td>\n",
       "      <td>38.153815</td>\n",
       "      <td>38.153815</td>\n",
       "      <td>POINT (-85.73364410000001 38.1538153)</td>\n",
       "    </tr>\n",
       "    <tr>\n",
       "      <th>1269</th>\n",
       "      <td>-85.688008</td>\n",
       "      <td>-85.688008</td>\n",
       "      <td>38.163618</td>\n",
       "      <td>38.163618</td>\n",
       "      <td>POINT (-85.6880079 38.1636178)</td>\n",
       "    </tr>\n",
       "    <tr>\n",
       "      <th>1270</th>\n",
       "      <td>-85.671480</td>\n",
       "      <td>-85.671480</td>\n",
       "      <td>38.160030</td>\n",
       "      <td>38.160030</td>\n",
       "      <td>POINT (-85.6714798 38.1600301)</td>\n",
       "    </tr>\n",
       "    <tr>\n",
       "      <th>1271</th>\n",
       "      <td>-85.626309</td>\n",
       "      <td>-85.626309</td>\n",
       "      <td>38.198257</td>\n",
       "      <td>38.198257</td>\n",
       "      <td>POINT (-85.62630919999999 38.1982569)</td>\n",
       "    </tr>\n",
       "    <tr>\n",
       "      <th>1272</th>\n",
       "      <td>-85.890658</td>\n",
       "      <td>-85.890658</td>\n",
       "      <td>38.124819</td>\n",
       "      <td>38.124819</td>\n",
       "      <td>POINT (-85.8906576 38.1248191)</td>\n",
       "    </tr>\n",
       "  </tbody>\n",
       "</table>\n",
       "<p>1273 rows × 5 columns</p>\n",
       "</div>"
      ],
      "text/plain": [
       "      GPS LONGITUDE DECIMAL  Longitude  GPS LATITUDE DECIMAL   Latitude  \\\n",
       "0                -85.707933 -85.707933             38.231850  38.231850   \n",
       "1                -85.696572 -85.696572             38.273995  38.273995   \n",
       "2                -85.703576 -85.703576             38.258551  38.258551   \n",
       "3                -85.697265 -85.697265             38.250012  38.250012   \n",
       "4                -85.793380 -85.793380             38.195890  38.195890   \n",
       "...                     ...        ...                   ...        ...   \n",
       "1268             -85.733644 -85.733644             38.153815  38.153815   \n",
       "1269             -85.688008 -85.688008             38.163618  38.163618   \n",
       "1270             -85.671480 -85.671480             38.160030  38.160030   \n",
       "1271             -85.626309 -85.626309             38.198257  38.198257   \n",
       "1272             -85.890658 -85.890658             38.124819  38.124819   \n",
       "\n",
       "                                   geometry  \n",
       "0            POINT (-85.707933333 38.23185)  \n",
       "1            POINT (-85.6965716 38.2739947)  \n",
       "2     POINT (-85.70357610000001 38.2585512)  \n",
       "3            POINT (-85.6972652 38.2500121)  \n",
       "4            POINT (-85.7933803 38.1958905)  \n",
       "...                                     ...  \n",
       "1268  POINT (-85.73364410000001 38.1538153)  \n",
       "1269         POINT (-85.6880079 38.1636178)  \n",
       "1270         POINT (-85.6714798 38.1600301)  \n",
       "1271  POINT (-85.62630919999999 38.1982569)  \n",
       "1272         POINT (-85.8906576 38.1248191)  \n",
       "\n",
       "[1273 rows x 5 columns]"
      ]
     },
     "execution_count": 20,
     "metadata": {},
     "output_type": "execute_result"
    }
   ],
   "source": [
    "\n",
    "df1[['GPS LONGITUDE DECIMAL', 'Longitude', 'GPS LATITUDE DECIMAL', 'Latitude', 'geometry']]\n",
    "# POINT data is more precise than other lat/long data"
   ]
  },
  {
   "cell_type": "markdown",
   "metadata": {},
   "source": [
    "### \"... CODE\" columns\n",
    "\n",
    "`['LOCAL CODE', 'COLLISION STATUS CODE', 'WEATHER CODE', \n",
    " 'ROADWAY CONDITION CODE', 'ROADWAY TYPE CODE', 'DIRECTIONAL ANALYSIS CODE',\n",
    " 'MANNER OF COLLISION CODE', 'ROADWAY CHARACTER CODE', 'LIGHT CONDITION CODE']`\n",
    "\n",
    "`['WEATHER', 'ROADWAY CONDITION', 'ROADWAY TYPE', 'DIRECTIONAL ANALYSIS', 'MANNER OF COLLISION',\n",
    "'ROADWAY CHARACTER', 'LIGHT CONDITION']`"
   ]
  },
  {
   "cell_type": "code",
   "execution_count": 21,
   "metadata": {},
   "outputs": [
    {
     "data": {
      "text/plain": [
       "{'WEATHER': 'WEATHER CODE',\n",
       " 'ROADWAY CONDITION': 'ROADWAY CONDITION CODE',\n",
       " 'ROADWAY TYPE': 'ROADWAY TYPE CODE',\n",
       " 'DIRECTIONAL ANALYSIS': 'DIRECTIONAL ANALYSIS CODE',\n",
       " 'MANNER OF COLLISION': 'MANNER OF COLLISION CODE',\n",
       " 'ROADWAY CHARACTER': 'ROADWAY CHARACTER CODE',\n",
       " 'LIGHT CONDITION': 'LIGHT CONDITION CODE'}"
      ]
     },
     "execution_count": 21,
     "metadata": {},
     "output_type": "execute_result"
    }
   ],
   "source": [
    "human_readable = ['WEATHER', 'ROADWAY CONDITION', 'ROADWAY TYPE', 'DIRECTIONAL ANALYSIS', 'MANNER OF COLLISION',\n",
    "     'ROADWAY CHARACTER', 'LIGHT CONDITION']\n",
    "codes = {H:H+\" CODE\" for H in human_readable}\n",
    "codes"
   ]
  },
  {
   "cell_type": "code",
   "execution_count": 28,
   "metadata": {},
   "outputs": [
    {
     "data": {
      "text/plain": [
       "True"
      ]
     },
     "execution_count": 28,
     "metadata": {},
     "output_type": "execute_result"
    }
   ],
   "source": [
    "# Test each X CODE : X pair: They should be a 1:1 mapping, so the count of unique items for each\n",
    "# human readable should equal the count of unique values for the numeric codes\n",
    "all((len(df1[key].unique()) == len(df1[value].unique())) for key, value in codes.items())"
   ]
  },
  {
   "cell_type": "code",
   "execution_count": 23,
   "metadata": {},
   "outputs": [
    {
     "data": {
      "text/plain": [
       "ROADWAY TYPE CODE\n",
       "5.0     665\n",
       "7.0     270\n",
       "2.0     255\n",
       "1.0      48\n",
       "99.0     19\n",
       "4.0      11\n",
       "NaN       4\n",
       "3.0       1\n",
       "Name: count, dtype: int64"
      ]
     },
     "execution_count": 23,
     "metadata": {},
     "output_type": "execute_result"
    }
   ],
   "source": [
    "df1['ROADWAY TYPE CODE'].value_counts(dropna=False)\n",
    "# Has some null values\n",
    "# NAN roadway type code -> NONE OF THE ABOVE in ROADWAY TYPE"
   ]
  },
  {
   "cell_type": "markdown",
   "metadata": {},
   "source": [
    "### Address information\n",
    "\n",
    "`['COUNTY NAME', 'ROADWAY NUMBER', 'BLOCK/HOUSE #', 'ROADWAY NAME', 'ROADWAY SUFFIX',\n",
    "    'ROADWAY DIRECTION CODE', 'MILEPOINT DERIVED','INTERSECTION ROADWAY #', 'INTERSECTION ROADWAY NAME',\n",
    "       'INTERSECTION ROADWAY SFX', 'BETWEEN STREET ROADWAY # 1',\n",
    "       'BETWEEN STREET ROADWAY NAME 1', 'BETWEEN STREET ROADWAY SFX 1',\n",
    "       'BETWEEN STREET ROADWAY # 2', 'BETWEEN STREET ROADWAY NAME 2',\n",
    "       'BETWEEN STREET ROADWAY SFX 2', 'RAMP FROM ROADWAY ID', 'RAMP TO ROADWAY ID']`"
   ]
  },
  {
   "cell_type": "code",
   "execution_count": null,
   "metadata": {},
   "outputs": [],
   "source": []
  },
  {
   "cell_type": "markdown",
   "metadata": {},
   "source": [
    "### Other columns\n",
    "`['Unnamed: 0', 'MASTER FILE NUMBER', 'INVESTIGATING AGENCY', 'LOCAL CODE', 'COLLISION STATUS CODE',\n",
    "  'COUNTY NAME','UNITS INVOLVED', 'MOTOR VEHICLES INVOLVED', 'KILLED', 'INJURED', 'HIT & RUN INDICATOR',\n",
    "  'SECONDARY COLLISION INDICATOR', 'index_right']`"
   ]
  },
  {
   "cell_type": "code",
   "execution_count": 34,
   "metadata": {},
   "outputs": [
    {
     "data": {
      "text/plain": [
       "True"
      ]
     },
     "execution_count": 34,
     "metadata": {},
     "output_type": "execute_result"
    }
   ],
   "source": [
    "# Unnamed: 0 column\n",
    "unnamed_column = df1['Unnamed: 0']\n",
    "len(unnamed_column) == len(unnamed_column.unique())\n",
    "# This looks to be an index column.\n",
    "# I will probably just ignore it. "
   ]
  },
  {
   "cell_type": "code",
   "execution_count": 54,
   "metadata": {},
   "outputs": [
    {
     "data": {
      "text/plain": [
       "array([0])"
      ]
     },
     "execution_count": 54,
     "metadata": {},
     "output_type": "execute_result"
    }
   ],
   "source": [
    "# index_right column\n",
    "df1.index_right\n",
    "df1.index_right.unique()\n",
    "# This column is all zeros. I will ignore it entirely. "
   ]
  },
  {
   "cell_type": "code",
   "execution_count": 38,
   "metadata": {},
   "outputs": [
    {
     "data": {
      "text/plain": [
       "(1273, 1273)"
      ]
     },
     "execution_count": 38,
     "metadata": {},
     "output_type": "execute_result"
    }
   ],
   "source": [
    "# MASTER FILE NUMBER column\n",
    "MFN = df1['MASTER FILE NUMBER']\n",
    "len(MFN.unique()), len(MFN)\n",
    "# This looks like a unique identifier for each crash report. \n",
    "# I will keep this column\n"
   ]
  },
  {
   "cell_type": "code",
   "execution_count": 41,
   "metadata": {},
   "outputs": [
    {
     "data": {
      "text/plain": [
       "INVESTIGATING AGENCY\n",
       "LOUISVILLE METRO POLICE DEPT      1160\n",
       "SHIVELY POLICE DEPARTMENT           40\n",
       "ST. MATTHEWS POLICE DEPARTMENT      29\n",
       "JEFFERSONTOWN POLICE DEPT           24\n",
       "UNIV. OF LOUISVILLE POLICE           7\n",
       "INDIAN HILLS POLICE DEPARTMENT       5\n",
       "PROSPECT POLICE DEPARTMENT           2\n",
       "GRAYMOOR-DEVONDALE POLICE DEPT       2\n",
       "ANCHORAGE POLICE DEPARTMENT          1\n",
       "WEST BUECHEL POLICE DEPT.            1\n",
       "NORTHFIELD POLICE DEPARTMENT         1\n",
       "AUDUBON PARK POLICE DEPARTMENT       1\n",
       "Name: count, dtype: int64"
      ]
     },
     "execution_count": 41,
     "metadata": {},
     "output_type": "execute_result"
    }
   ],
   "source": [
    "# INVESTIGATING AGENCY\n",
    "IA = df1['INVESTIGATING AGENCY']\n",
    "IA.unique()\n",
    "IA.value_counts()"
   ]
  },
  {
   "cell_type": "code",
   "execution_count": 48,
   "metadata": {},
   "outputs": [],
   "source": [
    "# LOCAL CODE column\n",
    "LC = df1['LOCAL CODE']\n",
    "\n"
   ]
  },
  {
   "cell_type": "code",
   "execution_count": null,
   "metadata": {},
   "outputs": [],
   "source": [
    "# COLLISION STATUS CODE column\n",
    "CSC = df1['COLLISION STATUS CODE']\n"
   ]
  },
  {
   "cell_type": "code",
   "execution_count": null,
   "metadata": {},
   "outputs": [],
   "source": [
    "# COUNTY NAME column\n",
    "CN = df1['COUNTY NAME']\n"
   ]
  },
  {
   "cell_type": "code",
   "execution_count": null,
   "metadata": {},
   "outputs": [],
   "source": [
    "# UNITS INVOLVED column\n",
    "UI = df1[\"UNITS INVOLVED\"]\n"
   ]
  },
  {
   "cell_type": "code",
   "execution_count": null,
   "metadata": {},
   "outputs": [],
   "source": [
    "# MOTOR VEHICLES INVOLVED column\n",
    "MVI = df1['MOTOR VEHICLES INVOLVED']\n"
   ]
  },
  {
   "cell_type": "code",
   "execution_count": null,
   "metadata": {},
   "outputs": [],
   "source": [
    "# KILLED/INJURED/HIT & RUN INDICATOR/SECONDARY COLLISION INDICATOR columns\n"
   ]
  },
  {
   "cell_type": "markdown",
   "metadata": {},
   "source": [
    "## Exploring LOJIC data"
   ]
  },
  {
   "cell_type": "markdown",
   "metadata": {},
   "source": [
    "\n",
    "## LOJIC data\n",
    "| column name | type | description | value notes | cleaning notes | \n",
    "|-------------|------|-------------|-------------|----------------|\n",
    "| X |\n",
    "| Y |\n",
    "| IncidentID |\n",
    "| AgencyName |\n",
    "| RdwyNumber |\n",
    "| Street |\n",
    "| StreetDir |\n",
    "| RoadwayName |\n",
    "| StreetSfx |\n",
    "| OWNER |\n",
    "| ROAD_CLASSIFICATION |\n",
    "| COUNCIL_DISTRICT |\n",
    "| IntersectionRdwy |\n",
    "| IntersectionRdwyName |\n",
    "| BetweenStRdwy1 |\n",
    "| BetweenStRdwyName1 |\n",
    "| BetweenStRdwy2 |\n",
    "| BetweenStRdwyName2 |\n",
    "| Latitude |\n",
    "| Longitude |\n",
    "| Milepoint |\n",
    "| DAY_OF_WEEK |\n",
    "| CollisionDate |\n",
    "| CollisionTime |\n",
    "| HOUR_OF_DAY |\n",
    "| UnitsInvolved |\n",
    "| MotorVehiclesInvolved |\n",
    "| MODE |\n",
    "| NAME |\n",
    "| AGE |\n",
    "| GENDER |\n",
    "| SEVERITY |\n",
    "| LINK |\n",
    "| Weather |\n",
    "| RdwyConditionCode |\n",
    "| HitandRun |\n",
    "| DirAnalysisCode |\n",
    "| MannerofCollision |\n",
    "| RdwyCharacter |\n",
    "| LightCondition |\n",
    "| RampFromRdwyId |\n",
    "| RampToRdwyId |\n",
    "| IsSecondaryCollision |\n",
    "| ObjectId |\n"
   ]
  },
  {
   "cell_type": "code",
   "execution_count": 24,
   "metadata": {},
   "outputs": [
    {
     "data": {
      "text/plain": [
       "0       2016/10/11 03:08:00+00\n",
       "1       2016/10/12 13:02:00+00\n",
       "2       2016/10/12 13:02:00+00\n",
       "3       2016/10/12 19:31:00+00\n",
       "4       2016/10/12 23:51:00+00\n",
       "                 ...          \n",
       "4896    2022/09/12 22:55:00+00\n",
       "4897    2022/09/16 05:47:00+00\n",
       "4898    2022/09/16 22:47:00+00\n",
       "4899    2022/09/17 00:14:00+00\n",
       "4900    2022/09/17 02:10:00+00\n",
       "Name: CollisionDate, Length: 4901, dtype: object"
      ]
     },
     "execution_count": 24,
     "metadata": {},
     "output_type": "execute_result"
    }
   ],
   "source": [
    "df2['CollisionDate']\n"
   ]
  }
 ],
 "metadata": {
  "kernelspec": {
   "display_name": "Python 3",
   "language": "python",
   "name": "python3"
  },
  "language_info": {
   "codemirror_mode": {
    "name": "ipython",
    "version": 3
   },
   "file_extension": ".py",
   "mimetype": "text/x-python",
   "name": "python",
   "nbconvert_exporter": "python",
   "pygments_lexer": "ipython3",
   "version": "3.11.1"
  },
  "orig_nbformat": 4
 },
 "nbformat": 4,
 "nbformat_minor": 2
}
