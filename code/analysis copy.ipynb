{
 "cells": [
  {
   "cell_type": "markdown",
   "metadata": {},
   "source": [
    "# Analysis Notebook"
   ]
  },
  {
   "cell_type": "code",
   "execution_count": 371,
   "metadata": {},
   "outputs": [],
   "source": [
    "import pandas as pd\n",
    "import os\n",
    "import operator\n",
    "\n",
    "#os.chdir(\"/Users/bencampbell/code_louisville/capstone/louisville-bike-accidents/\")\n",
    "\n",
    "DATAPATH = \"data/clean/bike_accidents.csv\"\n",
    "assert os.path.exists(DATAPATH)\n",
    "\n",
    "DATA = DATA = pd.read_csv(DATAPATH)\n"
   ]
  },
  {
   "cell_type": "code",
   "execution_count": 372,
   "metadata": {},
   "outputs": [],
   "source": [
    "# Adding some useful columns and defining some functions for use later in this notebook.\n",
    "\n",
    "# New Columns\n",
    "# Boolean value: True -> Casualty (injury or fatality); False -> Noncasualty\n",
    "DATA['casualty_indicator'] = DATA['fatality_indicator'] | DATA['injury_indicator']\n",
    "DATA['noncasualty_indicator'] = ~(DATA['fatality_indicator'] | DATA['injury_indicator'])\n",
    "\n",
    "# Some roadways have a number but no name. Combine these values into a single column. \n",
    "# roadway name if any else roadway number. \n",
    "DATA['main_roadway'] = DATA['roadway_name'].combine_first(DATA['roadway_number'])\n",
    "DATA['intersection_roadway'] = DATA['intersection_roadway_name'].combine_first(DATA['intersection_roadway_number'])\n",
    "\n",
    "# Boolean value: True -> accident occurred in an intersection / between streets\n",
    "DATA['intersection_indicator'] = DATA['intersection_roadway'].notnull()\n",
    "DATA['between_street_indicator'] = (\n",
    "    DATA['between_street_name_1'].notnull() | DATA['between_street_name_2'].notnull() | \n",
    "    DATA['between_street_number_1'].notnull() | DATA['between_street_number_2'].notnull())\n",
    "\n",
    "#DATA.columns"
   ]
  },
  {
   "cell_type": "code",
   "execution_count": 374,
   "metadata": {},
   "outputs": [
    {
     "data": {
      "text/html": [
       "<div>\n",
       "<style scoped>\n",
       "    .dataframe tbody tr th:only-of-type {\n",
       "        vertical-align: middle;\n",
       "    }\n",
       "\n",
       "    .dataframe tbody tr th {\n",
       "        vertical-align: top;\n",
       "    }\n",
       "\n",
       "    .dataframe thead th {\n",
       "        text-align: right;\n",
       "    }\n",
       "</style>\n",
       "<table border=\"1\" class=\"dataframe\">\n",
       "  <thead>\n",
       "    <tr style=\"text-align: right;\">\n",
       "      <th></th>\n",
       "      <th>total</th>\n",
       "      <th>percent casualty</th>\n",
       "      <th>pct fatality of casualty</th>\n",
       "      <th>pct fatality of total</th>\n",
       "    </tr>\n",
       "    <tr>\n",
       "      <th>weather</th>\n",
       "      <th></th>\n",
       "      <th></th>\n",
       "      <th></th>\n",
       "      <th></th>\n",
       "    </tr>\n",
       "  </thead>\n",
       "  <tbody>\n",
       "    <tr>\n",
       "      <th>BLOWING SAND/SOIL/DIRT/SNOW</th>\n",
       "      <td>1</td>\n",
       "      <td>100.00</td>\n",
       "      <td>0.00</td>\n",
       "      <td>0.00</td>\n",
       "    </tr>\n",
       "    <tr>\n",
       "      <th>CLEAR</th>\n",
       "      <td>1084</td>\n",
       "      <td>71.86</td>\n",
       "      <td>2.82</td>\n",
       "      <td>2.03</td>\n",
       "    </tr>\n",
       "    <tr>\n",
       "      <th>CLOUDY</th>\n",
       "      <td>213</td>\n",
       "      <td>72.30</td>\n",
       "      <td>5.19</td>\n",
       "      <td>3.76</td>\n",
       "    </tr>\n",
       "    <tr>\n",
       "      <th>FOG WITH RAIN</th>\n",
       "      <td>1</td>\n",
       "      <td>100.00</td>\n",
       "      <td>100.00</td>\n",
       "      <td>100.00</td>\n",
       "    </tr>\n",
       "    <tr>\n",
       "      <th>OTHER</th>\n",
       "      <td>2</td>\n",
       "      <td>50.00</td>\n",
       "      <td>0.00</td>\n",
       "      <td>0.00</td>\n",
       "    </tr>\n",
       "    <tr>\n",
       "      <th>RAINING</th>\n",
       "      <td>69</td>\n",
       "      <td>76.81</td>\n",
       "      <td>5.66</td>\n",
       "      <td>4.35</td>\n",
       "    </tr>\n",
       "    <tr>\n",
       "      <th>SNOWING</th>\n",
       "      <td>4</td>\n",
       "      <td>75.00</td>\n",
       "      <td>0.00</td>\n",
       "      <td>0.00</td>\n",
       "    </tr>\n",
       "  </tbody>\n",
       "</table>\n",
       "</div>"
      ],
      "text/plain": [
       "                             total  percent casualty  \\\n",
       "weather                                                \n",
       "BLOWING SAND/SOIL/DIRT/SNOW      1            100.00   \n",
       "CLEAR                         1084             71.86   \n",
       "CLOUDY                         213             72.30   \n",
       "FOG WITH RAIN                    1            100.00   \n",
       "OTHER                            2             50.00   \n",
       "RAINING                         69             76.81   \n",
       "SNOWING                          4             75.00   \n",
       "\n",
       "                             pct fatality of casualty  pct fatality of total  \n",
       "weather                                                                       \n",
       "BLOWING SAND/SOIL/DIRT/SNOW                      0.00                   0.00  \n",
       "CLEAR                                            2.82                   2.03  \n",
       "CLOUDY                                           5.19                   3.76  \n",
       "FOG WITH RAIN                                  100.00                 100.00  \n",
       "OTHER                                            0.00                   0.00  \n",
       "RAINING                                          5.66                   4.35  \n",
       "SNOWING                                          0.00                   0.00  "
      ]
     },
     "execution_count": 374,
     "metadata": {},
     "output_type": "execute_result"
    }
   ],
   "source": [
    "\n",
    "\n",
    "# Useful function definitions / constants\n",
    "TOTAL_ACCIDENTS = len(DATA) # Total number of accident reports\n",
    "DANGERMASK = ['fatality_indicator', 'injury_indicator', 'casualty_indicator', 'noncasualty_indicator' ]\n",
    "# This will get used over and over to analyse relative frequencies of crash outcomes.\n",
    "\n",
    "def percent_round(x):\n",
    "    \"\"\"Create a readable percentage float using round()\"\"\"\n",
    "    return round(x*100, 2)\n",
    "\n",
    "def percent_format(x):\n",
    "    \"\"\"Format a number as a percentage.\"\"\"\n",
    "    return format(x, \".2%\")\n",
    "\n",
    "\n",
    "class DangerReport(pd.DataFrame):\n",
    "    @property\n",
    "    def totals(df):\n",
    "        return df['casualties'] + df['noncasualties']\n",
    "    \n",
    "    def get_ratio_by_total(df):\n",
    "        return (df/TOTAL_ACCIDENTS).apply(percent_round)\n",
    "\n",
    "    def get_ratio_by_value_total(df):\n",
    "        #totals = df['casualties'] + df['noncasualties']\n",
    "        return df.apply(lambda x:x/df.totals).apply(percent_round)\n",
    "    \n",
    "    def get_danger_ratios(df):\n",
    "        \"\"\"total accidents, percent casualty, percent fatality of casualty\"\"\"\n",
    "        out = pd.DataFrame(index=df.index)\n",
    "        out['total'] = df.totals\n",
    "        out['percent casualty'] = out.total.combine(df.casualties, lambda T, C:C/T).apply(percent_round)\n",
    "        out['pct fatality of casualty'] = df.casualties.combine(df.fatalities, lambda C, F:F/C).apply(percent_round)\n",
    "        out['pct fatality of total'] = df.fatalities.combine(out.total, lambda F, T:F/T).apply(percent_round)\n",
    "        return out\n",
    "\n",
    "def get_danger_report(df, label):\n",
    "    report = df.groupby(label)[DANGERMASK].sum()\n",
    "    report = report.rename({\"injury_indicator\":'injuries', \n",
    "                          'fatality_indicator':'fatalities',\n",
    "                          'casualty_indicator':'casualties',\n",
    "                          'noncasualty_indicator':'noncasualties'}, axis=1)\n",
    "    return DangerReport(report)\n",
    "\n",
    "# There's a way to work this into the class definition but I'd rather not struggle with\n",
    "# __init__ and __new__ definitions right now. \n",
    "\n",
    "# lines for testing.\n",
    "get_danger_report(DATA, 'weather').get_danger_ratios()"
   ]
  },
  {
   "cell_type": "code",
   "execution_count": 355,
   "metadata": {},
   "outputs": [
    {
     "data": {
      "text/plain": [
       "<Axes: xlabel='hour of day', ylabel='accident count'>"
      ]
     },
     "execution_count": 355,
     "metadata": {},
     "output_type": "execute_result"
    },
    {
     "data": {
      "image/png": "[encoded data removed]",
      "text/plain": [
       "<Figure size 640x480 with 1 Axes>"
      ]
     },
     "metadata": {},
     "output_type": "display_data"
    }
   ],
   "source": [
    "# Time of Day\n",
    "# show sampling issue with dataset\n",
    "DATA.groupby('hour').size().plot(kind='bar', xlabel='hour of day', ylabel=\"accident count\")"
   ]
  },
  {
   "cell_type": "code",
   "execution_count": 357,
   "metadata": {},
   "outputs": [
    {
     "data": {
      "text/plain": [
       "<Axes: xlabel='hour of day', ylabel='count of light_condition == DAYLIGHT'>"
      ]
     },
     "execution_count": 357,
     "metadata": {},
     "output_type": "execute_result"
    },
    {
     "data": {
      "image/png": "[encoded data removed]",
      "text/plain": [
       "<Figure size 640x480 with 1 Axes>"
      ]
     },
     "metadata": {},
     "output_type": "display_data"
    }
   ],
   "source": [
    "hour_light = DATA[['hour', 'light_condition']]\n",
    "hour_light[hour_light['light_condition'] == \"DAYLIGHT\"].groupby('hour').size().plot(\n",
    "    kind='bar', xlabel='hour of day', ylabel='count of light_condition == DAYLIGHT')"
   ]
  },
  {
   "cell_type": "code",
   "execution_count": 358,
   "metadata": {},
   "outputs": [
    {
     "data": {
      "text/plain": [
       "Index([  31,   87,   95,   98,  101,  104,  109,  138,  171,  178,  189,  211,\n",
       "        234,  334,  341,  349,  396,  479,  574,  578,  600,  602,  615,  670,\n",
       "        709,  710,  711,  743,  786,  867,  882,  962,  979,  981,  997, 1045,\n",
       "       1106, 1114, 1155, 1165, 1177, 1218],\n",
       "      dtype='int64')"
      ]
     },
     "execution_count": 358,
     "metadata": {},
     "output_type": "execute_result"
    }
   ],
   "source": [
    "zeros = DATA[(DATA.hour==0) & (DATA.minute==0)]\n",
    "# Get all rows that have 00:00 time value\n",
    "\n",
    "\n",
    "#zeros[zeros['date'].apply(lambda x:x.second==0)]\n",
    "# Check that the seconds are zero too.\n",
    "\n",
    "zeros_index = zeros[zeros['light_condition'] == \"DAYLIGHT\"].index\n",
    "# For recrods that have 00:00 time, find the ones that have light_condition == DAYLIGHT, \n",
    "# then filter these records out of my data:\n",
    "zeros_index"
   ]
  },
  {
   "cell_type": "code",
   "execution_count": 360,
   "metadata": {},
   "outputs": [
    {
     "data": {
      "text/plain": [
       "<Axes: xlabel='hour of day', ylabel='DAYLIGHT'>"
      ]
     },
     "execution_count": 360,
     "metadata": {},
     "output_type": "execute_result"
    },
    {
     "data": {
      "image/png": "[encoded data removed]",
      "text/plain": [
       "<Figure size 640x480 with 1 Axes>"
      ]
     },
     "metadata": {},
     "output_type": "display_data"
    }
   ],
   "source": [
    "filtered_light = DATA[~DATA.index.isin(zeros_index)]\n",
    "# Now let's see what the time distribution for DAYLIGHT condition looks like:\n",
    "filtered_light[filtered_light['light_condition'] == \"DAYLIGHT\"].groupby('hour').size().plot(\n",
    "    kind='bar', ylabel='DAYLIGHT', xlabel='hour of day')"
   ]
  },
  {
   "cell_type": "code",
   "execution_count": 385,
   "metadata": {},
   "outputs": [
    {
     "data": {
      "text/html": [
       "<div>\n",
       "<style scoped>\n",
       "    .dataframe tbody tr th:only-of-type {\n",
       "        vertical-align: middle;\n",
       "    }\n",
       "\n",
       "    .dataframe tbody tr th {\n",
       "        vertical-align: top;\n",
       "    }\n",
       "\n",
       "    .dataframe thead th {\n",
       "        text-align: right;\n",
       "    }\n",
       "</style>\n",
       "<table border=\"1\" class=\"dataframe\">\n",
       "  <thead>\n",
       "    <tr style=\"text-align: right;\">\n",
       "      <th></th>\n",
       "      <th>fatalities</th>\n",
       "      <th>injuries</th>\n",
       "      <th>casualties</th>\n",
       "      <th>noncasualties</th>\n",
       "    </tr>\n",
       "    <tr>\n",
       "      <th>light_condition</th>\n",
       "      <th></th>\n",
       "      <th></th>\n",
       "      <th></th>\n",
       "      <th></th>\n",
       "    </tr>\n",
       "  </thead>\n",
       "  <tbody>\n",
       "    <tr>\n",
       "      <th>DUSK</th>\n",
       "      <td>1.72</td>\n",
       "      <td>67.24</td>\n",
       "      <td>68.97</td>\n",
       "      <td>31.03</td>\n",
       "    </tr>\n",
       "    <tr>\n",
       "      <th>DAYLIGHT</th>\n",
       "      <td>1.34</td>\n",
       "      <td>69.14</td>\n",
       "      <td>70.37</td>\n",
       "      <td>29.63</td>\n",
       "    </tr>\n",
       "    <tr>\n",
       "      <th>DARK-HWY LIGHTED/ON</th>\n",
       "      <td>0.57</td>\n",
       "      <td>72.00</td>\n",
       "      <td>72.57</td>\n",
       "      <td>27.43</td>\n",
       "    </tr>\n",
       "    <tr>\n",
       "      <th>DAWN</th>\n",
       "      <td>0.00</td>\n",
       "      <td>74.19</td>\n",
       "      <td>74.19</td>\n",
       "      <td>25.81</td>\n",
       "    </tr>\n",
       "    <tr>\n",
       "      <th>DARK (UNKNOWN ROADWAY LIGHTING)</th>\n",
       "      <td>0.00</td>\n",
       "      <td>85.71</td>\n",
       "      <td>85.71</td>\n",
       "      <td>14.29</td>\n",
       "    </tr>\n",
       "    <tr>\n",
       "      <th>DARK-HWY LIGHTED/OFF</th>\n",
       "      <td>7.69</td>\n",
       "      <td>80.77</td>\n",
       "      <td>88.46</td>\n",
       "      <td>11.54</td>\n",
       "    </tr>\n",
       "    <tr>\n",
       "      <th>DARK-HWY NOT LIGHTED</th>\n",
       "      <td>25.81</td>\n",
       "      <td>67.74</td>\n",
       "      <td>93.55</td>\n",
       "      <td>6.45</td>\n",
       "    </tr>\n",
       "  </tbody>\n",
       "</table>\n",
       "</div>"
      ],
      "text/plain": [
       "                                 fatalities  injuries  casualties  \\\n",
       "light_condition                                                     \n",
       "DUSK                                   1.72     67.24       68.97   \n",
       "DAYLIGHT                               1.34     69.14       70.37   \n",
       "DARK-HWY LIGHTED/ON                    0.57     72.00       72.57   \n",
       "DAWN                                   0.00     74.19       74.19   \n",
       "DARK (UNKNOWN ROADWAY LIGHTING)        0.00     85.71       85.71   \n",
       "DARK-HWY LIGHTED/OFF                   7.69     80.77       88.46   \n",
       "DARK-HWY NOT LIGHTED                  25.81     67.74       93.55   \n",
       "\n",
       "                                 noncasualties  \n",
       "light_condition                                 \n",
       "DUSK                                     31.03  \n",
       "DAYLIGHT                                 29.63  \n",
       "DARK-HWY LIGHTED/ON                      27.43  \n",
       "DAWN                                     25.81  \n",
       "DARK (UNKNOWN ROADWAY LIGHTING)          14.29  \n",
       "DARK-HWY LIGHTED/OFF                     11.54  \n",
       "DARK-HWY NOT LIGHTED                      6.45  "
      ]
     },
     "execution_count": 385,
     "metadata": {},
     "output_type": "execute_result"
    }
   ],
   "source": [
    "#r = DangerReport(filtered_light.groupby('light_condition')[DANGERMASK].sum())\n",
    "LC = get_danger_report(filtered_light, 'light_condition')\n",
    "LC = LC.drop('OTHER', axis=0) \n",
    "# Only one record with value == OTHER. Dropping it since it's probably not significant.\n",
    "LC.get_ratio_by_value_total().sort_values(by='noncasualties', ascending=False)"
   ]
  },
  {
   "cell_type": "code",
   "execution_count": 367,
   "metadata": {},
   "outputs": [
    {
     "data": {
      "text/html": [
       "<div>\n",
       "<style scoped>\n",
       "    .dataframe tbody tr th:only-of-type {\n",
       "        vertical-align: middle;\n",
       "    }\n",
       "\n",
       "    .dataframe tbody tr th {\n",
       "        vertical-align: top;\n",
       "    }\n",
       "\n",
       "    .dataframe thead th {\n",
       "        text-align: right;\n",
       "    }\n",
       "</style>\n",
       "<table border=\"1\" class=\"dataframe\">\n",
       "  <thead>\n",
       "    <tr style=\"text-align: right;\">\n",
       "      <th></th>\n",
       "      <th>total</th>\n",
       "      <th>percent casualty</th>\n",
       "      <th>pct fatality of casualty</th>\n",
       "      <th>pct fatality of total</th>\n",
       "    </tr>\n",
       "    <tr>\n",
       "      <th>roadway_condition</th>\n",
       "      <th></th>\n",
       "      <th></th>\n",
       "      <th></th>\n",
       "      <th></th>\n",
       "    </tr>\n",
       "  </thead>\n",
       "  <tbody>\n",
       "    <tr>\n",
       "      <th>DRY</th>\n",
       "      <td>1261</td>\n",
       "      <td>71.69</td>\n",
       "      <td>3.21</td>\n",
       "      <td>2.30</td>\n",
       "    </tr>\n",
       "    <tr>\n",
       "      <th>ICE</th>\n",
       "      <td>1</td>\n",
       "      <td>100.00</td>\n",
       "      <td>0.00</td>\n",
       "      <td>0.00</td>\n",
       "    </tr>\n",
       "    <tr>\n",
       "      <th>SNOW/SLUSH</th>\n",
       "      <td>4</td>\n",
       "      <td>75.00</td>\n",
       "      <td>0.00</td>\n",
       "      <td>0.00</td>\n",
       "    </tr>\n",
       "    <tr>\n",
       "      <th>WATER (STANDING OR MOVING)</th>\n",
       "      <td>2</td>\n",
       "      <td>0.00</td>\n",
       "      <td>NaN</td>\n",
       "      <td>0.00</td>\n",
       "    </tr>\n",
       "    <tr>\n",
       "      <th>WET</th>\n",
       "      <td>106</td>\n",
       "      <td>79.25</td>\n",
       "      <td>5.95</td>\n",
       "      <td>4.72</td>\n",
       "    </tr>\n",
       "  </tbody>\n",
       "</table>\n",
       "</div>"
      ],
      "text/plain": [
       "                            total  percent casualty  pct fatality of casualty  \\\n",
       "roadway_condition                                                               \n",
       "DRY                          1261             71.69                      3.21   \n",
       "ICE                             1            100.00                      0.00   \n",
       "SNOW/SLUSH                      4             75.00                      0.00   \n",
       "WATER (STANDING OR MOVING)      2              0.00                       NaN   \n",
       "WET                           106             79.25                      5.95   \n",
       "\n",
       "                            pct fatality of total  \n",
       "roadway_condition                                  \n",
       "DRY                                          2.30  \n",
       "ICE                                          0.00  \n",
       "SNOW/SLUSH                                   0.00  \n",
       "WATER (STANDING OR MOVING)                   0.00  \n",
       "WET                                          4.72  "
      ]
     },
     "execution_count": 367,
     "metadata": {},
     "output_type": "execute_result"
    }
   ],
   "source": [
    "RC = get_danger_report(DATA, 'roadway_condition')\n",
    "RC.get_danger_ratios()"
   ]
  },
  {
   "cell_type": "code",
   "execution_count": 386,
   "metadata": {},
   "outputs": [
    {
     "data": {
      "text/html": [
       "<div>\n",
       "<style scoped>\n",
       "    .dataframe tbody tr th:only-of-type {\n",
       "        vertical-align: middle;\n",
       "    }\n",
       "\n",
       "    .dataframe tbody tr th {\n",
       "        vertical-align: top;\n",
       "    }\n",
       "\n",
       "    .dataframe thead th {\n",
       "        text-align: right;\n",
       "    }\n",
       "</style>\n",
       "<table border=\"1\" class=\"dataframe\">\n",
       "  <thead>\n",
       "    <tr style=\"text-align: right;\">\n",
       "      <th></th>\n",
       "      <th>fatalities</th>\n",
       "      <th>injuries</th>\n",
       "      <th>casualties</th>\n",
       "      <th>noncasualties</th>\n",
       "    </tr>\n",
       "    <tr>\n",
       "      <th>roadway_condition</th>\n",
       "      <th></th>\n",
       "      <th></th>\n",
       "      <th></th>\n",
       "      <th></th>\n",
       "    </tr>\n",
       "  </thead>\n",
       "  <tbody>\n",
       "    <tr>\n",
       "      <th>DRY</th>\n",
       "      <td>29</td>\n",
       "      <td>876</td>\n",
       "      <td>904</td>\n",
       "      <td>357</td>\n",
       "    </tr>\n",
       "    <tr>\n",
       "      <th>WET</th>\n",
       "      <td>5</td>\n",
       "      <td>83</td>\n",
       "      <td>88</td>\n",
       "      <td>25</td>\n",
       "    </tr>\n",
       "  </tbody>\n",
       "</table>\n",
       "</div>"
      ],
      "text/plain": [
       "                   fatalities  injuries  casualties  noncasualties\n",
       "roadway_condition                                                 \n",
       "DRY                        29       876         904            357\n",
       "WET                         5        83          88             25"
      ]
     },
     "execution_count": 386,
     "metadata": {},
     "output_type": "execute_result"
    }
   ],
   "source": [
    "\n",
    "RC_copy = RC.copy()\n",
    "RC_copy.loc['WET'] = RC.iloc[1:].sum()\n",
    "RC_copy = RC_copy.loc[['DRY', 'WET']]\n",
    "RC_copy"
   ]
  },
  {
   "cell_type": "code",
   "execution_count": 387,
   "metadata": {},
   "outputs": [
    {
     "data": {
      "text/html": [
       "<div>\n",
       "<style scoped>\n",
       "    .dataframe tbody tr th:only-of-type {\n",
       "        vertical-align: middle;\n",
       "    }\n",
       "\n",
       "    .dataframe tbody tr th {\n",
       "        vertical-align: top;\n",
       "    }\n",
       "\n",
       "    .dataframe thead th {\n",
       "        text-align: right;\n",
       "    }\n",
       "</style>\n",
       "<table border=\"1\" class=\"dataframe\">\n",
       "  <thead>\n",
       "    <tr style=\"text-align: right;\">\n",
       "      <th></th>\n",
       "      <th>percent casualty</th>\n",
       "      <th>pct fatality of casualty</th>\n",
       "    </tr>\n",
       "    <tr>\n",
       "      <th>roadway_condition</th>\n",
       "      <th></th>\n",
       "      <th></th>\n",
       "    </tr>\n",
       "  </thead>\n",
       "  <tbody>\n",
       "    <tr>\n",
       "      <th>DRY</th>\n",
       "      <td>71.69</td>\n",
       "      <td>3.21</td>\n",
       "    </tr>\n",
       "    <tr>\n",
       "      <th>WET</th>\n",
       "      <td>77.88</td>\n",
       "      <td>5.68</td>\n",
       "    </tr>\n",
       "  </tbody>\n",
       "</table>\n",
       "</div>"
      ],
      "text/plain": [
       "                   percent casualty  pct fatality of casualty\n",
       "roadway_condition                                            \n",
       "DRY                           71.69                      3.21\n",
       "WET                           77.88                      5.68"
      ]
     },
     "execution_count": 387,
     "metadata": {},
     "output_type": "execute_result"
    }
   ],
   "source": [
    "RC_copy.get_ratio_by_value_total()\n",
    "RC_copy.get_danger_ratios()[['percent casualty', 'pct fatality of casualty']]#.plot.pie(subplots=True)"
   ]
  },
  {
   "cell_type": "code",
   "execution_count": 161,
   "metadata": {},
   "outputs": [],
   "source": [
    "# Most dangerous roads?\n",
    "\n",
    "#top_most_dangerous_roads = \n",
    "# Group by road type?\n",
    "# Find percents by this: what percent of accidents occur in these most dangerous roads.\n",
    "#top_most_dangerous_roads.plot(kind='bar', ylabel='value count')\n",
    "\n"
   ]
  },
  {
   "cell_type": "code",
   "execution_count": 294,
   "metadata": {},
   "outputs": [],
   "source": [
    "# Intersections vs non intersections and lighted intersections\n"
   ]
  }
 ],
 "metadata": {
  "kernelspec": {
   "display_name": "venv",
   "language": "python",
   "name": "python3"
  },
  "language_info": {
   "codemirror_mode": {
    "name": "ipython",
    "version": 3
   },
   "file_extension": ".py",
   "mimetype": "text/x-python",
   "name": "python",
   "nbconvert_exporter": "python",
   "pygments_lexer": "ipython3",
   "version": "3.11.1"
  },
  "orig_nbformat": 4
 },
 "nbformat": 4,
 "nbformat_minor": 2
}
