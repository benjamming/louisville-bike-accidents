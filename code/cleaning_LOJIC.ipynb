{
 "cells": [
  {
   "cell_type": "code",
   "execution_count": 15,
   "metadata": {},
   "outputs": [],
   "source": [
    "import pandas as pd\n",
    "import os\n",
    "\n",
    "os.chdir(\"/Users/bencampbell/code_louisville/capstone/louisville-bike-accidents\")\n",
    "\n",
    "DATA_IN = \"data/raw/Louisville_Metro_KY_-_Traffic_Fatalities_and_Suspected_Serious_Injuries.csv\"\n",
    "data = pd.read_csv(DATA_IN)"
   ]
  },
  {
   "cell_type": "code",
   "execution_count": 16,
   "metadata": {},
   "outputs": [],
   "source": [
    "# Columns to drop\n",
    "dropping = [\"X\", \"Y\", \"NAME\", \"AGE\", \"GENDER\", \"LINK\"]\n",
    "def drop_unused_columns(df:pd.DataFrame, columns:list) -> pd.DataFrame:\n",
    "    return df.drop(columns, axis=1)\n",
    "\n",
    "\n",
    "# Rows to drop\n",
    "# Selecting only bicycle data, then dropping MODE column\n",
    "def select_mode_BICYCLE(df:pd.DataFrame) -> pd.DataFrame:\n",
    "    out = df[df['MODE'] == \"BICYCLE\"]\n",
    "    return out.drop(\"MODE\", axis=1)\n",
    "\n",
    "data = drop_unused_columns(data, dropping)\n",
    "data = select_mode_BICYCLE(data)\n"
   ]
  },
  {
   "cell_type": "code",
   "execution_count": 17,
   "metadata": {},
   "outputs": [
    {
     "data": {
      "text/plain": [
       "Index(['IncidentID', 'AgencyName', 'RdwyNumber', 'Street', 'StreetDir',\n",
       "       'RoadwayName', 'StreetSfx', 'OWNER', 'ROAD_CLASSIFICATION',\n",
       "       'COUNCIL_DISTRICT', 'IntersectionRdwy', 'IntersectionRdwyName',\n",
       "       'BetweenStRdwy1', 'BetweenStRdwyName1', 'BetweenStRdwy2',\n",
       "       'BetweenStRdwyName2', 'Latitude', 'Longitude', 'Milepoint',\n",
       "       'DAY_OF_WEEK', 'CollisionDate', 'CollisionTime', 'HOUR_OF_DAY',\n",
       "       'UnitsInvolved', 'MotorVehiclesInvolved', 'SEVERITY', 'Weather',\n",
       "       'RdwyConditionCode', 'HitandRun', 'DirAnalysisCode',\n",
       "       'MannerofCollision', 'RdwyCharacter', 'LightCondition',\n",
       "       'RampFromRdwyId', 'RampToRdwyId', 'IsSecondaryCollision', 'ObjectId'],\n",
       "      dtype='object')"
      ]
     },
     "execution_count": 17,
     "metadata": {},
     "output_type": "execute_result"
    }
   ],
   "source": [
    "data.columns"
   ]
  }
 ],
 "metadata": {
  "kernelspec": {
   "display_name": "venv",
   "language": "python",
   "name": "python3"
  },
  "language_info": {
   "codemirror_mode": {
    "name": "ipython",
    "version": 3
   },
   "file_extension": ".py",
   "mimetype": "text/x-python",
   "name": "python",
   "nbconvert_exporter": "python",
   "pygments_lexer": "ipython3",
   "version": "3.11.1"
  },
  "orig_nbformat": 4
 },
 "nbformat": 4,
 "nbformat_minor": 2
}
