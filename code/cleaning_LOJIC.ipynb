{
 "cells": [
  {
   "cell_type": "code",
   "execution_count": 1,
   "metadata": {},
   "outputs": [],
   "source": [
    "import pandas as pd\n",
    "import pyparsing as pyp\n",
    "import os\n",
    "\n",
    "os.chdir(\"/Users/bencampbell/code_louisville/capstone/louisville-bike-accidents\")\n",
    "\n",
    "DATA_IN = \"data/raw/Louisville_Metro_KY_-_Traffic_Fatalities_and_Suspected_Serious_Injuries.csv\"\n",
    "df = pd.read_csv(DATA_IN)"
   ]
  },
  {
   "cell_type": "code",
   "execution_count": 5,
   "metadata": {},
   "outputs": [],
   "source": [
    "# Bringing in pyparsing to parse CollisionDate\n",
    "integer = pyp.Word(pyp.nums).set_name(\"integer\")\n",
    "# Define integer word: a string of numeric characters 0-9\n",
    "\n",
    "date_expr = integer(\"year\") + '/' + integer(\"month\") + '/' + integer('day')\n",
    "time_expr = integer(\"hour\") + \":\" + integer(\"minute\") + pyp.Word(\":+0123456789\").suppress()\n",
    "\n",
    "CollisionDate_expr = date_expr + time_expr\n",
    "\n",
    "def get_CD_string(location):\n",
    "    return times.iloc[location]['CollisionDate']\n",
    "\n",
    "\n",
    "def parse_CD(string):\n",
    "    out = CollisionDate_expr.parse_string(string).as_dict()\n",
    "    return {K:int(V) for K, V in out.items()}\n",
    "\n",
    "# Turn the date-time string in data into a pd.Timestamp object\n",
    "def CD_to_Timestamp(string):\n",
    "    return pd.Timestamp(**parse_CD(string))"
   ]
  },
  {
   "cell_type": "code",
   "execution_count": 9,
   "metadata": {},
   "outputs": [
    {
     "name": "stdout",
     "output_type": "stream",
     "text": [
      "2016/04/19 09:28:00+00\n"
     ]
    },
    {
     "data": {
      "text/plain": [
       "Timestamp('2016-04-19 09:28:00')"
      ]
     },
     "execution_count": 9,
     "metadata": {},
     "output_type": "execute_result"
    }
   ],
   "source": [
    "\n",
    "test = df['CollisionDate'].iloc[100]\n",
    "print(test)\n",
    "\n",
    "CD = CollisionDate_expr.parse_string(test).as_dict()\n",
    "CD = {K:int(V) for K, V in CD.items()}\n",
    "pd.Timestamp(**CD)\n"
   ]
  },
  {
   "cell_type": "code",
   "execution_count": 4,
   "metadata": {},
   "outputs": [
    {
     "data": {
      "text/plain": [
       "0       2016/01/01 07:50:00+00\n",
       "1       2016/01/01 20:14:00+00\n",
       "2       2016/01/01 23:14:00+00\n",
       "3       2016/01/02 15:55:00+00\n",
       "4       2016/01/02 15:55:00+00\n",
       "                 ...          \n",
       "4947    2022/08/03 12:26:00+00\n",
       "4948    2022/11/04 11:55:00+00\n",
       "4949    2022/11/06 09:00:00+00\n",
       "4950    2022/11/07 19:57:00+00\n",
       "4951    2022/11/08 01:48:00+00\n",
       "Name: CollisionDate, Length: 4952, dtype: object"
      ]
     },
     "execution_count": 4,
     "metadata": {},
     "output_type": "execute_result"
    }
   ],
   "source": [
    "df[\"CollisionDate\"]"
   ]
  }
 ],
 "metadata": {
  "kernelspec": {
   "display_name": "venv",
   "language": "python",
   "name": "python3"
  },
  "language_info": {
   "codemirror_mode": {
    "name": "ipython",
    "version": 3
   },
   "file_extension": ".py",
   "mimetype": "text/x-python",
   "name": "python",
   "nbconvert_exporter": "python",
   "pygments_lexer": "ipython3",
   "version": "3.11.1"
  },
  "orig_nbformat": 4
 },
 "nbformat": 4,
 "nbformat_minor": 2
}
