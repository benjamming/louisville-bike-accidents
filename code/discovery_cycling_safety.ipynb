{
 "cells": [
  {
   "cell_type": "markdown",
   "metadata": {},
   "source": [
    "# Discovery notebook for cycling crash data\n",
    "\n",
    "Crash data from 2010 to 2017\n",
    "\n",
    "This data came from: https://zenodo.org/records/5603036\n",
    "\n",
    "Source: https://zenodo.org/records/5603036/files/louisville.zip\n",
    "\n",
    "Shape: 1273 rows x 54 columns"
   ]
  },
  {
   "cell_type": "code",
   "execution_count": 1,
   "metadata": {},
   "outputs": [],
   "source": [
    "import pandas as pd\n",
    "import matplotlib\n",
    "\n",
    "DATA = \"../data/cycling_safety_louisville.csv\"\n",
    "df = pd.read_csv(DATA)"
   ]
  },
  {
   "cell_type": "markdown",
   "metadata": {},
   "source": [
    "# Building the data dictionaries\n",
    "\n",
    "\n",
    "## cycling_safety data\n",
    "| column name | type | description | value notes | cleaning notes |\n",
    "|-------------|------|-------------|-------------|----------------|\n",
    "|  Unnamed: 0 | number | index number for row | | drop | \n",
    "| MASTER FILE NUMBER | number | case number for authorities? | | possibly ignore | \n",
    "| INVESTIGATING AGENCY | string | agency responding to crash | usually LMPD, but others too | | \n",
    "| LOCAL CODE | number | case number for local authority | a couple repeat values | possibly ignore |\n",
    "| COLLISION STATUS CODE | string | code for case status | usually AC |  | \n",
    "| COUNTY NAME | number | county crash occurred in | always \"56\" (Jefferson County, KY) | drop | \n",
    "| ROADWAY NUMBER | alphanumeric | code for state/county/etc roads like KY303 | a lot of null values |  | \n",
    "| BLOCK/HOUSE # | number | street number for a location | NAN's and blank values present | | \n",
    "| ROADWAY NAME | string | name of primary road where the crash occurred | some blank and null values; there might be some weird long strings | | \n",
    "| ROADWAY SUFFIX | string | RD, AVE, LN, WAY, stuff like that | some blank and null values | | \n",
    "| ROADWAY DIRECTION CODE | string | S, N, E, W, stuff like that | | | \n",
    "| GPS LATITUDE DECIMAL | float/decimal | latitude coordinate | same as \"Latitude\"? | redundant; drop | \n",
    "| GPS LONGITUDE DECIMAL | float/decimal | longitudue coordinate | same as \"longitude\"? | redundant; drop | \n",
    "| MILEPOINT DERIVED | float | mile marker along road | some null values | maybe useful for hiways? | \n",
    "| COLLISION DATE | string | date of collision | 2010-2017 | |\n",
    "| COLLISION TIME |string | time of collision | | | \n",
    "| INTERSECTION ROADWAY # | number | route number for intersecting road|  blanks and NaN's| | \n",
    "| INTERSECTION ROADWAY NAME | string | name of intersecting road | blanks and NaN's; at least one problematic string | | \n",
    "| INTERSECTION ROADWAY SFX | string | suffix for intersecting road | blanks and NaN's | | \n",
    "| BETWEEN STREET ROADWAY # 1 | number | route number for between road #1 | blanks and NaN's | | \n",
    "| BETWEEN STREET ROADWAY NAME 1 | string | name for between road #1 | blanks and NaN's | | \n",
    "| BETWEEN STREET ROADWAY SFX 1 | string | suffix for between street #1 | blanks and NaN's | | \n",
    "| BETWEEN STREET ROADWAY # 2 | number | route number for between road # 2 | blanks and NaN's | | \n",
    "| BETWEEN STREET ROADWAY NAME 2 | string | name for between road #2 | blanks and NaN's | | \n",
    "| BETWEEN STREET ROADWAY SFX 2 | string | suffix for between road #2 | blanks and NaN's | | \n",
    "| UNITS INVOLVED | number | number of units involved in crash (includes bikes, pedestrians, cars, etc.) | | | \n",
    "| MOTOR VEHICLES INVOLVED | number | number of motor vehicles involved in crash  | | | \n",
    "| KILLED | number | number of people killed in the crash | | | \n",
    "| INJURED | number | number of people injured in the crash | | |\n",
    "| WEATHER CODE | number | numeric code for WEATHER condition | maps 1:1 with WEATHER | redundant? |\n",
    "| WEATHER | string | human readable for WEATHER CODE | maps 1:1 with WEATHER CODE | | \n",
    "| ROADWAY CONDITION CODE | number | numeric code for ROADWAY CONDITION | | | \n",
    "| ROADWAY CONDITION | string | human readable for ROWADWAY CONDITION CODE | | |\n",
    "| HIT & RUN INDICATOR | string | was the crash a hit and run?  | Y/N string indicator | change name to avoid \"&\"; convert to boolean | \n",
    "| ROADWAY TYPE CODE | number | numeric code for ROADWAY TYPE | | | \n",
    "| ROADWAY TYPE | string | human readable for ROADWAY TYPE CODE | | | \n",
    "| DIRECTIONAL ANALYSIS CODE | number | numeric code for DIRECTIONAL ANALYSIS | | | \n",
    "| DIRECTIONAL ANALYSIS | string | human readable for DIRECTIONAL ANALYSIS CODE  | | | \n",
    "| MANNER OF COLLISION CODE | number | numeric code for MANNER OF COLLISION  | | | \n",
    "| MANNER OF COLLISION | string | human readable for MANNER OF COLLISION CODE | | |\n",
    "| ROADWAY CHARACTER CODE | number | numeric code for ROADWAY CHARACTER | | | \n",
    "| ROADWAY CHARACTER | string | human readable for ROADWAY CHARACTER CODE | | |\n",
    "| LIGHT CONDITION CODE | number | numeric code for LIGHT CONDITION | | | \n",
    "| LIGHT CONDITION | string | human readable string for LIGHT CONDITION CODE | | |\n",
    "| RAMP FROM ROADWAY ID | number? | road number for off-ramp | all nulls | ignore | \n",
    "| RAMP TO ROADWAY ID | number? | road number for on-ramp | all nulls | ignore | \n",
    "| SECONDARY COLLISION INDICATOR | string/NAN | was this collision a result of another collision | Y/N string indicator; some null values | is this always 0/False? convert to boolean; investigate null values | \n",
    "| hour | int | hour of collision | 24 hour clock | isn't this a repeat of info in COLLISION TIME? | \n",
    "| minute | int | minute of collision | normal minutes | isn't this a repeat of info in COLLISION TIME? |\n",
    "| Date | datestring | another date field? | do these values match with 'COLLISION DATE'? | figure out what the difference is between this field and COLLISION DATE, if any. If they're redundant, ignore one of them |\n",
    "| Latitude | float | latitude coordinate of crash site | within boundary range for Jefferson County | keep | \n",
    "| Longitude | float | longitude coordinate of crash site | within boundary range for Jefferson Cty | keep |\n",
    "| geometry | POINT | point location in logitude, latitude form | repeated data elsewhere | drop; can reconstruct from other fields |  \n",
    "| index_right | number | another index value | always 0 | ignore | "
   ]
  },
  {
   "cell_type": "markdown",
   "metadata": {},
   "source": [
    "## Exploring cycling_safety data"
   ]
  },
  {
   "cell_type": "code",
   "execution_count": 3,
   "metadata": {},
   "outputs": [
    {
     "data": {
      "text/plain": [
       "Index(['Unnamed: 0', 'MASTER FILE NUMBER', 'INVESTIGATING AGENCY',\n",
       "       'LOCAL CODE', 'COLLISION STATUS CODE', 'COUNTY NAME', 'ROADWAY NUMBER',\n",
       "       'BLOCK/HOUSE #', 'ROADWAY NAME', 'ROADWAY SUFFIX',\n",
       "       'ROADWAY DIRECTION CODE', 'GPS LATITUDE DECIMAL',\n",
       "       'GPS LONGITUDE DECIMAL', 'MILEPOINT DERIVED', 'COLLISION DATE',\n",
       "       'COLLISION TIME', 'INTERSECTION ROADWAY #', 'INTERSECTION ROADWAY NAME',\n",
       "       'INTERSECTION ROADWAY SFX', 'BETWEEN STREET ROADWAY # 1',\n",
       "       'BETWEEN STREET ROADWAY NAME 1', 'BETWEEN STREET ROADWAY SFX 1',\n",
       "       'BETWEEN STREET ROADWAY # 2', 'BETWEEN STREET ROADWAY NAME 2',\n",
       "       'BETWEEN STREET ROADWAY SFX 2', 'UNITS INVOLVED',\n",
       "       'MOTOR VEHICLES INVOLVED', 'KILLED', 'INJURED', 'WEATHER CODE',\n",
       "       'WEATHER', 'ROADWAY CONDITION CODE', 'ROADWAY CONDITION',\n",
       "       'HIT & RUN INDICATOR', 'ROADWAY TYPE CODE', 'ROADWAY TYPE',\n",
       "       'DIRECTIONAL ANALYSIS CODE', 'DIRECTIONAL ANALYSIS',\n",
       "       'MANNER OF COLLISION CODE', 'MANNER OF COLLISION',\n",
       "       'ROADWAY CHARACTER CODE', 'ROADWAY CHARACTER', 'LIGHT CONDITION CODE',\n",
       "       'LIGHT CONDITION', 'RAMP FROM ROADWAY ID', 'RAMP TO ROADWAY ID',\n",
       "       'SECONDARY COLLISION INDICATOR', 'hour', 'minute', 'Date', 'Latitude',\n",
       "       'Longitude', 'geometry', 'index_right'],\n",
       "      dtype='object')"
      ]
     },
     "execution_count": 3,
     "metadata": {},
     "output_type": "execute_result"
    }
   ],
   "source": [
    "# List all the columns\n",
    "df.columns"
   ]
  },
  {
   "cell_type": "markdown",
   "metadata": {},
   "source": [
    "Column names can be organized into groups of related data\n",
    "### Date / Time columns\n",
    "['COLLISION DATE', 'COLLISION TIME', 'hour', 'minute', 'Date']\n",
    "### Geolocation columns\n",
    "['GPS LATITUDE DECIMAL', 'GPS LONGITUDE DECIMAL', 'Latitude', 'Longitude', 'geometry']\n",
    "### Address columns\n",
    "['COUNTY NAME', 'ROADWAY NUMBER', 'BLOCK/HOUSE #', 'ROADWAY NAME', 'ROADWAY SUFFIX',\n",
    "    'ROADWAY DIRECTION CODE', 'MILEPOINT DERIVED','INTERSECTION ROADWAY #', 'INTERSECTION ROADWAY NAME',\n",
    "       'INTERSECTION ROADWAY SFX', 'BETWEEN STREET ROADWAY # 1',\n",
    "       'BETWEEN STREET ROADWAY NAME 1', 'BETWEEN STREET ROADWAY SFX 1',\n",
    "       'BETWEEN STREET ROADWAY # 2', 'BETWEEN STREET ROADWAY NAME 2',\n",
    "       'BETWEEN STREET ROADWAY SFX 2', 'RAMP FROM ROADWAY ID', 'RAMP TO ROADWAY ID']\n",
    "### Code columns\n",
    "['LOCAL CODE', 'COLLISION STATUS CODE', 'WEATHER CODE', \n",
    " 'ROADWAY CONDITION CODE', 'ROADWAY TYPE CODE', 'DIRECTIONAL ANALYSIS CODE',\n",
    " 'MANNER OF COLLISION CODE', 'ROADWAY CHARACTER CODE', 'LIGHT CONDITION CODE']\n",
    "    # Some codes are paired with a human_readable string\n",
    "['WEATHER', 'ROADWAY CONDITION', 'ROADWAY TYPE', 'DIRECTIONAL ANALYSIS', 'MANNER OF COLLISION',\n",
    "     'ROADWAY CHARACTER', 'LIGHT CONDITION']\n",
    "   #### Other codes are stand alone:\n",
    "['LOCAL CODE', 'COLLISION STATUS CODE']\n",
    "\n",
    "### Other info\n",
    "['Unnamed: 0', 'MASTER FILE NUMBER', 'INVESTIGATING AGENCY', 'LOCAL CODE', 'COLLISION STATUS CODE',\n",
    "  'COUNTY NAME','UNITS INVOLVED', 'MOTOR VEHICLES INVOLVED', 'KILLED', 'INJURED', 'HIT & RUN INDICATOR',\n",
    "  'SECONDARY COLLISION INDICATOR', 'index_right']\n"
   ]
  },
  {
   "cell_type": "markdown",
   "metadata": {},
   "source": [
    "# Columns\n",
    "\n",
    "### Date and time columns\n",
    "`['COLLISION DATE', 'COLLISION TIME', 'hour', 'minute', 'Date']`"
   ]
  },
  {
   "cell_type": "code",
   "execution_count": 5,
   "metadata": {},
   "outputs": [
    {
     "data": {
      "text/html": [
       "<div>\n",
       "<style scoped>\n",
       "    .dataframe tbody tr th:only-of-type {\n",
       "        vertical-align: middle;\n",
       "    }\n",
       "\n",
       "    .dataframe tbody tr th {\n",
       "        vertical-align: top;\n",
       "    }\n",
       "\n",
       "    .dataframe thead th {\n",
       "        text-align: right;\n",
       "    }\n",
       "</style>\n",
       "<table border=\"1\" class=\"dataframe\">\n",
       "  <thead>\n",
       "    <tr style=\"text-align: right;\">\n",
       "      <th></th>\n",
       "      <th>Date</th>\n",
       "      <th>COLLISION DATE</th>\n",
       "    </tr>\n",
       "  </thead>\n",
       "  <tbody>\n",
       "    <tr>\n",
       "      <th>min</th>\n",
       "      <td>2010-01-13 10:00:00</td>\n",
       "      <td>1/10/2011</td>\n",
       "    </tr>\n",
       "    <tr>\n",
       "      <th>max</th>\n",
       "      <td>2017-12-22 21:51:00</td>\n",
       "      <td>9/9/2016</td>\n",
       "    </tr>\n",
       "  </tbody>\n",
       "</table>\n",
       "</div>"
      ],
      "text/plain": [
       "                    Date COLLISION DATE\n",
       "min  2010-01-13 10:00:00      1/10/2011\n",
       "max  2017-12-22 21:51:00       9/9/2016"
      ]
     },
     "execution_count": 5,
     "metadata": {},
     "output_type": "execute_result"
    }
   ],
   "source": [
    "df[['Date', 'COLLISION DATE']].agg((\"min\", \"max\"))"
   ]
  },
  {
   "cell_type": "code",
   "execution_count": 6,
   "metadata": {},
   "outputs": [
    {
     "data": {
      "text/html": [
       "<div>\n",
       "<style scoped>\n",
       "    .dataframe tbody tr th:only-of-type {\n",
       "        vertical-align: middle;\n",
       "    }\n",
       "\n",
       "    .dataframe tbody tr th {\n",
       "        vertical-align: top;\n",
       "    }\n",
       "\n",
       "    .dataframe thead th {\n",
       "        text-align: right;\n",
       "    }\n",
       "</style>\n",
       "<table border=\"1\" class=\"dataframe\">\n",
       "  <thead>\n",
       "    <tr style=\"text-align: right;\">\n",
       "      <th></th>\n",
       "      <th>COLLISION TIME</th>\n",
       "      <th>hour</th>\n",
       "      <th>minute</th>\n",
       "    </tr>\n",
       "  </thead>\n",
       "  <tbody>\n",
       "    <tr>\n",
       "      <th>min</th>\n",
       "      <td>0</td>\n",
       "      <td>0</td>\n",
       "      <td>0</td>\n",
       "    </tr>\n",
       "    <tr>\n",
       "      <th>max</th>\n",
       "      <td>100009</td>\n",
       "      <td>23</td>\n",
       "      <td>59</td>\n",
       "    </tr>\n",
       "  </tbody>\n",
       "</table>\n",
       "</div>"
      ],
      "text/plain": [
       "     COLLISION TIME  hour  minute\n",
       "min               0     0       0\n",
       "max          100009    23      59"
      ]
     },
     "execution_count": 6,
     "metadata": {},
     "output_type": "execute_result"
    }
   ],
   "source": [
    "df[['COLLISION TIME', 'hour', 'minute']].agg((\"min\", \"max\"))"
   ]
  },
  {
   "cell_type": "code",
   "execution_count": 7,
   "metadata": {},
   "outputs": [
    {
     "data": {
      "text/html": [
       "<div>\n",
       "<style scoped>\n",
       "    .dataframe tbody tr th:only-of-type {\n",
       "        vertical-align: middle;\n",
       "    }\n",
       "\n",
       "    .dataframe tbody tr th {\n",
       "        vertical-align: top;\n",
       "    }\n",
       "\n",
       "    .dataframe thead th {\n",
       "        text-align: right;\n",
       "    }\n",
       "</style>\n",
       "<table border=\"1\" class=\"dataframe\">\n",
       "  <thead>\n",
       "    <tr style=\"text-align: right;\">\n",
       "      <th></th>\n",
       "      <th>Date</th>\n",
       "      <th>COLLISION DATE</th>\n",
       "      <th>COLLISION TIME</th>\n",
       "    </tr>\n",
       "  </thead>\n",
       "  <tbody>\n",
       "    <tr>\n",
       "      <th>0</th>\n",
       "      <td>2010-02-20 16:20:00</td>\n",
       "      <td>2/20/2010</td>\n",
       "      <td>1620</td>\n",
       "    </tr>\n",
       "    <tr>\n",
       "      <th>1</th>\n",
       "      <td>2010-01-13 13:40:00</td>\n",
       "      <td>1/13/2010</td>\n",
       "      <td>1340</td>\n",
       "    </tr>\n",
       "    <tr>\n",
       "      <th>2</th>\n",
       "      <td>2010-01-13 10:00:00</td>\n",
       "      <td>1/13/2010</td>\n",
       "      <td>100008</td>\n",
       "    </tr>\n",
       "    <tr>\n",
       "      <th>3</th>\n",
       "      <td>2010-01-15 15:50:00</td>\n",
       "      <td>1/15/2010</td>\n",
       "      <td>1550</td>\n",
       "    </tr>\n",
       "    <tr>\n",
       "      <th>4</th>\n",
       "      <td>2010-02-02 06:11:00</td>\n",
       "      <td>2/2/2010</td>\n",
       "      <td>611</td>\n",
       "    </tr>\n",
       "    <tr>\n",
       "      <th>...</th>\n",
       "      <td>...</td>\n",
       "      <td>...</td>\n",
       "      <td>...</td>\n",
       "    </tr>\n",
       "    <tr>\n",
       "      <th>1268</th>\n",
       "      <td>2017-12-05 07:07:00</td>\n",
       "      <td>12/5/2017</td>\n",
       "      <td>707</td>\n",
       "    </tr>\n",
       "    <tr>\n",
       "      <th>1269</th>\n",
       "      <td>2017-12-14 17:09:00</td>\n",
       "      <td>12/14/2017</td>\n",
       "      <td>1709</td>\n",
       "    </tr>\n",
       "    <tr>\n",
       "      <th>1270</th>\n",
       "      <td>2017-12-19 10:00:00</td>\n",
       "      <td>12/19/2017</td>\n",
       "      <td>100002</td>\n",
       "    </tr>\n",
       "    <tr>\n",
       "      <th>1271</th>\n",
       "      <td>2017-12-21 19:56:00</td>\n",
       "      <td>12/21/2017</td>\n",
       "      <td>1956</td>\n",
       "    </tr>\n",
       "    <tr>\n",
       "      <th>1272</th>\n",
       "      <td>2017-12-22 21:51:00</td>\n",
       "      <td>12/22/2017</td>\n",
       "      <td>2151</td>\n",
       "    </tr>\n",
       "  </tbody>\n",
       "</table>\n",
       "<p>1273 rows × 3 columns</p>\n",
       "</div>"
      ],
      "text/plain": [
       "                     Date COLLISION DATE  COLLISION TIME\n",
       "0     2010-02-20 16:20:00      2/20/2010            1620\n",
       "1     2010-01-13 13:40:00      1/13/2010            1340\n",
       "2     2010-01-13 10:00:00      1/13/2010          100008\n",
       "3     2010-01-15 15:50:00      1/15/2010            1550\n",
       "4     2010-02-02 06:11:00       2/2/2010             611\n",
       "...                   ...            ...             ...\n",
       "1268  2017-12-05 07:07:00      12/5/2017             707\n",
       "1269  2017-12-14 17:09:00     12/14/2017            1709\n",
       "1270  2017-12-19 10:00:00     12/19/2017          100002\n",
       "1271  2017-12-21 19:56:00     12/21/2017            1956\n",
       "1272  2017-12-22 21:51:00     12/22/2017            2151\n",
       "\n",
       "[1273 rows x 3 columns]"
      ]
     },
     "execution_count": 7,
     "metadata": {},
     "output_type": "execute_result"
    }
   ],
   "source": [
    "df[['Date', 'COLLISION DATE', 'COLLISION TIME']]\n",
    "# These seem to match up. It shouldn't be too hard to write code to verify this."
   ]
  },
  {
   "cell_type": "code",
   "execution_count": 8,
   "metadata": {},
   "outputs": [
    {
     "data": {
      "text/html": [
       "<div>\n",
       "<style scoped>\n",
       "    .dataframe tbody tr th:only-of-type {\n",
       "        vertical-align: middle;\n",
       "    }\n",
       "\n",
       "    .dataframe tbody tr th {\n",
       "        vertical-align: top;\n",
       "    }\n",
       "\n",
       "    .dataframe thead th {\n",
       "        text-align: right;\n",
       "    }\n",
       "</style>\n",
       "<table border=\"1\" class=\"dataframe\">\n",
       "  <thead>\n",
       "    <tr style=\"text-align: right;\">\n",
       "      <th></th>\n",
       "      <th>COLLISION TIME</th>\n",
       "      <th>hour</th>\n",
       "      <th>minute</th>\n",
       "    </tr>\n",
       "  </thead>\n",
       "  <tbody>\n",
       "    <tr>\n",
       "      <th>0</th>\n",
       "      <td>1620</td>\n",
       "      <td>16</td>\n",
       "      <td>20</td>\n",
       "    </tr>\n",
       "    <tr>\n",
       "      <th>1</th>\n",
       "      <td>1340</td>\n",
       "      <td>13</td>\n",
       "      <td>40</td>\n",
       "    </tr>\n",
       "    <tr>\n",
       "      <th>2</th>\n",
       "      <td>100008</td>\n",
       "      <td>10</td>\n",
       "      <td>0</td>\n",
       "    </tr>\n",
       "    <tr>\n",
       "      <th>3</th>\n",
       "      <td>1550</td>\n",
       "      <td>15</td>\n",
       "      <td>50</td>\n",
       "    </tr>\n",
       "    <tr>\n",
       "      <th>4</th>\n",
       "      <td>611</td>\n",
       "      <td>6</td>\n",
       "      <td>11</td>\n",
       "    </tr>\n",
       "    <tr>\n",
       "      <th>...</th>\n",
       "      <td>...</td>\n",
       "      <td>...</td>\n",
       "      <td>...</td>\n",
       "    </tr>\n",
       "    <tr>\n",
       "      <th>1268</th>\n",
       "      <td>707</td>\n",
       "      <td>7</td>\n",
       "      <td>7</td>\n",
       "    </tr>\n",
       "    <tr>\n",
       "      <th>1269</th>\n",
       "      <td>1709</td>\n",
       "      <td>17</td>\n",
       "      <td>9</td>\n",
       "    </tr>\n",
       "    <tr>\n",
       "      <th>1270</th>\n",
       "      <td>100002</td>\n",
       "      <td>10</td>\n",
       "      <td>0</td>\n",
       "    </tr>\n",
       "    <tr>\n",
       "      <th>1271</th>\n",
       "      <td>1956</td>\n",
       "      <td>19</td>\n",
       "      <td>56</td>\n",
       "    </tr>\n",
       "    <tr>\n",
       "      <th>1272</th>\n",
       "      <td>2151</td>\n",
       "      <td>21</td>\n",
       "      <td>51</td>\n",
       "    </tr>\n",
       "  </tbody>\n",
       "</table>\n",
       "<p>1273 rows × 3 columns</p>\n",
       "</div>"
      ],
      "text/plain": [
       "      COLLISION TIME  hour  minute\n",
       "0               1620    16      20\n",
       "1               1340    13      40\n",
       "2             100008    10       0\n",
       "3               1550    15      50\n",
       "4                611     6      11\n",
       "...              ...   ...     ...\n",
       "1268             707     7       7\n",
       "1269            1709    17       9\n",
       "1270          100002    10       0\n",
       "1271            1956    19      56\n",
       "1272            2151    21      51\n",
       "\n",
       "[1273 rows x 3 columns]"
      ]
     },
     "execution_count": 8,
     "metadata": {},
     "output_type": "execute_result"
    }
   ],
   "source": [
    "df[['COLLISION TIME', 'hour', 'minute']]\n",
    "# These seem to match up. Write a script to check this data"
   ]
  },
  {
   "cell_type": "code",
   "execution_count": 9,
   "metadata": {},
   "outputs": [
    {
     "data": {
      "text/html": [
       "<div>\n",
       "<style scoped>\n",
       "    .dataframe tbody tr th:only-of-type {\n",
       "        vertical-align: middle;\n",
       "    }\n",
       "\n",
       "    .dataframe tbody tr th {\n",
       "        vertical-align: top;\n",
       "    }\n",
       "\n",
       "    .dataframe thead th {\n",
       "        text-align: right;\n",
       "    }\n",
       "</style>\n",
       "<table border=\"1\" class=\"dataframe\">\n",
       "  <thead>\n",
       "    <tr style=\"text-align: right;\">\n",
       "      <th></th>\n",
       "      <th>COLLISION TIME</th>\n",
       "      <th>hour</th>\n",
       "      <th>minute</th>\n",
       "    </tr>\n",
       "  </thead>\n",
       "  <tbody>\n",
       "    <tr>\n",
       "      <th>861</th>\n",
       "      <td>1000</td>\n",
       "      <td>10</td>\n",
       "      <td>0</td>\n",
       "    </tr>\n",
       "    <tr>\n",
       "      <th>26</th>\n",
       "      <td>1000</td>\n",
       "      <td>10</td>\n",
       "      <td>0</td>\n",
       "    </tr>\n",
       "    <tr>\n",
       "      <th>1052</th>\n",
       "      <td>1000</td>\n",
       "      <td>10</td>\n",
       "      <td>0</td>\n",
       "    </tr>\n",
       "    <tr>\n",
       "      <th>104</th>\n",
       "      <td>1000</td>\n",
       "      <td>10</td>\n",
       "      <td>0</td>\n",
       "    </tr>\n",
       "    <tr>\n",
       "      <th>1063</th>\n",
       "      <td>1001</td>\n",
       "      <td>10</td>\n",
       "      <td>1</td>\n",
       "    </tr>\n",
       "    <tr>\n",
       "      <th>...</th>\n",
       "      <td>...</td>\n",
       "      <td>...</td>\n",
       "      <td>...</td>\n",
       "    </tr>\n",
       "    <tr>\n",
       "      <th>1201</th>\n",
       "      <td>100009</td>\n",
       "      <td>10</td>\n",
       "      <td>0</td>\n",
       "    </tr>\n",
       "    <tr>\n",
       "      <th>6</th>\n",
       "      <td>100009</td>\n",
       "      <td>10</td>\n",
       "      <td>0</td>\n",
       "    </tr>\n",
       "    <tr>\n",
       "      <th>712</th>\n",
       "      <td>100009</td>\n",
       "      <td>10</td>\n",
       "      <td>0</td>\n",
       "    </tr>\n",
       "    <tr>\n",
       "      <th>542</th>\n",
       "      <td>100009</td>\n",
       "      <td>10</td>\n",
       "      <td>0</td>\n",
       "    </tr>\n",
       "    <tr>\n",
       "      <th>292</th>\n",
       "      <td>100009</td>\n",
       "      <td>10</td>\n",
       "      <td>0</td>\n",
       "    </tr>\n",
       "  </tbody>\n",
       "</table>\n",
       "<p>89 rows × 3 columns</p>\n",
       "</div>"
      ],
      "text/plain": [
       "      COLLISION TIME  hour  minute\n",
       "861             1000    10       0\n",
       "26              1000    10       0\n",
       "1052            1000    10       0\n",
       "104             1000    10       0\n",
       "1063            1001    10       1\n",
       "...              ...   ...     ...\n",
       "1201          100009    10       0\n",
       "6             100009    10       0\n",
       "712           100009    10       0\n",
       "542           100009    10       0\n",
       "292           100009    10       0\n",
       "\n",
       "[89 rows x 3 columns]"
      ]
     },
     "execution_count": 9,
     "metadata": {},
     "output_type": "execute_result"
    }
   ],
   "source": [
    "times = df[['COLLISION TIME', 'hour', 'minute']]\n",
    "times[(times['hour'] == 10)].sort_values(by='COLLISION TIME')\n"
   ]
  },
  {
   "cell_type": "markdown",
   "metadata": {},
   "source": [
    "### Geolocation columns\n",
    "\n",
    "`['GPS LATITUDE DECIMAL', 'GPS LONGITUDE DECIMAL', 'Latitude', 'Longitude', 'geometry']`\n"
   ]
  },
  {
   "cell_type": "code",
   "execution_count": 10,
   "metadata": {},
   "outputs": [
    {
     "data": {
      "text/html": [
       "<div>\n",
       "<style scoped>\n",
       "    .dataframe tbody tr th:only-of-type {\n",
       "        vertical-align: middle;\n",
       "    }\n",
       "\n",
       "    .dataframe tbody tr th {\n",
       "        vertical-align: top;\n",
       "    }\n",
       "\n",
       "    .dataframe thead th {\n",
       "        text-align: right;\n",
       "    }\n",
       "</style>\n",
       "<table border=\"1\" class=\"dataframe\">\n",
       "  <thead>\n",
       "    <tr style=\"text-align: right;\">\n",
       "      <th></th>\n",
       "      <th>GPS LONGITUDE DECIMAL</th>\n",
       "      <th>Longitude</th>\n",
       "      <th>GPS LATITUDE DECIMAL</th>\n",
       "      <th>Latitude</th>\n",
       "      <th>geometry</th>\n",
       "    </tr>\n",
       "  </thead>\n",
       "  <tbody>\n",
       "    <tr>\n",
       "      <th>0</th>\n",
       "      <td>-85.707933</td>\n",
       "      <td>-85.707933</td>\n",
       "      <td>38.231850</td>\n",
       "      <td>38.231850</td>\n",
       "      <td>POINT (-85.707933333 38.23185)</td>\n",
       "    </tr>\n",
       "    <tr>\n",
       "      <th>1</th>\n",
       "      <td>-85.696572</td>\n",
       "      <td>-85.696572</td>\n",
       "      <td>38.273995</td>\n",
       "      <td>38.273995</td>\n",
       "      <td>POINT (-85.6965716 38.2739947)</td>\n",
       "    </tr>\n",
       "    <tr>\n",
       "      <th>2</th>\n",
       "      <td>-85.703576</td>\n",
       "      <td>-85.703576</td>\n",
       "      <td>38.258551</td>\n",
       "      <td>38.258551</td>\n",
       "      <td>POINT (-85.70357610000001 38.2585512)</td>\n",
       "    </tr>\n",
       "    <tr>\n",
       "      <th>3</th>\n",
       "      <td>-85.697265</td>\n",
       "      <td>-85.697265</td>\n",
       "      <td>38.250012</td>\n",
       "      <td>38.250012</td>\n",
       "      <td>POINT (-85.6972652 38.2500121)</td>\n",
       "    </tr>\n",
       "    <tr>\n",
       "      <th>4</th>\n",
       "      <td>-85.793380</td>\n",
       "      <td>-85.793380</td>\n",
       "      <td>38.195890</td>\n",
       "      <td>38.195890</td>\n",
       "      <td>POINT (-85.7933803 38.1958905)</td>\n",
       "    </tr>\n",
       "    <tr>\n",
       "      <th>...</th>\n",
       "      <td>...</td>\n",
       "      <td>...</td>\n",
       "      <td>...</td>\n",
       "      <td>...</td>\n",
       "      <td>...</td>\n",
       "    </tr>\n",
       "    <tr>\n",
       "      <th>1268</th>\n",
       "      <td>-85.733644</td>\n",
       "      <td>-85.733644</td>\n",
       "      <td>38.153815</td>\n",
       "      <td>38.153815</td>\n",
       "      <td>POINT (-85.73364410000001 38.1538153)</td>\n",
       "    </tr>\n",
       "    <tr>\n",
       "      <th>1269</th>\n",
       "      <td>-85.688008</td>\n",
       "      <td>-85.688008</td>\n",
       "      <td>38.163618</td>\n",
       "      <td>38.163618</td>\n",
       "      <td>POINT (-85.6880079 38.1636178)</td>\n",
       "    </tr>\n",
       "    <tr>\n",
       "      <th>1270</th>\n",
       "      <td>-85.671480</td>\n",
       "      <td>-85.671480</td>\n",
       "      <td>38.160030</td>\n",
       "      <td>38.160030</td>\n",
       "      <td>POINT (-85.6714798 38.1600301)</td>\n",
       "    </tr>\n",
       "    <tr>\n",
       "      <th>1271</th>\n",
       "      <td>-85.626309</td>\n",
       "      <td>-85.626309</td>\n",
       "      <td>38.198257</td>\n",
       "      <td>38.198257</td>\n",
       "      <td>POINT (-85.62630919999999 38.1982569)</td>\n",
       "    </tr>\n",
       "    <tr>\n",
       "      <th>1272</th>\n",
       "      <td>-85.890658</td>\n",
       "      <td>-85.890658</td>\n",
       "      <td>38.124819</td>\n",
       "      <td>38.124819</td>\n",
       "      <td>POINT (-85.8906576 38.1248191)</td>\n",
       "    </tr>\n",
       "  </tbody>\n",
       "</table>\n",
       "<p>1273 rows × 5 columns</p>\n",
       "</div>"
      ],
      "text/plain": [
       "      GPS LONGITUDE DECIMAL  Longitude  GPS LATITUDE DECIMAL   Latitude  \\\n",
       "0                -85.707933 -85.707933             38.231850  38.231850   \n",
       "1                -85.696572 -85.696572             38.273995  38.273995   \n",
       "2                -85.703576 -85.703576             38.258551  38.258551   \n",
       "3                -85.697265 -85.697265             38.250012  38.250012   \n",
       "4                -85.793380 -85.793380             38.195890  38.195890   \n",
       "...                     ...        ...                   ...        ...   \n",
       "1268             -85.733644 -85.733644             38.153815  38.153815   \n",
       "1269             -85.688008 -85.688008             38.163618  38.163618   \n",
       "1270             -85.671480 -85.671480             38.160030  38.160030   \n",
       "1271             -85.626309 -85.626309             38.198257  38.198257   \n",
       "1272             -85.890658 -85.890658             38.124819  38.124819   \n",
       "\n",
       "                                   geometry  \n",
       "0            POINT (-85.707933333 38.23185)  \n",
       "1            POINT (-85.6965716 38.2739947)  \n",
       "2     POINT (-85.70357610000001 38.2585512)  \n",
       "3            POINT (-85.6972652 38.2500121)  \n",
       "4            POINT (-85.7933803 38.1958905)  \n",
       "...                                     ...  \n",
       "1268  POINT (-85.73364410000001 38.1538153)  \n",
       "1269         POINT (-85.6880079 38.1636178)  \n",
       "1270         POINT (-85.6714798 38.1600301)  \n",
       "1271  POINT (-85.62630919999999 38.1982569)  \n",
       "1272         POINT (-85.8906576 38.1248191)  \n",
       "\n",
       "[1273 rows x 5 columns]"
      ]
     },
     "execution_count": 10,
     "metadata": {},
     "output_type": "execute_result"
    }
   ],
   "source": [
    "\n",
    "df[['GPS LONGITUDE DECIMAL', 'Longitude', 'GPS LATITUDE DECIMAL', 'Latitude', 'geometry']]\n",
    "# POINT data is more precise than other lat/long data"
   ]
  },
  {
   "cell_type": "markdown",
   "metadata": {},
   "source": [
    "### \"... CODE\" columns\n",
    "\n",
    "`['LOCAL CODE', 'COLLISION STATUS CODE', 'WEATHER CODE', \n",
    " 'ROADWAY CONDITION CODE', 'ROADWAY TYPE CODE', 'DIRECTIONAL ANALYSIS CODE',\n",
    " 'MANNER OF COLLISION CODE', 'ROADWAY CHARACTER CODE', 'LIGHT CONDITION CODE']`\n",
    "\n",
    "`['WEATHER', 'ROADWAY CONDITION', 'ROADWAY TYPE', 'DIRECTIONAL ANALYSIS', 'MANNER OF COLLISION',\n",
    "'ROADWAY CHARACTER', 'LIGHT CONDITION']`"
   ]
  },
  {
   "cell_type": "code",
   "execution_count": 11,
   "metadata": {},
   "outputs": [
    {
     "data": {
      "text/plain": [
       "{'WEATHER': 'WEATHER CODE',\n",
       " 'ROADWAY CONDITION': 'ROADWAY CONDITION CODE',\n",
       " 'ROADWAY TYPE': 'ROADWAY TYPE CODE',\n",
       " 'DIRECTIONAL ANALYSIS': 'DIRECTIONAL ANALYSIS CODE',\n",
       " 'MANNER OF COLLISION': 'MANNER OF COLLISION CODE',\n",
       " 'ROADWAY CHARACTER': 'ROADWAY CHARACTER CODE',\n",
       " 'LIGHT CONDITION': 'LIGHT CONDITION CODE'}"
      ]
     },
     "execution_count": 11,
     "metadata": {},
     "output_type": "execute_result"
    }
   ],
   "source": [
    "human_readable = ['WEATHER', 'ROADWAY CONDITION', 'ROADWAY TYPE', 'DIRECTIONAL ANALYSIS', 'MANNER OF COLLISION',\n",
    "     'ROADWAY CHARACTER', 'LIGHT CONDITION']\n",
    "codes = {H:H+\" CODE\" for H in human_readable}\n",
    "codes"
   ]
  },
  {
   "cell_type": "code",
   "execution_count": 12,
   "metadata": {},
   "outputs": [
    {
     "data": {
      "text/plain": [
       "True"
      ]
     },
     "execution_count": 12,
     "metadata": {},
     "output_type": "execute_result"
    }
   ],
   "source": [
    "# Test each X CODE : X pair: They should be a 1:1 mapping, so the count of unique items for each\n",
    "# human readable should equal the count of unique values for the numeric codes\n",
    "all((len(df[key].unique()) == len(df[value].unique())) for key, value in codes.items())"
   ]
  },
  {
   "cell_type": "code",
   "execution_count": 13,
   "metadata": {},
   "outputs": [
    {
     "data": {
      "text/plain": [
       "ROADWAY TYPE CODE\n",
       "5.0     665\n",
       "7.0     270\n",
       "2.0     255\n",
       "1.0      48\n",
       "99.0     19\n",
       "4.0      11\n",
       "NaN       4\n",
       "3.0       1\n",
       "Name: count, dtype: int64"
      ]
     },
     "execution_count": 13,
     "metadata": {},
     "output_type": "execute_result"
    }
   ],
   "source": [
    "df['ROADWAY TYPE CODE'].value_counts(dropna=False)\n",
    "# Has some null values\n",
    "# NAN roadway type code -> NONE OF THE ABOVE in ROADWAY TYPE"
   ]
  },
  {
   "cell_type": "markdown",
   "metadata": {},
   "source": [
    "### Address information\n",
    "\n",
    "`['COUNTY NAME', 'ROADWAY NUMBER', 'BLOCK/HOUSE #', 'ROADWAY NAME', 'ROADWAY SUFFIX',\n",
    "    'ROADWAY DIRECTION CODE', 'MILEPOINT DERIVED','INTERSECTION ROADWAY #', 'INTERSECTION ROADWAY NAME',\n",
    "       'INTERSECTION ROADWAY SFX', 'BETWEEN STREET ROADWAY # 1',\n",
    "       'BETWEEN STREET ROADWAY NAME 1', 'BETWEEN STREET ROADWAY SFX 1',\n",
    "       'BETWEEN STREET ROADWAY # 2', 'BETWEEN STREET ROADWAY NAME 2',\n",
    "       'BETWEEN STREET ROADWAY SFX 2', 'RAMP FROM ROADWAY ID', 'RAMP TO ROADWAY ID']`"
   ]
  },
  {
   "cell_type": "code",
   "execution_count": 14,
   "metadata": {},
   "outputs": [
    {
     "data": {
      "text/plain": [
       "array([56])"
      ]
     },
     "execution_count": 14,
     "metadata": {},
     "output_type": "execute_result"
    }
   ],
   "source": [
    "# COUNTY NAME column\n",
    "CN = df['COUNTY NAME']\n",
    "CN.unique()\n",
    "# Always \"56\"\n",
    "# Ignore this? All reports are in Jefferson County, KY\n"
   ]
  },
  {
   "cell_type": "code",
   "execution_count": 15,
   "metadata": {},
   "outputs": [
    {
     "data": {
      "text/plain": [
       "array(['US0031  ', nan, 'US0042  ', 'KY1020  ', 'US0031E ', 'US0150  ',\n",
       "       'KY2051  ', 'KY1631  ', 'KY2053  ', 'KY1747  ', 'US0031W ',\n",
       "       'KY0061  ', 'KY1865  ', 'US0060  ', 'KY1065  ', 'I 0264  ',\n",
       "       'KY0155  ', 'KY2048  ', 'KY0864  ', 'US0060A ', 'KY1931  ',\n",
       "       'KY2049  ', 'KY1447  ', 'KY2860  ', 'KY2050  ', 'KY1934  ',\n",
       "       'KY2052  ', 'KY1703  ', 'KY1450  ', 'KY3064  ', 'KY1819  ',\n",
       "       'KY2054  ', 'KY1932  ', 'KY1727  ', 'KY0146  ', 'KY0907  ',\n",
       "       'KY0841  ', 'KY2251  ', 'KY3082  ', 'I 0064  ', 'KY0913  ',\n",
       "       'KY2845  ', 'I 0065  ', 'KY2055  ', 'KY3077  ', 'KY1230  ',\n",
       "       'KY1142  ', 'KY0148  ', '        ', 'I 0265  '], dtype=object)"
      ]
     },
     "execution_count": 15,
     "metadata": {},
     "output_type": "execute_result"
    }
   ],
   "source": [
    "df['ROADWAY NUMBER'].value_counts(dropna=False)\n",
    "# Many of these are NAN or blank\n",
    "df['ROADWAY NUMBER'].unique()"
   ]
  },
  {
   "cell_type": "code",
   "execution_count": 16,
   "metadata": {},
   "outputs": [
    {
     "data": {
      "text/plain": [
       "BLOCK/HOUSE #\n",
       "NaN       1142\n",
       "            35\n",
       "600.0        2\n",
       "4200         2\n",
       "900.0        2\n",
       "          ... \n",
       "1500.0       1\n",
       "8020.0       1\n",
       "9120.0       1\n",
       "2216.0       1\n",
       "131.0        1\n",
       "Name: count, Length: 90, dtype: int64"
      ]
     },
     "execution_count": 16,
     "metadata": {},
     "output_type": "execute_result"
    }
   ],
   "source": [
    "df['BLOCK/HOUSE #'].value_counts(dropna=False)\n",
    "# Building address numbers\n",
    "# Some crash reports don't have any value here, or a null value\n",
    "# My assumption is that sometimes crashes don't occur near any particular address"
   ]
  },
  {
   "cell_type": "code",
   "execution_count": 17,
   "metadata": {},
   "outputs": [
    {
     "name": "stdout",
     "output_type": "stream",
     "text": [
      "<class 'pandas.core.series.Series'>\n",
      "RangeIndex: 1273 entries, 0 to 1272\n",
      "Series name: ROADWAY NAME\n",
      "Non-Null Count  Dtype \n",
      "--------------  ----- \n",
      "1264 non-null   object\n",
      "dtypes: object(1)\n",
      "memory usage: 10.1+ KB\n"
     ]
    }
   ],
   "source": [
    "# ROADWAY NAME column \n",
    "RN = df['ROADWAY NAME']\n",
    "RN.info()\n"
   ]
  },
  {
   "cell_type": "code",
   "execution_count": 18,
   "metadata": {},
   "outputs": [
    {
     "data": {
      "text/plain": [
       "ROADWAY SUFFIX\n",
       "ST       378\n",
       "RD       227\n",
       "AVE      202\n",
       "LN        90\n",
       "NaN       81\n",
       "HWY       79\n",
       "DR        67\n",
       "BLVD      49\n",
       "PKWY      33\n",
       "TRL       11\n",
       "CT        10\n",
       "WAY        9\n",
       "PL         8\n",
       "LOOP       7\n",
       "TRCE       4\n",
       "TPKE       4\n",
       "           3\n",
       "CIR        3\n",
       "BYP        3\n",
       "ALY        2\n",
       "PARK       1\n",
       "TER        1\n",
       "PLZ        1\n",
       "Name: count, dtype: int64"
      ]
     },
     "execution_count": 18,
     "metadata": {},
     "output_type": "execute_result"
    }
   ],
   "source": [
    "# ROADWAY SUFFIX column \n",
    "RS = df['ROADWAY SUFFIX']\n",
    "RS.unique()\n",
    "RS.value_counts(dropna=False)\n",
    "# Some blank values and NaN's"
   ]
  },
  {
   "cell_type": "code",
   "execution_count": 19,
   "metadata": {},
   "outputs": [
    {
     "data": {
      "text/plain": [
       "min         0.000000\n",
       "max       124.526000\n",
       "mean        4.037019\n",
       "median      1.170000\n",
       "mode        0.000000\n",
       "stdev       6.485810\n",
       "Name: MILEPOINT DERIVED, dtype: float64"
      ]
     },
     "execution_count": 19,
     "metadata": {},
     "output_type": "execute_result"
    }
   ],
   "source": [
    "# MILEPOINT DERIVED column\n",
    "import statistics\n",
    "MP = df['MILEPOINT DERIVED']\n",
    "# This has some null values\n",
    "MP.dropna().agg((\"min\", \"max\", statistics.mean, statistics.median, statistics.mode, statistics.stdev))\n",
    "\n",
    "# Probably not useful for me. Likely will drop column."
   ]
  },
  {
   "cell_type": "code",
   "execution_count": 20,
   "metadata": {},
   "outputs": [
    {
     "data": {
      "text/html": [
       "<div>\n",
       "<style scoped>\n",
       "    .dataframe tbody tr th:only-of-type {\n",
       "        vertical-align: middle;\n",
       "    }\n",
       "\n",
       "    .dataframe tbody tr th {\n",
       "        vertical-align: top;\n",
       "    }\n",
       "\n",
       "    .dataframe thead th {\n",
       "        text-align: right;\n",
       "    }\n",
       "</style>\n",
       "<table border=\"1\" class=\"dataframe\">\n",
       "  <thead>\n",
       "    <tr style=\"text-align: right;\">\n",
       "      <th></th>\n",
       "      <th>INTERSECTION ROADWAY #</th>\n",
       "      <th>INTERSECTION ROADWAY NAME</th>\n",
       "      <th>INTERSECTION ROADWAY SFX</th>\n",
       "    </tr>\n",
       "  </thead>\n",
       "  <tbody>\n",
       "    <tr>\n",
       "      <th>0</th>\n",
       "      <td>NaN</td>\n",
       "      <td>DEERPARK</td>\n",
       "      <td>NaN</td>\n",
       "    </tr>\n",
       "    <tr>\n",
       "      <th>1</th>\n",
       "      <td>I 0071</td>\n",
       "      <td>I71 N EXIT2 OFF RAMP TO ZORN AVE</td>\n",
       "      <td>NaN</td>\n",
       "    </tr>\n",
       "    <tr>\n",
       "      <th>2</th>\n",
       "      <td>NaN</td>\n",
       "      <td>JANE</td>\n",
       "      <td>ST</td>\n",
       "    </tr>\n",
       "    <tr>\n",
       "      <th>3</th>\n",
       "      <td>NaN</td>\n",
       "      <td>NaN</td>\n",
       "      <td>NaN</td>\n",
       "    </tr>\n",
       "    <tr>\n",
       "      <th>4</th>\n",
       "      <td>NaN</td>\n",
       "      <td>CONN</td>\n",
       "      <td>ST</td>\n",
       "    </tr>\n",
       "    <tr>\n",
       "      <th>...</th>\n",
       "      <td>...</td>\n",
       "      <td>...</td>\n",
       "      <td>...</td>\n",
       "    </tr>\n",
       "    <tr>\n",
       "      <th>1268</th>\n",
       "      <td>NaN</td>\n",
       "      <td>NaN</td>\n",
       "      <td>NaN</td>\n",
       "    </tr>\n",
       "    <tr>\n",
       "      <th>1269</th>\n",
       "      <td></td>\n",
       "      <td>WOODED</td>\n",
       "      <td>WAY</td>\n",
       "    </tr>\n",
       "    <tr>\n",
       "      <th>1270</th>\n",
       "      <td></td>\n",
       "      <td>JEFFERSON</td>\n",
       "      <td>BLVD</td>\n",
       "    </tr>\n",
       "    <tr>\n",
       "      <th>1271</th>\n",
       "      <td></td>\n",
       "      <td>ARJAY</td>\n",
       "      <td>LN</td>\n",
       "    </tr>\n",
       "    <tr>\n",
       "      <th>1272</th>\n",
       "      <td>NaN</td>\n",
       "      <td>NaN</td>\n",
       "      <td>NaN</td>\n",
       "    </tr>\n",
       "  </tbody>\n",
       "</table>\n",
       "<p>1273 rows × 3 columns</p>\n",
       "</div>"
      ],
      "text/plain": [
       "     INTERSECTION ROADWAY #         INTERSECTION ROADWAY NAME  \\\n",
       "0                       NaN                          DEERPARK   \n",
       "1                  I 0071    I71 N EXIT2 OFF RAMP TO ZORN AVE   \n",
       "2                       NaN                              JANE   \n",
       "3                       NaN                               NaN   \n",
       "4                       NaN                              CONN   \n",
       "...                     ...                               ...   \n",
       "1268                    NaN                               NaN   \n",
       "1269                                                   WOODED   \n",
       "1270                                                JEFFERSON   \n",
       "1271                                                    ARJAY   \n",
       "1272                    NaN                               NaN   \n",
       "\n",
       "     INTERSECTION ROADWAY SFX  \n",
       "0                         NaN  \n",
       "1                         NaN  \n",
       "2                       ST     \n",
       "3                         NaN  \n",
       "4                       ST     \n",
       "...                       ...  \n",
       "1268                      NaN  \n",
       "1269                    WAY    \n",
       "1270                    BLVD   \n",
       "1271                    LN     \n",
       "1272                      NaN  \n",
       "\n",
       "[1273 rows x 3 columns]"
      ]
     },
     "execution_count": 20,
     "metadata": {},
     "output_type": "execute_result"
    }
   ],
   "source": [
    "# INTERSECTION ROADWAY columns\n",
    "IRW = df[['INTERSECTION ROADWAY #', 'INTERSECTION ROADWAY NAME', 'INTERSECTION ROADWAY SFX']]\n",
    "IRW\n",
    "# Intersecting road where crash occurred. Same types of info as ROADWAY NUMBER, ROADWAY NAME, ROADWAY SUFFIX\n",
    "# One long string at index [1]; might there be others? \n",
    "# NaN's and blanks seem significant, because there may be no intersection for some crashes."
   ]
  },
  {
   "cell_type": "code",
   "execution_count": 21,
   "metadata": {},
   "outputs": [
    {
     "data": {
      "text/html": [
       "<div>\n",
       "<style scoped>\n",
       "    .dataframe tbody tr th:only-of-type {\n",
       "        vertical-align: middle;\n",
       "    }\n",
       "\n",
       "    .dataframe tbody tr th {\n",
       "        vertical-align: top;\n",
       "    }\n",
       "\n",
       "    .dataframe thead th {\n",
       "        text-align: right;\n",
       "    }\n",
       "</style>\n",
       "<table border=\"1\" class=\"dataframe\">\n",
       "  <thead>\n",
       "    <tr style=\"text-align: right;\">\n",
       "      <th></th>\n",
       "      <th>BETWEEN STREET ROADWAY # 1</th>\n",
       "      <th>BETWEEN STREET ROADWAY NAME 1</th>\n",
       "      <th>BETWEEN STREET ROADWAY SFX 1</th>\n",
       "      <th>BETWEEN STREET ROADWAY # 2</th>\n",
       "      <th>BETWEEN STREET ROADWAY NAME 2</th>\n",
       "      <th>BETWEEN STREET ROADWAY SFX 2</th>\n",
       "    </tr>\n",
       "  </thead>\n",
       "  <tbody>\n",
       "    <tr>\n",
       "      <th>200</th>\n",
       "      <td>NaN</td>\n",
       "      <td>NaN</td>\n",
       "      <td>NaN</td>\n",
       "      <td>NaN</td>\n",
       "      <td>NaN</td>\n",
       "      <td>NaN</td>\n",
       "    </tr>\n",
       "    <tr>\n",
       "      <th>201</th>\n",
       "      <td>KY2049</td>\n",
       "      <td>CRUMS</td>\n",
       "      <td>LN</td>\n",
       "      <td>NaN</td>\n",
       "      <td>KRISTIN</td>\n",
       "      <td>WAY</td>\n",
       "    </tr>\n",
       "    <tr>\n",
       "      <th>202</th>\n",
       "      <td>NaN</td>\n",
       "      <td>NaN</td>\n",
       "      <td>NaN</td>\n",
       "      <td>NaN</td>\n",
       "      <td>NaN</td>\n",
       "      <td>NaN</td>\n",
       "    </tr>\n",
       "    <tr>\n",
       "      <th>203</th>\n",
       "      <td>KY3217</td>\n",
       "      <td>37TH</td>\n",
       "      <td>ST</td>\n",
       "      <td>NaN</td>\n",
       "      <td>36TH</td>\n",
       "      <td>ST</td>\n",
       "    </tr>\n",
       "    <tr>\n",
       "      <th>204</th>\n",
       "      <td>NaN</td>\n",
       "      <td>NaN</td>\n",
       "      <td>NaN</td>\n",
       "      <td>NaN</td>\n",
       "      <td>NaN</td>\n",
       "      <td>NaN</td>\n",
       "    </tr>\n",
       "    <tr>\n",
       "      <th>205</th>\n",
       "      <td>NaN</td>\n",
       "      <td>NaN</td>\n",
       "      <td>NaN</td>\n",
       "      <td>NaN</td>\n",
       "      <td>NaN</td>\n",
       "      <td>NaN</td>\n",
       "    </tr>\n",
       "    <tr>\n",
       "      <th>206</th>\n",
       "      <td>NaN</td>\n",
       "      <td>BILLTOWN</td>\n",
       "      <td>RD</td>\n",
       "      <td>NaN</td>\n",
       "      <td>VANTAGE PLAZA</td>\n",
       "      <td>DR</td>\n",
       "    </tr>\n",
       "    <tr>\n",
       "      <th>207</th>\n",
       "      <td>NaN</td>\n",
       "      <td>NaN</td>\n",
       "      <td>NaN</td>\n",
       "      <td>NaN</td>\n",
       "      <td>NaN</td>\n",
       "      <td>NaN</td>\n",
       "    </tr>\n",
       "    <tr>\n",
       "      <th>208</th>\n",
       "      <td>NaN</td>\n",
       "      <td>NaN</td>\n",
       "      <td>NaN</td>\n",
       "      <td>NaN</td>\n",
       "      <td>NaN</td>\n",
       "      <td>NaN</td>\n",
       "    </tr>\n",
       "    <tr>\n",
       "      <th>209</th>\n",
       "      <td>NaN</td>\n",
       "      <td>NaN</td>\n",
       "      <td>NaN</td>\n",
       "      <td>NaN</td>\n",
       "      <td>NaN</td>\n",
       "      <td>NaN</td>\n",
       "    </tr>\n",
       "  </tbody>\n",
       "</table>\n",
       "</div>"
      ],
      "text/plain": [
       "    BETWEEN STREET ROADWAY # 1 BETWEEN STREET ROADWAY NAME 1  \\\n",
       "200                        NaN                           NaN   \n",
       "201                   KY2049                           CRUMS   \n",
       "202                        NaN                           NaN   \n",
       "203                   KY3217                            37TH   \n",
       "204                        NaN                           NaN   \n",
       "205                        NaN                           NaN   \n",
       "206                        NaN                      BILLTOWN   \n",
       "207                        NaN                           NaN   \n",
       "208                        NaN                           NaN   \n",
       "209                        NaN                           NaN   \n",
       "\n",
       "    BETWEEN STREET ROADWAY SFX 1 BETWEEN STREET ROADWAY # 2  \\\n",
       "200                          NaN                        NaN   \n",
       "201                        LN                           NaN   \n",
       "202                          NaN                        NaN   \n",
       "203                        ST                           NaN   \n",
       "204                          NaN                        NaN   \n",
       "205                          NaN                        NaN   \n",
       "206                        RD                           NaN   \n",
       "207                          NaN                        NaN   \n",
       "208                          NaN                        NaN   \n",
       "209                          NaN                        NaN   \n",
       "\n",
       "    BETWEEN STREET ROADWAY NAME 2 BETWEEN STREET ROADWAY SFX 2  \n",
       "200                           NaN                          NaN  \n",
       "201                       KRISTIN                        WAY    \n",
       "202                           NaN                          NaN  \n",
       "203                          36TH                        ST     \n",
       "204                           NaN                          NaN  \n",
       "205                           NaN                          NaN  \n",
       "206                 VANTAGE PLAZA                        DR     \n",
       "207                           NaN                          NaN  \n",
       "208                           NaN                          NaN  \n",
       "209                           NaN                          NaN  "
      ]
     },
     "execution_count": 21,
     "metadata": {},
     "output_type": "execute_result"
    }
   ],
   "source": [
    "# BETWEEN STREET columns\n",
    "BWS = df[['BETWEEN STREET ROADWAY # 1', 'BETWEEN STREET ROADWAY NAME 1', 'BETWEEN STREET ROADWAY SFX 1',\n",
    "       'BETWEEN STREET ROADWAY # 2', 'BETWEEN STREET ROADWAY NAME 2', 'BETWEEN STREET ROADWAY SFX 2']]\n",
    "BWS[200:210] # Just looking at random slices.\n",
    "# Similar information as ROADWAY NUMBER, ROADWAY NAME, INTERSECTION ROADWAY #, etc.\n",
    "# These seem to report crashes that occur between two roads.\n",
    "# Check to see how this affects the primary/intersecting road information in the other columns"
   ]
  },
  {
   "cell_type": "code",
   "execution_count": 22,
   "metadata": {},
   "outputs": [
    {
     "name": "stdout",
     "output_type": "stream",
     "text": [
      "<class 'pandas.core.frame.DataFrame'>\n",
      "RangeIndex: 1273 entries, 0 to 1272\n",
      "Data columns (total 2 columns):\n",
      " #   Column                Non-Null Count  Dtype  \n",
      "---  ------                --------------  -----  \n",
      " 0   RAMP FROM ROADWAY ID  0 non-null      float64\n",
      " 1   RAMP TO ROADWAY ID    0 non-null      float64\n",
      "dtypes: float64(2)\n",
      "memory usage: 20.0 KB\n"
     ]
    }
   ],
   "source": [
    "# RAMP FROM/TO ROADWAY column\n",
    "df[['RAMP FROM ROADWAY ID', 'RAMP TO ROADWAY ID']].info()\n",
    "# All the values for this column are null. Probably can ignore but check if similar column exists in other data."
   ]
  },
  {
   "cell_type": "markdown",
   "metadata": {},
   "source": [
    "### Other columns\n",
    "`['Unnamed: 0', 'MASTER FILE NUMBER', 'INVESTIGATING AGENCY', 'LOCAL CODE', 'COLLISION STATUS CODE',\n",
    "  'COUNTY NAME','UNITS INVOLVED', 'MOTOR VEHICLES INVOLVED', 'KILLED', 'INJURED', 'HIT & RUN INDICATOR',\n",
    "  'SECONDARY COLLISION INDICATOR', 'index_right']`"
   ]
  },
  {
   "cell_type": "code",
   "execution_count": 23,
   "metadata": {},
   "outputs": [
    {
     "data": {
      "text/plain": [
       "True"
      ]
     },
     "execution_count": 23,
     "metadata": {},
     "output_type": "execute_result"
    }
   ],
   "source": [
    "# Unnamed: 0 column\n",
    "unnamed_column = df['Unnamed: 0']\n",
    "len(unnamed_column) == len(unnamed_column.unique())\n",
    "# This looks to be an index column.\n",
    "# I will probably just ignore it. "
   ]
  },
  {
   "cell_type": "code",
   "execution_count": 24,
   "metadata": {},
   "outputs": [
    {
     "data": {
      "text/plain": [
       "array([0])"
      ]
     },
     "execution_count": 24,
     "metadata": {},
     "output_type": "execute_result"
    }
   ],
   "source": [
    "# index_right column\n",
    "df.index_right\n",
    "df.index_right.unique()\n",
    "# This column is all zeros. I will ignore it entirely. "
   ]
  },
  {
   "cell_type": "code",
   "execution_count": 25,
   "metadata": {},
   "outputs": [
    {
     "data": {
      "text/plain": [
       "(1273, 1273)"
      ]
     },
     "execution_count": 25,
     "metadata": {},
     "output_type": "execute_result"
    }
   ],
   "source": [
    "# MASTER FILE NUMBER column\n",
    "MFN = df['MASTER FILE NUMBER']\n",
    "len(MFN.unique()), len(MFN)\n",
    "# This looks like a unique identifier for each crash report. \n",
    "# I will keep this column\n"
   ]
  },
  {
   "cell_type": "code",
   "execution_count": 26,
   "metadata": {},
   "outputs": [
    {
     "data": {
      "text/plain": [
       "INVESTIGATING AGENCY\n",
       "LOUISVILLE METRO POLICE DEPT      1160\n",
       "SHIVELY POLICE DEPARTMENT           40\n",
       "ST. MATTHEWS POLICE DEPARTMENT      29\n",
       "JEFFERSONTOWN POLICE DEPT           24\n",
       "UNIV. OF LOUISVILLE POLICE           7\n",
       "INDIAN HILLS POLICE DEPARTMENT       5\n",
       "PROSPECT POLICE DEPARTMENT           2\n",
       "GRAYMOOR-DEVONDALE POLICE DEPT       2\n",
       "ANCHORAGE POLICE DEPARTMENT          1\n",
       "WEST BUECHEL POLICE DEPT.            1\n",
       "NORTHFIELD POLICE DEPARTMENT         1\n",
       "AUDUBON PARK POLICE DEPARTMENT       1\n",
       "Name: count, dtype: int64"
      ]
     },
     "execution_count": 26,
     "metadata": {},
     "output_type": "execute_result"
    }
   ],
   "source": [
    "# INVESTIGATING AGENCY\n",
    "IA = df['INVESTIGATING AGENCY']\n",
    "IA.unique()\n",
    "IA.value_counts(dropna=False)"
   ]
  },
  {
   "cell_type": "code",
   "execution_count": 27,
   "metadata": {},
   "outputs": [
    {
     "data": {
      "text/plain": [
       "LOCAL CODE\n",
       "8013052741    2\n",
       "8017098682    2\n",
       "8010012297    1\n",
       "8014072189    1\n",
       "8014076662    1\n",
       "             ..\n",
       "8012053577    1\n",
       "8012052891    1\n",
       "8012070216    1\n",
       "8012067992    1\n",
       "8017103882    1\n",
       "Name: count, Length: 1271, dtype: int64"
      ]
     },
     "execution_count": 27,
     "metadata": {},
     "output_type": "execute_result"
    }
   ],
   "source": [
    "# LOCAL CODE column\n",
    "LC = df['LOCAL CODE']\n",
    "LC.value_counts(dropna=False)\n",
    "# Not all of these are unique!\n",
    "\n",
    "\n"
   ]
  },
  {
   "cell_type": "code",
   "execution_count": 28,
   "metadata": {},
   "outputs": [
    {
     "data": {
      "text/plain": [
       "COLLISION STATUS CODE\n",
       "AC    1256\n",
       "RE      17\n",
       "Name: count, dtype: int64"
      ]
     },
     "execution_count": 28,
     "metadata": {},
     "output_type": "execute_result"
    }
   ],
   "source": [
    "# COLLISION STATUS CODE column\n",
    "CSC = df['COLLISION STATUS CODE']\n",
    "CSC.value_counts(dropna=False)\n",
    "# Firgure out that these codes mean\n"
   ]
  },
  {
   "cell_type": "code",
   "execution_count": 29,
   "metadata": {},
   "outputs": [
    {
     "data": {
      "text/plain": [
       "UNITS INVOLVED\n",
       "2    1253\n",
       "3      15\n",
       "4       3\n",
       "1       2\n",
       "Name: count, dtype: int64"
      ]
     },
     "execution_count": 29,
     "metadata": {},
     "output_type": "execute_result"
    }
   ],
   "source": [
    "# UNITS INVOLVED column\n",
    "UI = df[\"UNITS INVOLVED\"]\n",
    "UI.value_counts(dropna=False)\n"
   ]
  },
  {
   "cell_type": "code",
   "execution_count": 30,
   "metadata": {},
   "outputs": [
    {
     "data": {
      "text/plain": [
       "MOTOR VEHICLES INVOLVED\n",
       "1    1247\n",
       "2      22\n",
       "3       4\n",
       "Name: count, dtype: int64"
      ]
     },
     "execution_count": 30,
     "metadata": {},
     "output_type": "execute_result"
    }
   ],
   "source": [
    "# MOTOR VEHICLES INVOLVED column\n",
    "MVI = df['MOTOR VEHICLES INVOLVED']\n",
    "MVI.value_counts()\n"
   ]
  },
  {
   "cell_type": "code",
   "execution_count": 31,
   "metadata": {},
   "outputs": [
    {
     "data": {
      "text/plain": [
       "KILLED\n",
       "0    1262\n",
       "1      11\n",
       "Name: count, dtype: int64"
      ]
     },
     "execution_count": 31,
     "metadata": {},
     "output_type": "execute_result"
    }
   ],
   "source": [
    "# KILLED/INJURED/HIT & RUN INDICATOR/SECONDARY COLLISION INDICATOR columns\n",
    "df[\"KILLED\"].value_counts(dropna=False)"
   ]
  },
  {
   "cell_type": "code",
   "execution_count": 32,
   "metadata": {},
   "outputs": [
    {
     "data": {
      "text/plain": [
       "INJURED\n",
       "1    863\n",
       "0    392\n",
       "2     15\n",
       "3      2\n",
       "5      1\n",
       "Name: count, dtype: int64"
      ]
     },
     "execution_count": 32,
     "metadata": {},
     "output_type": "execute_result"
    }
   ],
   "source": [
    "df['INJURED'].value_counts(dropna=False)"
   ]
  },
  {
   "cell_type": "code",
   "execution_count": 33,
   "metadata": {},
   "outputs": [
    {
     "data": {
      "text/plain": [
       "HIT & RUN INDICATOR\n",
       "N    1078\n",
       "Y     195\n",
       "Name: count, dtype: int64"
      ]
     },
     "execution_count": 33,
     "metadata": {},
     "output_type": "execute_result"
    }
   ],
   "source": [
    "df['HIT & RUN INDICATOR'].value_counts(dropna=False)"
   ]
  },
  {
   "cell_type": "code",
   "execution_count": 34,
   "metadata": {},
   "outputs": [
    {
     "data": {
      "text/plain": [
       "SECONDARY COLLISION INDICATOR\n",
       "N      1188\n",
       "NaN      72\n",
       "Y        13\n",
       "Name: count, dtype: int64"
      ]
     },
     "execution_count": 34,
     "metadata": {},
     "output_type": "execute_result"
    }
   ],
   "source": [
    "df['SECONDARY COLLISION INDICATOR'].value_counts(dropna=False)"
   ]
  }
 ],
 "metadata": {
  "kernelspec": {
   "display_name": "Python 3",
   "language": "python",
   "name": "python3"
  },
  "language_info": {
   "codemirror_mode": {
    "name": "ipython",
    "version": 3
   },
   "file_extension": ".py",
   "mimetype": "text/x-python",
   "name": "python",
   "nbconvert_exporter": "python",
   "pygments_lexer": "ipython3",
   "version": "3.11.1"
  },
  "orig_nbformat": 4
 },
 "nbformat": 4,
 "nbformat_minor": 2
}
