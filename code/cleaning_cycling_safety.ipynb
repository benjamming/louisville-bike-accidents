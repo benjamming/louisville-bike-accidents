{
 "cells": [
  {
   "cell_type": "code",
   "execution_count": 51,
   "metadata": {},
   "outputs": [],
   "source": [
    "import pandas as pd\n",
    "import pyparsing as pyp\n",
    "import os\n",
    "\n",
    "import string \n",
    "\n",
    "os.chdir(\"/Users/bencampbell/code_louisville/capstone/louisville-bike-accidents\")\n",
    "\n",
    "\n",
    "DATA = \"data/raw/cycling_safety_louisville.csv\"\n",
    "df = pd.read_csv(DATA)"
   ]
  },
  {
   "cell_type": "code",
   "execution_count": 19,
   "metadata": {},
   "outputs": [],
   "source": [
    "# Dropping columns I won't use.\n",
    "df_dropped = df.drop(['Unnamed: 0', 'COUNTY NAME', 'GPS LATITUDE DECIMAL', 'GPS LONGITUDE DECIMAL',\n",
    "         'geometry', 'index_right'], axis=1)\n",
    "#df_dropped"
   ]
  },
  {
   "cell_type": "code",
   "execution_count": 28,
   "metadata": {},
   "outputs": [
    {
     "data": {
      "text/plain": [
       "Index(['MASTER FILE NUMBER', 'INVESTIGATING AGENCY', 'LOCAL CODE',\n",
       "       'COLLISION STATUS CODE', 'ROADWAY NUMBER', 'BLOCK/HOUSE #',\n",
       "       'ROADWAY NAME', 'ROADWAY SUFFIX', 'ROADWAY DIRECTION CODE',\n",
       "       'MILEPOINT DERIVED', 'COLLISION DATE', 'COLLISION TIME',\n",
       "       'INTERSECTION ROADWAY #', 'INTERSECTION ROADWAY NAME',\n",
       "       'INTERSECTION ROADWAY SFX', 'BETWEEN STREET ROADWAY # 1',\n",
       "       'BETWEEN STREET ROADWAY NAME 1', 'BETWEEN STREET ROADWAY SFX 1',\n",
       "       'BETWEEN STREET ROADWAY # 2', 'BETWEEN STREET ROADWAY NAME 2',\n",
       "       'BETWEEN STREET ROADWAY SFX 2', 'UNITS INVOLVED',\n",
       "       'MOTOR VEHICLES INVOLVED', 'KILLED', 'INJURED', 'WEATHER CODE',\n",
       "       'WEATHER', 'ROADWAY CONDITION CODE', 'ROADWAY CONDITION',\n",
       "       'HIT & RUN INDICATOR', 'ROADWAY TYPE CODE', 'ROADWAY TYPE',\n",
       "       'DIRECTIONAL ANALYSIS CODE', 'DIRECTIONAL ANALYSIS',\n",
       "       'MANNER OF COLLISION CODE', 'MANNER OF COLLISION',\n",
       "       'ROADWAY CHARACTER CODE', 'ROADWAY CHARACTER', 'LIGHT CONDITION CODE',\n",
       "       'LIGHT CONDITION', 'RAMP FROM ROADWAY ID', 'RAMP TO ROADWAY ID',\n",
       "       'SECONDARY COLLISION INDICATOR', 'hour', 'minute', 'Date', 'Latitude',\n",
       "       'Longitude'],\n",
       "      dtype='object')"
      ]
     },
     "execution_count": 28,
     "metadata": {},
     "output_type": "execute_result"
    }
   ],
   "source": [
    "columns = df_dropped.columns\n",
    "columns"
   ]
  },
  {
   "cell_type": "code",
   "execution_count": 63,
   "metadata": {},
   "outputs": [],
   "source": [
    "# Renaming some of the columns:\n",
    "\n",
    "easy_column_renames = ['MASTER FILE NUMBER', 'INVESTIGATING AGENCY', 'LOCAL CODE', 'COLLISION STATUS CODE',\n",
    "     'ROADWAY NUMBER', 'ROADWAY NAME', 'ROADWAY SUFFIX', 'INTERSECTION ROADWAY NAME',\n",
    "    'UNITS INVOLVED', 'MOTOR VEHICLES INVOLVED', 'KILLED', 'INJURED', 'WEATHER CODE',\n",
    "    'WEATHER', 'ROADWAY CONDITION CODE', 'ROADWAY CONDITION', 'ROADWAY TYPE CODE', 'ROADWAY TYPE',\n",
    "    'DIRECTIONAL ANALYSIS CODE', 'DIRECTIONAL ANALYSIS',\n",
    "    'MANNER OF COLLISION CODE', 'MANNER OF COLLISION',\n",
    "    'ROADWAY CHARACTER CODE', 'ROADWAY CHARACTER', 'LIGHT CONDITION CODE',\n",
    "    'LIGHT CONDITION', 'RAMP FROM ROADWAY ID', 'RAMP TO ROADWAY ID', \"Latitude\", \"Longitude\",\n",
    "    ]\n",
    "\n",
    "def easy_rename(name:str) -> str:\n",
    "    return name.replace(\" \", \"_\").lower()\n",
    "\n",
    "less_easy_column_renames = [\n",
    "     'INTERSECTION ROADWAY #', 'INTERSECTION ROADWAY SFX', 'BETWEEN STREET ROADWAY # 1',\n",
    "    'BETWEEN STREET ROADWAY NAME 1', 'BETWEEN STREET ROADWAY SFX 1',\n",
    "    'BETWEEN STREET ROADWAY # 2', 'BETWEEN STREET ROADWAY NAME 2',\n",
    "    'BETWEEN STREET ROADWAY SFX 2',]\n",
    "\n",
    "def less_easy_rename(name:str) -> str:\n",
    "    name = name.replace(\"STREET ROADWAY\", \"street\")\n",
    "    name = name.replace(\"#\", 'number').replace(\"SFX\", 'suffix')\n",
    "    return easy_rename(name)\n",
    "\n",
    "misc_column_renames = {\n",
    "    'BLOCK/HOUSE #': \"building_number\",\n",
    "    'ROADWAY DIRECTION CODE': 'roadway_direction',\n",
    "    'MILEPOINT DERIVED': 'milepoint', \n",
    "    'HIT & RUN INDICATOR': \"hit_and_run\",\n",
    "    'SECONDARY COLLISION INDICATOR': \"secondary_collision\"}\n",
    "\n",
    "renames = {name:easy_rename(name) for name in easy_column_renames}\n",
    "renames.update({name:less_easy_rename(name) for name in less_easy_column_renames})\n",
    "renames.update(misc_column_renames)\n",
    "\n"
   ]
  },
  {
   "cell_type": "code",
   "execution_count": 64,
   "metadata": {},
   "outputs": [
    {
     "data": {
      "text/plain": [
       "Index(['master_file_number', 'investigating_agency', 'local_code',\n",
       "       'collision_status_code', 'roadway_number', 'building_number',\n",
       "       'roadway_name', 'roadway_suffix', 'roadway_direction', 'milepoint',\n",
       "       'COLLISION DATE', 'COLLISION TIME', 'intersection_roadway_number',\n",
       "       'intersection_roadway_name', 'intersection_roadway_suffix',\n",
       "       'between_street_number_1', 'between_street_name_1',\n",
       "       'between_street_suffix_1', 'between_street_number_2',\n",
       "       'between_street_name_2', 'between_street_suffix_2', 'units_involved',\n",
       "       'motor_vehicles_involved', 'killed', 'injured', 'weather_code',\n",
       "       'weather', 'roadway_condition_code', 'roadway_condition', 'hit_and_run',\n",
       "       'roadway_type_code', 'roadway_type', 'directional_analysis_code',\n",
       "       'directional_analysis', 'manner_of_collision_code',\n",
       "       'manner_of_collision', 'roadway_character_code', 'roadway_character',\n",
       "       'light_condition_code', 'light_condition', 'ramp_from_roadway_id',\n",
       "       'ramp_to_roadway_id', 'secondary_collision', 'hour', 'minute', 'date',\n",
       "       'latitude', 'longitude'],\n",
       "      dtype='object')"
      ]
     },
     "execution_count": 64,
     "metadata": {},
     "output_type": "execute_result"
    }
   ],
   "source": [
    "df_renamed = df_dropped.rename(renames, axis=1)\n",
    "df_renamed.columns"
   ]
  },
  {
   "cell_type": "code",
   "execution_count": 55,
   "metadata": {},
   "outputs": [
    {
     "data": {
      "text/plain": [
       "[(ParseResults(['hello'], {}), 0, 5)]"
      ]
     },
     "execution_count": 55,
     "metadata": {},
     "output_type": "execute_result"
    }
   ],
   "source": [
    "list(good_name.scan_string(\"hello\"))"
   ]
  }
 ],
 "metadata": {
  "kernelspec": {
   "display_name": "venv",
   "language": "python",
   "name": "python3"
  },
  "language_info": {
   "codemirror_mode": {
    "name": "ipython",
    "version": 3
   },
   "file_extension": ".py",
   "mimetype": "text/x-python",
   "name": "python",
   "nbconvert_exporter": "python",
   "pygments_lexer": "ipython3",
   "version": "3.11.1"
  },
  "orig_nbformat": 4
 },
 "nbformat": 4,
 "nbformat_minor": 2
}
