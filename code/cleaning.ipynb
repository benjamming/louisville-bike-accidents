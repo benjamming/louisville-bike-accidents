{
 "cells": [
  {
   "cell_type": "code",
   "execution_count": 2,
   "metadata": {},
   "outputs": [],
   "source": [
    "import pandas as pd\n",
    "import pyparsing as pp\n"
   ]
  },
  {
   "cell_type": "code",
   "execution_count": 3,
   "metadata": {},
   "outputs": [],
   "source": [
    "\n",
    "DATA1 = \"../data/cycling_safety_louisville.csv\"\n",
    "# DATA1 points to crash data from 2010 to 2017\n",
    "# This data came from: https://zenodo.org/records/5603036\n",
    "# Source: https://zenodo.org/records/5603036/files/louisville.zip\n",
    "\n",
    "DATA2 = \"../data/Louisville_Metro_KY_-_Traffic_Fatalities_and_Suspected_Serious_Injuries.csv\"\n",
    "# DATA2 points to crash data from 2016 to 2023.\n",
    "# This data came from the Louisville Open Data portal\n",
    "# Source: https://data.louisvilleky.gov/datasets/LOJIC::louisville-metro-ky-traffic-fatalities-and-suspected-serious-injuries-1/explore\n"
   ]
  },
  {
   "cell_type": "code",
   "execution_count": 4,
   "metadata": {},
   "outputs": [],
   "source": [
    "df1 = pd.read_csv(DATA1)\n",
    "df2 = pd.read_csv(DATA2)"
   ]
  },
  {
   "cell_type": "markdown",
   "metadata": {},
   "source": [
    "## Time fields\n",
    "\n",
    "### Date formats galore!\n",
    "\n",
    "Each data set has date and time field(s) associated with each crash report. The data sets have different formats, and df1 has redundant date / time fields which are also inconsistently formatted. This information is stored as strings.\n"
   ]
  },
  {
   "cell_type": "code",
   "execution_count": 5,
   "metadata": {},
   "outputs": [
    {
     "data": {
      "text/html": [
       "<div>\n",
       "<style scoped>\n",
       "    .dataframe tbody tr th:only-of-type {\n",
       "        vertical-align: middle;\n",
       "    }\n",
       "\n",
       "    .dataframe tbody tr th {\n",
       "        vertical-align: top;\n",
       "    }\n",
       "\n",
       "    .dataframe thead th {\n",
       "        text-align: right;\n",
       "    }\n",
       "</style>\n",
       "<table border=\"1\" class=\"dataframe\">\n",
       "  <thead>\n",
       "    <tr style=\"text-align: right;\">\n",
       "      <th></th>\n",
       "      <th>COLLISION DATE</th>\n",
       "      <th>Date</th>\n",
       "    </tr>\n",
       "  </thead>\n",
       "  <tbody>\n",
       "    <tr>\n",
       "      <th>0</th>\n",
       "      <td>2/20/2010</td>\n",
       "      <td>2010-02-20 16:20:00</td>\n",
       "    </tr>\n",
       "    <tr>\n",
       "      <th>1</th>\n",
       "      <td>1/13/2010</td>\n",
       "      <td>2010-01-13 13:40:00</td>\n",
       "    </tr>\n",
       "    <tr>\n",
       "      <th>2</th>\n",
       "      <td>1/13/2010</td>\n",
       "      <td>2010-01-13 10:00:00</td>\n",
       "    </tr>\n",
       "    <tr>\n",
       "      <th>3</th>\n",
       "      <td>1/15/2010</td>\n",
       "      <td>2010-01-15 15:50:00</td>\n",
       "    </tr>\n",
       "    <tr>\n",
       "      <th>4</th>\n",
       "      <td>2/2/2010</td>\n",
       "      <td>2010-02-02 06:11:00</td>\n",
       "    </tr>\n",
       "    <tr>\n",
       "      <th>...</th>\n",
       "      <td>...</td>\n",
       "      <td>...</td>\n",
       "    </tr>\n",
       "    <tr>\n",
       "      <th>1268</th>\n",
       "      <td>12/5/2017</td>\n",
       "      <td>2017-12-05 07:07:00</td>\n",
       "    </tr>\n",
       "    <tr>\n",
       "      <th>1269</th>\n",
       "      <td>12/14/2017</td>\n",
       "      <td>2017-12-14 17:09:00</td>\n",
       "    </tr>\n",
       "    <tr>\n",
       "      <th>1270</th>\n",
       "      <td>12/19/2017</td>\n",
       "      <td>2017-12-19 10:00:00</td>\n",
       "    </tr>\n",
       "    <tr>\n",
       "      <th>1271</th>\n",
       "      <td>12/21/2017</td>\n",
       "      <td>2017-12-21 19:56:00</td>\n",
       "    </tr>\n",
       "    <tr>\n",
       "      <th>1272</th>\n",
       "      <td>12/22/2017</td>\n",
       "      <td>2017-12-22 21:51:00</td>\n",
       "    </tr>\n",
       "  </tbody>\n",
       "</table>\n",
       "<p>1273 rows × 2 columns</p>\n",
       "</div>"
      ],
      "text/plain": [
       "     COLLISION DATE                 Date\n",
       "0         2/20/2010  2010-02-20 16:20:00\n",
       "1         1/13/2010  2010-01-13 13:40:00\n",
       "2         1/13/2010  2010-01-13 10:00:00\n",
       "3         1/15/2010  2010-01-15 15:50:00\n",
       "4          2/2/2010  2010-02-02 06:11:00\n",
       "...             ...                  ...\n",
       "1268      12/5/2017  2017-12-05 07:07:00\n",
       "1269     12/14/2017  2017-12-14 17:09:00\n",
       "1270     12/19/2017  2017-12-19 10:00:00\n",
       "1271     12/21/2017  2017-12-21 19:56:00\n",
       "1272     12/22/2017  2017-12-22 21:51:00\n",
       "\n",
       "[1273 rows x 2 columns]"
      ]
     },
     "execution_count": 5,
     "metadata": {},
     "output_type": "execute_result"
    }
   ],
   "source": [
    "df1[['COLLISION DATE', 'Date']]\n",
    "# This dataset has 2 redundant date fields. I  parse each field and deal with the descrete elements"
   ]
  },
  {
   "cell_type": "code",
   "execution_count": 6,
   "metadata": {},
   "outputs": [
    {
     "data": {
      "text/plain": [
       "0       2016/10/11 03:08:00+00\n",
       "1       2016/10/12 13:02:00+00\n",
       "2       2016/10/12 13:02:00+00\n",
       "3       2016/10/12 19:31:00+00\n",
       "4       2016/10/12 23:51:00+00\n",
       "                 ...          \n",
       "4896    2022/09/12 22:55:00+00\n",
       "4897    2022/09/16 05:47:00+00\n",
       "4898    2022/09/16 22:47:00+00\n",
       "4899    2022/09/17 00:14:00+00\n",
       "4900    2022/09/17 02:10:00+00\n",
       "Name: CollisionDate, Length: 4901, dtype: object"
      ]
     },
     "execution_count": 6,
     "metadata": {},
     "output_type": "execute_result"
    }
   ],
   "source": [
    "df2['CollisionDate']\n"
   ]
  },
  {
   "cell_type": "markdown",
   "metadata": {},
   "source": [
    "\n",
    "I'm using the module pyparsing to break apart the string into year, month, day, hour, minute, second, etc. I'll use that to build my own columns with the relevant data. Pyparsing is a string parsing module that allows the user to create combinatory grammars that closely map Python syntax and natural language intuitions about structured strings i.e. language."
   ]
  },
  {
   "cell_type": "code",
   "execution_count": 7,
   "metadata": {},
   "outputs": [],
   "source": [
    "integer = pp.Word(pp.nums).set_name(\"integer\")\n",
    "# Define a \"Word\" in pyparsing which represents an integer:\n",
    "# integer is a string of numeric characters\n"
   ]
  },
  {
   "cell_type": "code",
   "execution_count": 8,
   "metadata": {},
   "outputs": [],
   "source": [
    "date_expr = integer(\"year\") + \"/\" + integer(\"month\") + \"/\" + integer(\"day\")\n",
    "# date_expr has the form year/month/day\n",
    "# define words as integers with name \"year\", \"month\", \"day\" and combine them into a parsing expression\n",
    "# (pyparsing ignores whitespace by default)\n",
    "time_expr = integer(\"hour\") + \":\" + integer(\"minute\") + \":\" + integer(\"seconds\") + \"+\" + integer(\"extra\")\n",
    "# time_expr has the format hour:minute:second+milliseconds (I guess)\n",
    "# I'm going to ignore everything after \"+\" but I still need to parse it out.\n",
    "# define words as integers with the name \"hour\", \"minute\", \"second\", \"extra\" (probably ignore seconds and extra)\n",
    "\n",
    "df2_COLLISION_DATE = date_expr + time_expr\n",
    "# COLLISION DATE is a string of the form date_expr + (whitespace we are ignoring +) time_expr\n",
    "# combine these into an expression that parses the date-time string in the data\n",
    "\n"
   ]
  },
  {
   "cell_type": "code",
   "execution_count": 9,
   "metadata": {},
   "outputs": [
    {
     "ename": "NameError",
     "evalue": "name 'df1_COLLISION_DATE' is not defined",
     "output_type": "error",
     "traceback": [
      "\u001b[0;31m---------------------------------------------------------------------------\u001b[0m",
      "\u001b[0;31mNameError\u001b[0m                                 Traceback (most recent call last)",
      "\u001b[1;32m/Users/bencampbell/code_louisville/capstone/louisville-bike-accidents/code/cleaning.ipynb Cell 10\u001b[0m line \u001b[0;36m1\n\u001b[0;32m----> <a href='vscode-notebook-cell:/Users/bencampbell/code_louisville/capstone/louisville-bike-accidents/code/cleaning.ipynb#X12sZmlsZQ%3D%3D?line=0'>1</a>\u001b[0m result \u001b[39m=\u001b[39m df1_COLLISION_DATE\u001b[39m.\u001b[39mparseString(\u001b[39m\"\u001b[39m\u001b[39m2016/10/11 03:08:00+00\u001b[39m\u001b[39m\"\u001b[39m)\n\u001b[1;32m      <a href='vscode-notebook-cell:/Users/bencampbell/code_louisville/capstone/louisville-bike-accidents/code/cleaning.ipynb#X12sZmlsZQ%3D%3D?line=1'>2</a>\u001b[0m \u001b[39m# Parse an example string from the data\u001b[39;00m\n\u001b[1;32m      <a href='vscode-notebook-cell:/Users/bencampbell/code_louisville/capstone/louisville-bike-accidents/code/cleaning.ipynb#X12sZmlsZQ%3D%3D?line=2'>3</a>\u001b[0m result\n",
      "\u001b[0;31mNameError\u001b[0m: name 'df1_COLLISION_DATE' is not defined"
     ]
    }
   ],
   "source": [
    "result = df1_COLLISION_DATE.parseString(\"2016/10/11 03:08:00+00\")\n",
    "# Parse an example string from the data\n",
    "result\n",
    "# looks like it works as expected"
   ]
  },
  {
   "cell_type": "code",
   "execution_count": null,
   "metadata": {},
   "outputs": [
    {
     "data": {
      "text/plain": [
       "{'year': 2016,\n",
       " 'month': 10,\n",
       " 'day': 11,\n",
       " 'hour': 3,\n",
       " 'minute': 8,\n",
       " 'seconds': 0,\n",
       " 'extra': 0}"
      ]
     },
     "execution_count": 312,
     "metadata": {},
     "output_type": "execute_result"
    }
   ],
   "source": [
    "r = result.asDict()\n",
    "# get a dictionary of values from that result\n",
    "\n",
    "# cast the values of that result dictionary as int\n",
    "def convert_to_int(dictionary:dict) -> dict:\n",
    "    for key, value in dictionary.items():\n",
    "        dictionary[key] = int(value)\n",
    "    return dictionary\n",
    "# I'm going to reuse this code on all my parsingresults, so I have defined this function.\n",
    "\n",
    "r =convert_to_int(r)\n",
    "r\n"
   ]
  },
  {
   "cell_type": "code",
   "execution_count": null,
   "metadata": {},
   "outputs": [
    {
     "data": {
      "text/plain": [
       "{'day': 2, 'month': 20, 'year': 2010}"
      ]
     },
     "execution_count": 306,
     "metadata": {},
     "output_type": "execute_result"
    }
   ],
   "source": [
    "# Dealing with the second dataset\n",
    "CD = integer(\"day\") + \"/\" + integer(\"month\") + \"/\" + integer(\"year\")\n",
    "# CD: \"COLLISION DATE\" is a string day/month/year\n",
    "# day, month, year are integer strings\n",
    "CD_r = CD.parseString(\"2/20/2010\").asDict()\n",
    "# Parse an example string from the data and get the dictionary of parsed results\n",
    "CD_r = convert_to_int(CD_r)\n",
    "# cast the dictionary values as int\n",
    "CD_r\n",
    "# looks good!\n"
   ]
  },
  {
   "cell_type": "code",
   "execution_count": null,
   "metadata": {},
   "outputs": [
    {
     "data": {
      "text/plain": [
       "{'year': 2017, 'month': 12, 'day': 22, 'hour': 21, 'minute': 51, 'second': 0}"
      ]
     },
     "execution_count": 307,
     "metadata": {},
     "output_type": "execute_result"
    }
   ],
   "source": [
    "# deal with df2's \"Date\" column values\n",
    "# Date column has two parts:\n",
    "Date_date_part = integer(\"year\") + '-' + integer(\"month\") + '-' + integer(\"day\")\n",
    "# the date_part is a string of the form: \"year-month-day\"\n",
    "Date_time_part = integer(\"hour\") + \":\" + integer(\"minute\") + \":\" + integer(\"second\")\n",
    "# the time_part is a string of the form \"hour:minute:second\"\n",
    "Date = Date_date_part + Date_time_part\n",
    "# combine these into a parsing expression\n",
    "Date_r = convert_to_int(Date.parseString(\"2017-12-22 21:51:00\").asDict())\n",
    "# cast the results of the parsed dictionary as int\n",
    "Date_r\n"
   ]
  },
  {
   "cell_type": "markdown",
   "metadata": {},
   "source": [
    "Now I can parse the complex date formats into dictionaries with keys like: year, month, day, hour, minute, etc.\n",
    "I'll put this info into new columns I can use to merge the datasets"
   ]
  },
  {
   "cell_type": "markdown",
   "metadata": {},
   "source": [
    "### Other time fields\n",
    "\n",
    "Time of the crashes is expressed in different ways between the two datasets.\n",
    "This is redundant data, but I'm going to try to parse it to verify whether the data is consistent."
   ]
  },
  {
   "cell_type": "code",
   "execution_count": null,
   "metadata": {},
   "outputs": [
    {
     "data": {
      "text/html": [
       "<div>\n",
       "<style scoped>\n",
       "    .dataframe tbody tr th:only-of-type {\n",
       "        vertical-align: middle;\n",
       "    }\n",
       "\n",
       "    .dataframe tbody tr th {\n",
       "        vertical-align: top;\n",
       "    }\n",
       "\n",
       "    .dataframe thead th {\n",
       "        text-align: right;\n",
       "    }\n",
       "</style>\n",
       "<table border=\"1\" class=\"dataframe\">\n",
       "  <thead>\n",
       "    <tr style=\"text-align: right;\">\n",
       "      <th></th>\n",
       "      <th>COLLISION TIME</th>\n",
       "      <th>hour</th>\n",
       "      <th>minute</th>\n",
       "    </tr>\n",
       "  </thead>\n",
       "  <tbody>\n",
       "    <tr>\n",
       "      <th>0</th>\n",
       "      <td>1620</td>\n",
       "      <td>16</td>\n",
       "      <td>20</td>\n",
       "    </tr>\n",
       "    <tr>\n",
       "      <th>1</th>\n",
       "      <td>1340</td>\n",
       "      <td>13</td>\n",
       "      <td>40</td>\n",
       "    </tr>\n",
       "    <tr>\n",
       "      <th>2</th>\n",
       "      <td>100008</td>\n",
       "      <td>10</td>\n",
       "      <td>0</td>\n",
       "    </tr>\n",
       "    <tr>\n",
       "      <th>3</th>\n",
       "      <td>1550</td>\n",
       "      <td>15</td>\n",
       "      <td>50</td>\n",
       "    </tr>\n",
       "    <tr>\n",
       "      <th>4</th>\n",
       "      <td>611</td>\n",
       "      <td>6</td>\n",
       "      <td>11</td>\n",
       "    </tr>\n",
       "    <tr>\n",
       "      <th>...</th>\n",
       "      <td>...</td>\n",
       "      <td>...</td>\n",
       "      <td>...</td>\n",
       "    </tr>\n",
       "    <tr>\n",
       "      <th>1268</th>\n",
       "      <td>707</td>\n",
       "      <td>7</td>\n",
       "      <td>7</td>\n",
       "    </tr>\n",
       "    <tr>\n",
       "      <th>1269</th>\n",
       "      <td>1709</td>\n",
       "      <td>17</td>\n",
       "      <td>9</td>\n",
       "    </tr>\n",
       "    <tr>\n",
       "      <th>1270</th>\n",
       "      <td>100002</td>\n",
       "      <td>10</td>\n",
       "      <td>0</td>\n",
       "    </tr>\n",
       "    <tr>\n",
       "      <th>1271</th>\n",
       "      <td>1956</td>\n",
       "      <td>19</td>\n",
       "      <td>56</td>\n",
       "    </tr>\n",
       "    <tr>\n",
       "      <th>1272</th>\n",
       "      <td>2151</td>\n",
       "      <td>21</td>\n",
       "      <td>51</td>\n",
       "    </tr>\n",
       "  </tbody>\n",
       "</table>\n",
       "<p>1273 rows × 3 columns</p>\n",
       "</div>"
      ],
      "text/plain": [
       "      COLLISION TIME  hour  minute\n",
       "0               1620    16      20\n",
       "1               1340    13      40\n",
       "2             100008    10       0\n",
       "3               1550    15      50\n",
       "4                611     6      11\n",
       "...              ...   ...     ...\n",
       "1268             707     7       7\n",
       "1269            1709    17       9\n",
       "1270          100002    10       0\n",
       "1271            1956    19      56\n",
       "1272            2151    21      51\n",
       "\n",
       "[1273 rows x 3 columns]"
      ]
     },
     "execution_count": 27,
     "metadata": {},
     "output_type": "execute_result"
    }
   ],
   "source": [
    "df1[[\"COLLISION TIME\", \"hour\", \"minute\"]]"
   ]
  },
  {
   "cell_type": "code",
   "execution_count": null,
   "metadata": {},
   "outputs": [
    {
     "name": "stdout",
     "output_type": "stream",
     "text": [
      "<class 'pandas.core.series.Series'>\n",
      "RangeIndex: 1273 entries, 0 to 1272\n",
      "Series name: COLLISION TIME\n",
      "Non-Null Count  Dtype\n",
      "--------------  -----\n",
      "1273 non-null   int64\n",
      "dtypes: int64(1)\n",
      "memory usage: 10.1 KB\n"
     ]
    }
   ],
   "source": [
    "CT = df1['COLLISION TIME']\n",
    "CT.info()\n"
   ]
  },
  {
   "cell_type": "code",
   "execution_count": 18,
   "metadata": {},
   "outputs": [],
   "source": [
    "def parse_CT(time:int):\n",
    "    time_input = time\n",
    "    out = list()\n",
    "    count = 0\n",
    "    while time:\n",
    "        if count >= 3:\n",
    "            raise ValueError(f\"time input is too big: {time_input}\")\n",
    "        else:\n",
    "            out.append(time % 100)\n",
    "            time //= 100\n",
    "            count += 1\n",
    "    out.reverse()\n",
    "    return out"
   ]
  },
  {
   "cell_type": "code",
   "execution_count": null,
   "metadata": {},
   "outputs": [
    {
     "data": {
      "text/plain": [
       "[23, 11, 21]"
      ]
     },
     "execution_count": 85,
     "metadata": {},
     "output_type": "execute_result"
    }
   ],
   "source": [
    "parse_CT(231121)"
   ]
  },
  {
   "cell_type": "code",
   "execution_count": null,
   "metadata": {},
   "outputs": [
    {
     "data": {
      "text/plain": [
       "0         [16, 20]\n",
       "1         [13, 40]\n",
       "2       [10, 0, 8]\n",
       "3         [15, 50]\n",
       "4          [6, 11]\n",
       "           ...    \n",
       "1268        [7, 7]\n",
       "1269       [17, 9]\n",
       "1270    [10, 0, 2]\n",
       "1271      [19, 56]\n",
       "1272      [21, 51]\n",
       "Name: COLLISION TIME, Length: 1273, dtype: object"
      ]
     },
     "execution_count": 98,
     "metadata": {},
     "output_type": "execute_result"
    }
   ],
   "source": [
    "CT_parsed = CT.apply(parse_CT)\n",
    "# This will run through the whole series without failure. \n",
    "CT_parsed\n",
    "        "
   ]
  },
  {
   "cell_type": "code",
   "execution_count": null,
   "metadata": {},
   "outputs": [
    {
     "data": {
      "text/html": [
       "<div>\n",
       "<style scoped>\n",
       "    .dataframe tbody tr th:only-of-type {\n",
       "        vertical-align: middle;\n",
       "    }\n",
       "\n",
       "    .dataframe tbody tr th {\n",
       "        vertical-align: top;\n",
       "    }\n",
       "\n",
       "    .dataframe thead th {\n",
       "        text-align: right;\n",
       "    }\n",
       "</style>\n",
       "<table border=\"1\" class=\"dataframe\">\n",
       "  <thead>\n",
       "    <tr style=\"text-align: right;\">\n",
       "      <th></th>\n",
       "      <th>COLLISION TIME</th>\n",
       "      <th>hour</th>\n",
       "      <th>minute</th>\n",
       "    </tr>\n",
       "  </thead>\n",
       "  <tbody>\n",
       "    <tr>\n",
       "      <th>18</th>\n",
       "      <td>[4]</td>\n",
       "      <td>0</td>\n",
       "      <td>0</td>\n",
       "    </tr>\n",
       "    <tr>\n",
       "      <th>89</th>\n",
       "      <td>[5]</td>\n",
       "      <td>0</td>\n",
       "      <td>0</td>\n",
       "    </tr>\n",
       "    <tr>\n",
       "      <th>98</th>\n",
       "      <td>[9]</td>\n",
       "      <td>0</td>\n",
       "      <td>0</td>\n",
       "    </tr>\n",
       "    <tr>\n",
       "      <th>100</th>\n",
       "      <td>[5]</td>\n",
       "      <td>0</td>\n",
       "      <td>0</td>\n",
       "    </tr>\n",
       "    <tr>\n",
       "      <th>102</th>\n",
       "      <td>[9]</td>\n",
       "      <td>0</td>\n",
       "      <td>0</td>\n",
       "    </tr>\n",
       "    <tr>\n",
       "      <th>...</th>\n",
       "      <td>...</td>\n",
       "      <td>...</td>\n",
       "      <td>...</td>\n",
       "    </tr>\n",
       "    <tr>\n",
       "      <th>1118</th>\n",
       "      <td>[45]</td>\n",
       "      <td>0</td>\n",
       "      <td>45</td>\n",
       "    </tr>\n",
       "    <tr>\n",
       "      <th>1155</th>\n",
       "      <td>[8]</td>\n",
       "      <td>0</td>\n",
       "      <td>0</td>\n",
       "    </tr>\n",
       "    <tr>\n",
       "      <th>1165</th>\n",
       "      <td>[1]</td>\n",
       "      <td>0</td>\n",
       "      <td>0</td>\n",
       "    </tr>\n",
       "    <tr>\n",
       "      <th>1177</th>\n",
       "      <td>[]</td>\n",
       "      <td>0</td>\n",
       "      <td>0</td>\n",
       "    </tr>\n",
       "    <tr>\n",
       "      <th>1218</th>\n",
       "      <td>[8]</td>\n",
       "      <td>0</td>\n",
       "      <td>0</td>\n",
       "    </tr>\n",
       "  </tbody>\n",
       "</table>\n",
       "<p>68 rows × 3 columns</p>\n",
       "</div>"
      ],
      "text/plain": [
       "     COLLISION TIME  hour  minute\n",
       "18              [4]     0       0\n",
       "89              [5]     0       0\n",
       "98              [9]     0       0\n",
       "100             [5]     0       0\n",
       "102             [9]     0       0\n",
       "...             ...   ...     ...\n",
       "1118           [45]     0      45\n",
       "1155            [8]     0       0\n",
       "1165            [1]     0       0\n",
       "1177             []     0       0\n",
       "1218            [8]     0       0\n",
       "\n",
       "[68 rows x 3 columns]"
      ]
     },
     "execution_count": 124,
     "metadata": {},
     "output_type": "execute_result"
    }
   ],
   "source": [
    "\n",
    "CTP = pd.concat((CT_parsed, df1[['hour', 'minute']]), axis=1)\n",
    "CTP[CTP.hour == 0]"
   ]
  },
  {
   "cell_type": "code",
   "execution_count": 10,
   "metadata": {},
   "outputs": [
    {
     "data": {
      "text/html": [
       "<div>\n",
       "<style scoped>\n",
       "    .dataframe tbody tr th:only-of-type {\n",
       "        vertical-align: middle;\n",
       "    }\n",
       "\n",
       "    .dataframe tbody tr th {\n",
       "        vertical-align: top;\n",
       "    }\n",
       "\n",
       "    .dataframe thead th {\n",
       "        text-align: right;\n",
       "    }\n",
       "</style>\n",
       "<table border=\"1\" class=\"dataframe\">\n",
       "  <thead>\n",
       "    <tr style=\"text-align: right;\">\n",
       "      <th></th>\n",
       "      <th>CollisionTime</th>\n",
       "      <th>HOUR_OF_DAY</th>\n",
       "      <th>DAY_OF_WEEK</th>\n",
       "    </tr>\n",
       "  </thead>\n",
       "  <tbody>\n",
       "    <tr>\n",
       "      <th>0</th>\n",
       "      <td>2308.0</td>\n",
       "      <td>11PM</td>\n",
       "      <td>MONDAY</td>\n",
       "    </tr>\n",
       "    <tr>\n",
       "      <th>1</th>\n",
       "      <td>902.0</td>\n",
       "      <td>9AM</td>\n",
       "      <td>WEDNESDAY</td>\n",
       "    </tr>\n",
       "    <tr>\n",
       "      <th>2</th>\n",
       "      <td>902.0</td>\n",
       "      <td>9AM</td>\n",
       "      <td>WEDNESDAY</td>\n",
       "    </tr>\n",
       "    <tr>\n",
       "      <th>3</th>\n",
       "      <td>1531.0</td>\n",
       "      <td>3PM</td>\n",
       "      <td>WEDNESDAY</td>\n",
       "    </tr>\n",
       "    <tr>\n",
       "      <th>4</th>\n",
       "      <td>1951.0</td>\n",
       "      <td>7PM</td>\n",
       "      <td>WEDNESDAY</td>\n",
       "    </tr>\n",
       "    <tr>\n",
       "      <th>...</th>\n",
       "      <td>...</td>\n",
       "      <td>...</td>\n",
       "      <td>...</td>\n",
       "    </tr>\n",
       "    <tr>\n",
       "      <th>4896</th>\n",
       "      <td>1855.0</td>\n",
       "      <td>6PM</td>\n",
       "      <td>MONDAY</td>\n",
       "    </tr>\n",
       "    <tr>\n",
       "      <th>4897</th>\n",
       "      <td>147.0</td>\n",
       "      <td>1AM</td>\n",
       "      <td>FRIDAY</td>\n",
       "    </tr>\n",
       "    <tr>\n",
       "      <th>4898</th>\n",
       "      <td>1847.0</td>\n",
       "      <td>6PM</td>\n",
       "      <td>FRIDAY</td>\n",
       "    </tr>\n",
       "    <tr>\n",
       "      <th>4899</th>\n",
       "      <td>2014.0</td>\n",
       "      <td>8PM</td>\n",
       "      <td>FRIDAY</td>\n",
       "    </tr>\n",
       "    <tr>\n",
       "      <th>4900</th>\n",
       "      <td>2210.0</td>\n",
       "      <td>10PM</td>\n",
       "      <td>FRIDAY</td>\n",
       "    </tr>\n",
       "  </tbody>\n",
       "</table>\n",
       "<p>4901 rows × 3 columns</p>\n",
       "</div>"
      ],
      "text/plain": [
       "      CollisionTime HOUR_OF_DAY DAY_OF_WEEK\n",
       "0            2308.0        11PM      MONDAY\n",
       "1             902.0         9AM   WEDNESDAY\n",
       "2             902.0         9AM   WEDNESDAY\n",
       "3            1531.0         3PM   WEDNESDAY\n",
       "4            1951.0         7PM   WEDNESDAY\n",
       "...             ...         ...         ...\n",
       "4896         1855.0         6PM      MONDAY\n",
       "4897          147.0         1AM      FRIDAY\n",
       "4898         1847.0         6PM      FRIDAY\n",
       "4899         2014.0         8PM      FRIDAY\n",
       "4900         2210.0        10PM      FRIDAY\n",
       "\n",
       "[4901 rows x 3 columns]"
      ]
     },
     "execution_count": 10,
     "metadata": {},
     "output_type": "execute_result"
    }
   ],
   "source": [
    "df2[['CollisionTime', \"HOUR_OF_DAY\", \"DAY_OF_WEEK\"]]"
   ]
  },
  {
   "cell_type": "code",
   "execution_count": 25,
   "metadata": {},
   "outputs": [
    {
     "data": {
      "text/plain": [
       "min       0.0\n",
       "max    2359.0\n",
       "Name: CollisionTime, dtype: float64"
      ]
     },
     "execution_count": 25,
     "metadata": {},
     "output_type": "execute_result"
    }
   ],
   "source": [
    "df2['CollisionTime']\n",
    "CT2.agg((\"min\", \"max\"))"
   ]
  },
  {
   "cell_type": "code",
   "execution_count": 30,
   "metadata": {},
   "outputs": [
    {
     "data": {
      "text/plain": [
       "0        [23.0, 8.0]\n",
       "1         [9.0, 2.0]\n",
       "2         [9.0, 2.0]\n",
       "3       [15.0, 31.0]\n",
       "4       [19.0, 51.0]\n",
       "            ...     \n",
       "4896    [18.0, 55.0]\n",
       "4897     [1.0, 47.0]\n",
       "4898    [18.0, 47.0]\n",
       "4899    [20.0, 14.0]\n",
       "4900    [22.0, 10.0]\n",
       "Name: CollisionTime, Length: 4896, dtype: object"
      ]
     },
     "execution_count": 30,
     "metadata": {},
     "output_type": "execute_result"
    }
   ],
   "source": [
    "# CT2.apply(parse_CT)\n",
    "# This won't work because there are NaN in CT2\n",
    "CT2.dropna().apply(parse_CT)\n",
    "# Look for other places to put this .dropna in. Super useful.\n"
   ]
  }
 ],
 "metadata": {
  "kernelspec": {
   "display_name": "Python 3",
   "language": "python",
   "name": "python3"
  },
  "language_info": {
   "codemirror_mode": {
    "name": "ipython",
    "version": 3
   },
   "file_extension": ".py",
   "mimetype": "text/x-python",
   "name": "python",
   "nbconvert_exporter": "python",
   "pygments_lexer": "ipython3",
   "version": "3.11.1"
  },
  "orig_nbformat": 4
 },
 "nbformat": 4,
 "nbformat_minor": 2
}
